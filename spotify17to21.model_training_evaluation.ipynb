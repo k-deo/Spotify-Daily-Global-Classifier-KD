{
 "cells": [
  {
   "cell_type": "markdown",
   "metadata": {},
   "source": [
    "# Project Name: Spotify 2017-2021 Daily Global Top 200 Analysis\n",
    "**Project Scope:** Exploring Spotify 2017-2021 Daily Global Top 200 Data to Unearth Trends, Insights, and Business Value.\n",
    "\n",
    "**Data Source:** https://www.kaggle.com/c0lydxmas/spotify-top-200-daily-global-2017-2021\n",
    "\n",
    "**By:** Krishan Deo\n",
    "\n",
    "**Date:** May 23rd, 2022\n",
    "\n",
    "The following cells outline the final Model Training and Evaluation sections of the project. The 2017, 2018, 2019, 2020, and 2021 datasets were used to train and evaluate 5 Binary Random Forest Classifiers and 5 Binary Neural Network Perceptron Classifiers. There is also a demonstration of the effectiveness of Hyperparameter Tuning. Finally, the insights and takeaways from this project are summarized using Feature Importances and Reflective Learnings.\n",
    "\n",
    "* Note: the chosen performance metric was \"Area Under the ROC Curve\", and the threshold for acceptable performance was set at 80% AUC as per common online community consensus (ex: https://www.sciencedirect.com/science/article/pii/S1556086415306043#:~:text=In%20general%2C%20an%20AUC%20of,than%200.9%20is%20considered%20outstanding.)\n",
    "\n",
    "* From article above: \"...In general, an AUC of 0.5 suggests no discrimination (i.e., ability to diagnose patients with and without the disease or condition based on the test), 0.7 to 0.8 is considered acceptable, **0.8 to 0.9 is considered excellent**, and more than 0.9 is considered outstanding...\""
   ]
  },
  {
   "cell_type": "markdown",
   "metadata": {},
   "source": [
    "### Initializing Local Spark Environment (IBM Cloud Deprecated Python 3.7)\n",
    "* Spark Environment Intialized"
   ]
  },
  {
   "cell_type": "code",
   "execution_count": 1,
   "metadata": {},
   "outputs": [
    {
     "name": "stdout",
     "output_type": "stream",
     "text": [
      "/opt/conda/envs/Python-3.7-OpenCE/lib/python3.7/site-packages/secretstorage/dhcrypto.py:16: CryptographyDeprecationWarning: int_from_bytes is deprecated, use int.from_bytes instead\n",
      "  from cryptography.utils import int_from_bytes\n",
      "/opt/conda/envs/Python-3.7-OpenCE/lib/python3.7/site-packages/secretstorage/util.py:25: CryptographyDeprecationWarning: int_from_bytes is deprecated, use int.from_bytes instead\n",
      "  from cryptography.utils import int_from_bytes\n",
      "Collecting pyspark==2.4.5\n",
      "  Downloading pyspark-2.4.5.tar.gz (217.8 MB)\n",
      "\u001b[K     |████████████████████████████████| 217.8 MB 11 kB/s s eta 0:00:01��█▎            | 130.9 MB 44.2 MB/s eta 0:00:02��███████████▌| 214.4 MB 48.4 MB/s eta 0:00:01\n",
      "\u001b[?25hCollecting py4j==0.10.7\n",
      "  Downloading py4j-0.10.7-py2.py3-none-any.whl (197 kB)\n",
      "\u001b[K     |████████████████████████████████| 197 kB 40.3 MB/s eta 0:00:01\n",
      "\u001b[?25hBuilding wheels for collected packages: pyspark\n",
      "  Building wheel for pyspark (setup.py) ... \u001b[?25ldone\n",
      "\u001b[?25h  Created wheel for pyspark: filename=pyspark-2.4.5-py2.py3-none-any.whl size=218257928 sha256=8ee02c1ce99f50941be4c3f6137c31c401587032b03702be8b8c47b350d116d4\n",
      "  Stored in directory: /tmp/wsuser/.cache/pip/wheels/01/c0/03/1c241c9c482b647d4d99412a98a5c7f87472728ad41ae55e1e\n",
      "Successfully built pyspark\n",
      "Installing collected packages: py4j, pyspark\n",
      "Successfully installed py4j-0.10.7 pyspark-2.4.5\n"
     ]
    },
    {
     "name": "stderr",
     "output_type": "stream",
     "text": [
      "22/04/05 00:26:11 WARN NativeCodeLoader: Unable to load native-hadoop library for your platform... using builtin-java classes where applicable\n",
      "Using Spark's default log4j profile: org/apache/spark/log4j-defaults.properties\n",
      "Setting default log level to \"WARN\".\n",
      "To adjust logging level use sc.setLogLevel(newLevel). For SparkR, use setLogLevel(newLevel).\n"
     ]
    }
   ],
   "source": [
    "# Local Spark Environment\n",
    "\n",
    "from IPython.display import Markdown, display\n",
    "def printmd(string):\n",
    "    display(Markdown('# <span style=\"color:red\">'+string+'</span>'))\n",
    "\n",
    "\n",
    "if ('sc' in locals() or 'sc' in globals()):\n",
    "    printmd('<<<<<!!!!! It seems that you are running in a IBM Watson Studio Apache Spark Notebook. Please run it in an IBM Watson Studio Default Runtime (without Apache Spark) !!!!!>>>>>')\n",
    "\n",
    "!pip install pyspark==2.4.5\n",
    "\n",
    "try:\n",
    "    from pyspark import SparkContext, SparkConf\n",
    "    from pyspark.sql import SparkSession\n",
    "except ImportError as e:\n",
    "    printmd('<<<<<!!!!! Please restart your kernel after installing Apache Spark !!!!!>>>>>')\n",
    "    \n",
    "sc = SparkContext.getOrCreate(SparkConf().setMaster(\"local[*]\"))\n",
    "\n",
    "spark = SparkSession \\\n",
    "    .builder \\\n",
    "    .getOrCreate()\n",
    "\n",
    "spark.conf.set(\"spark.debug.maxToStringFields\",\"true\")"
   ]
  },
  {
   "cell_type": "markdown",
   "metadata": {},
   "source": [
    "### Object Store Access Credentials\n",
    "* Credentials Removed for Privacy and Security"
   ]
  },
  {
   "cell_type": "code",
   "execution_count": 2,
   "metadata": {},
   "outputs": [],
   "source": [
    "import os, types\n",
    "import pandas as pd\n",
    "from botocore.client import Config\n",
    "import ibm_boto3\n",
    "\n",
    "def __iter__(self): return 0\n",
    "\n",
    "# @hidden_cell\n",
    "# The following code accesses a file in your IBM Cloud Object Storage. It includes your credentials.\n",
    "# You might want to remove those credentials before you share the notebook.\n",
    "client_ffa959d2c80941dba05e8ff594f32acd = ibm_boto3.client(service_name='',\n",
    "    ibm_api_key_id='',\n",
    "    ibm_auth_endpoint=\"\",\n",
    "    config=Config(signature_version=''),\n",
    "    endpoint_url='')"
   ]
  },
  {
   "cell_type": "markdown",
   "metadata": {},
   "source": [
    "### Defining, Training, and Evaluating Random Forest Models for 2017, 2018, 2019, 2020, 2021 Datasets\n",
    "The following section details the training and evaluation of 5 different Random Forest models - one each for the years 2017, 2018, 2019, 2020, and 2021. A 70/30 Train-Test split was used for these models. The performance results of these models using AUC are below. As can be seen, there is no overfitting. Finally, for each model, the feature importances were extracted to inform actionable insights and recommendations, and also to guide future improvements to the models via feature selection. \n",
    "\n",
    "**2017 Training Set:** 86.1%\n",
    "<br>**2017 Test Set:** 85.2%\n",
    "<br>**2018 Training Set:** 84.3%\n",
    "<br>**2018 Test Set:** 83.4%\n",
    "<br>**2019 Training Set:** 83.9%\n",
    "<br>**2019 Test Set:** 82.5%\n",
    "<br>**2020 Training Set:** 81.7%\n",
    "<br>**2020 Test Set:** 80.4%\n",
    "<br>**2021 Training Set:** 84.8%\n",
    "<br>**2021 Test Set:** 83.5%"
   ]
  },
  {
   "cell_type": "code",
   "execution_count": null,
   "metadata": {},
   "outputs": [],
   "source": [
    "# RF 70/30 - Model and Pipeline Definitions\n",
    "\n",
    "# Imports\n",
    "\n",
    "from pyspark.ml.feature import StringIndexer, VectorIndexer, MinMaxScaler, VectorAssembler\n",
    "from pyspark.ml import Pipeline\n",
    "from pyspark.ml.tuning import ParamGridBuilder\n",
    "from pyspark.ml.classification import LinearSVC, RandomForestClassifier\n",
    "from pyspark.ml.linalg import Vectors\n",
    "from pyspark.ml.evaluation import BinaryClassificationEvaluator\n",
    "\n",
    "# Label Choice\n",
    "\n",
    "labelchoice = 'binary_performance_bin'\n",
    "\n",
    "# Define Evaluator\n",
    "\n",
    "evaluator = BinaryClassificationEvaluator(rawPredictionCol=\"rawPrediction\")\n",
    "\n",
    "# Pipeline Definitions\n",
    "\n",
    "indexer = StringIndexer(inputCol=labelchoice, outputCol=\"label\", stringOrderType=\"frequencyDesc\")\n",
    "\n",
    "indexer1 = StringIndexer(inputCol='key', outputCol=\"key_indexed\", stringOrderType=\"frequencyDesc\", handleInvalid='keep')\n",
    "indexer2 = StringIndexer(inputCol='time_signature', outputCol=\"timesig_indexed\", stringOrderType=\"frequencyDesc\", handleInvalid='keep')\n",
    "indexer3 = StringIndexer(inputCol='artistname', outputCol=\"artistname_indexed\", stringOrderType=\"frequencyDesc\", handleInvalid='keep')\n",
    "indexer4 = StringIndexer(inputCol='albumtype', outputCol=\"albumtype_indexed\", stringOrderType=\"frequencyDesc\", handleInvalid='keep')\n",
    "indexer6 = StringIndexer(inputCol='featuredartist', outputCol=\"featuredartist_indexed\", stringOrderType=\"frequencyDesc\", handleInvalid='keep')\n",
    "indexer7 = StringIndexer(inputCol='featuredartist2', outputCol=\"featuredartist2_indexed\", stringOrderType=\"frequencyDesc\", handleInvalid='keep')\n",
    "indexer8 = StringIndexer(inputCol='featuredartist3', outputCol=\"featuredartist3_indexed\", stringOrderType=\"frequencyDesc\", handleInvalid='keep')\n",
    "indexer9 = StringIndexer(inputCol='primary_genre', outputCol=\"primary_genre_indexed\", stringOrderType=\"frequencyDesc\", handleInvalid='keep')\n",
    "indexer10 = StringIndexer(inputCol='secondary_genre', outputCol=\"secondary_genre_indexed\", stringOrderType=\"frequencyDesc\", handleInvalid='keep')\n",
    "indexer11 = StringIndexer(inputCol='genre3', outputCol=\"genre3_indexed\", stringOrderType=\"frequencyDesc\", handleInvalid='keep')\n",
    "indexer12 = StringIndexer(inputCol='genre4', outputCol=\"genre4_indexed\", stringOrderType=\"frequencyDesc\", handleInvalid='keep')\n",
    "indexer13 = StringIndexer(inputCol='genre5', outputCol=\"genre5_indexed\", stringOrderType=\"frequencyDesc\", handleInvalid='keep')\n",
    "indexer14 = StringIndexer(inputCol='genre6', outputCol=\"genre6_indexed\", stringOrderType=\"frequencyDesc\", handleInvalid='keep')\n",
    "indexer15 = StringIndexer(inputCol='genre7', outputCol=\"genre7_indexed\", stringOrderType=\"frequencyDesc\", handleInvalid='keep')\n",
    "indexer16 = StringIndexer(inputCol='genre8', outputCol=\"genre8_indexed\", stringOrderType=\"frequencyDesc\", handleInvalid='keep')\n",
    "indexer17 = StringIndexer(inputCol='genre9', outputCol=\"genre9_indexed\", stringOrderType=\"frequencyDesc\", handleInvalid='keep')\n",
    "indexer18 = StringIndexer(inputCol='genre10', outputCol=\"genre10_indexed\", stringOrderType=\"frequencyDesc\", handleInvalid='keep')\n",
    "indexer19 = StringIndexer(inputCol='genre11', outputCol=\"genre11_indexed\", stringOrderType=\"frequencyDesc\", handleInvalid='keep')\n",
    "indexer20 = StringIndexer(inputCol='genre12', outputCol=\"genre12_indexed\", stringOrderType=\"frequencyDesc\", handleInvalid='keep')\n",
    "\n",
    "vectAssem1 = VectorAssembler(inputCols=['tempo'], outputCol=\"tempoassem\")\n",
    "vectAssem2 = VectorAssembler(inputCols=['duration_ms'], outputCol=\"durationassem\")\n",
    "\n",
    "normalizer1 = MinMaxScaler(inputCol=\"tempoassem\", outputCol=\"scaled_tempo\")\n",
    "\n",
    "normalizer2 = MinMaxScaler(inputCol=\"durationassem\", outputCol=\"scaled_duration\")\n",
    "\n",
    "finalVectorAssembler = VectorAssembler(inputCols=['danceability','energy','loudness','mode','speechiness','acousticness','instrumentalness','liveness','valence','scaled_tempo','scaled_duration','explicit','has_feature','multigenre','key_indexed','timesig_indexed','artistname_indexed','albumtype_indexed','featuredartist_indexed','featuredartist2_indexed','featuredartist3_indexed',\"primary_genre_indexed\",\"secondary_genre_indexed\",\"genre3_indexed\",\"genre4_indexed\",\"genre5_indexed\",\"genre6_indexed\",\"genre7_indexed\",\"genre8_indexed\",\"genre9_indexed\",\"genre10_indexed\",\"genre11_indexed\",\"genre12_indexed\"], outputCol=\"features\")\n",
    "\n",
    "# Define Random Forest\n",
    "\n",
    "rf1 = RandomForestClassifier(labelCol=\"label\", featuresCol=\"features\", numTrees=400, maxDepth=8,maxBins=1000)\n",
    "rf2 = RandomForestClassifier(labelCol=\"label\", featuresCol=\"features\", numTrees=400, maxDepth=8,maxBins=1000)\n",
    "rf3 = RandomForestClassifier(labelCol=\"label\", featuresCol=\"features\", numTrees=400, maxDepth=8,maxBins=1000)\n",
    "rf4 = RandomForestClassifier(labelCol=\"label\", featuresCol=\"features\", numTrees=400, maxDepth=8,maxBins=1000)\n",
    "rf5 = RandomForestClassifier(labelCol=\"label\", featuresCol=\"features\", numTrees=400, maxDepth=8,maxBins=1000)\n",
    "\n",
    "# Define Pipeline\n",
    "\n",
    "pipeline1 = Pipeline(stages=[indexer,indexer1,indexer2,indexer3,indexer4,indexer6,indexer7,indexer8,indexer9,indexer10,indexer11,indexer12,indexer13,indexer14,indexer15,indexer16,indexer17,indexer18,indexer19,indexer20,vectAssem1,vectAssem2,normalizer1,normalizer2,finalVectorAssembler,rf1])\n",
    "pipeline2 = Pipeline(stages=[indexer,indexer1,indexer2,indexer3,indexer4,indexer6,indexer7,indexer8,indexer9,indexer10,indexer11,indexer12,indexer13,indexer14,indexer15,indexer16,indexer17,indexer18,indexer19,indexer20,vectAssem1,vectAssem2,normalizer1,normalizer2,finalVectorAssembler,rf2])\n",
    "pipeline3 = Pipeline(stages=[indexer,indexer1,indexer2,indexer3,indexer4,indexer6,indexer7,indexer8,indexer9,indexer10,indexer11,indexer12,indexer13,indexer14,indexer15,indexer16,indexer17,indexer18,indexer19,indexer20,vectAssem1,vectAssem2,normalizer1,normalizer2,finalVectorAssembler,rf3])\n",
    "pipeline4 = Pipeline(stages=[indexer,indexer1,indexer2,indexer3,indexer4,indexer6,indexer7,indexer8,indexer9,indexer10,indexer11,indexer12,indexer13,indexer14,indexer15,indexer16,indexer17,indexer18,indexer19,indexer20,vectAssem1,vectAssem2,normalizer1,normalizer2,finalVectorAssembler,rf4])\n",
    "pipeline5 = Pipeline(stages=[indexer,indexer1,indexer2,indexer3,indexer4,indexer6,indexer7,indexer8,indexer9,indexer10,indexer11,indexer12,indexer13,indexer14,indexer15,indexer16,indexer17,indexer18,indexer19,indexer20,vectAssem1,vectAssem2,normalizer1,normalizer2,finalVectorAssembler,rf5])\n"
   ]
  },
  {
   "cell_type": "markdown",
   "metadata": {},
   "source": [
    "#### Load 2017 Data"
   ]
  },
  {
   "cell_type": "code",
   "execution_count": 4,
   "metadata": {},
   "outputs": [],
   "source": [
    "body = client_ffa959d2c80941dba05e8ff594f32acd.get_object(Bucket='',Key='2017_full_2.csv')['Body']\n",
    "# add missing __iter__ method, so pandas accepts body as file-like object\n",
    "if not hasattr(body, \"__iter__\"): body.__iter__ = types.MethodType( __iter__, body )\n",
    "\n",
    "df_data_1 = pd.read_csv(body)\n",
    "\n",
    "# Drop Extraneous Columns, Cast Features to Correct Type\n",
    "\n",
    "df_data_1 = df_data_1.drop(columns=['Unnamed: 0'])\n",
    "df_data_1 = df_data_1.rename(columns={\"album.album_type\": \"albumtype\", \"album.name\": \"albumname\", \"album.release_date_precision\": \"albumdateprecision\" })\n",
    "df_data_1[['artistname','featuredartist','featuredartist2','featuredartist3','primary_genre','secondary_genre','genre3','genre4','genre5','genre6','genre7','genre8','genre9','genre10','genre11','genre12','binary_performance_bin','albumname']] = df_data_1[['artistname','featuredartist','featuredartist2','featuredartist3','primary_genre','secondary_genre','genre3','genre4','genre5','genre6','genre7','genre8','genre9','genre10','genre11','genre12','binary_performance_bin','albumname']].astype(str)\n",
    "df_data_1[['explicit', 'has_feature','duration_ms']] = df_data_1[['explicit', 'has_feature','duration_ms']].astype(int)\n",
    "df_data_1[['tempo']] = df_data_1[['tempo']].astype(float)"
   ]
  },
  {
   "cell_type": "markdown",
   "metadata": {},
   "source": [
    "#### Train 2017 Random Forest Model"
   ]
  },
  {
   "cell_type": "code",
   "execution_count": 5,
   "metadata": {
    "scrolled": false
   },
   "outputs": [
    {
     "name": "stderr",
     "output_type": "stream",
     "text": [
      "[Stage 0:>                                                          (0 + 0) / 1]22/04/05 00:26:36 WARN TaskSetManager: Stage 0 contains a task of very large size (7312 KB). The maximum recommended task size is 100 KB.\n",
      "22/04/05 00:26:52 WARN TaskSetManager: Stage 2 contains a task of very large size (7312 KB). The maximum recommended task size is 100 KB.\n",
      "22/04/05 00:26:56 WARN TaskSetManager: Stage 4 contains a task of very large size (7312 KB). The maximum recommended task size is 100 KB.\n",
      "22/04/05 00:26:59 WARN TaskSetManager: Stage 6 contains a task of very large size (7312 KB). The maximum recommended task size is 100 KB.\n",
      "22/04/05 00:27:03 WARN TaskSetManager: Stage 8 contains a task of very large size (7312 KB). The maximum recommended task size is 100 KB.\n",
      "22/04/05 00:27:06 WARN TaskSetManager: Stage 10 contains a task of very large size (7312 KB). The maximum recommended task size is 100 KB.\n",
      "22/04/05 00:27:09 WARN TaskSetManager: Stage 12 contains a task of very large size (7312 KB). The maximum recommended task size is 100 KB.\n",
      "22/04/05 00:27:11 WARN TaskSetManager: Stage 14 contains a task of very large size (7312 KB). The maximum recommended task size is 100 KB.\n",
      "22/04/05 00:27:13 WARN TaskSetManager: Stage 16 contains a task of very large size (7312 KB). The maximum recommended task size is 100 KB.\n",
      "22/04/05 00:27:16 WARN TaskSetManager: Stage 18 contains a task of very large size (7312 KB). The maximum recommended task size is 100 KB.\n",
      "22/04/05 00:27:19 WARN TaskSetManager: Stage 20 contains a task of very large size (7312 KB). The maximum recommended task size is 100 KB.\n",
      "22/04/05 00:27:21 WARN TaskSetManager: Stage 22 contains a task of very large size (7312 KB). The maximum recommended task size is 100 KB.\n",
      "22/04/05 00:27:23 WARN TaskSetManager: Stage 24 contains a task of very large size (7312 KB). The maximum recommended task size is 100 KB.\n",
      "22/04/05 00:27:25 WARN TaskSetManager: Stage 26 contains a task of very large size (7312 KB). The maximum recommended task size is 100 KB.\n",
      "22/04/05 00:27:27 WARN TaskSetManager: Stage 28 contains a task of very large size (7312 KB). The maximum recommended task size is 100 KB.\n",
      "22/04/05 00:27:28 WARN TaskSetManager: Stage 30 contains a task of very large size (7312 KB). The maximum recommended task size is 100 KB.\n",
      "22/04/05 00:27:30 WARN TaskSetManager: Stage 32 contains a task of very large size (7312 KB). The maximum recommended task size is 100 KB.\n",
      "22/04/05 00:27:32 WARN TaskSetManager: Stage 34 contains a task of very large size (7312 KB). The maximum recommended task size is 100 KB.\n",
      "22/04/05 00:27:33 WARN TaskSetManager: Stage 36 contains a task of very large size (7312 KB). The maximum recommended task size is 100 KB.\n",
      "22/04/05 00:27:35 WARN TaskSetManager: Stage 38 contains a task of very large size (7312 KB). The maximum recommended task size is 100 KB.\n",
      "22/04/05 00:27:37 WARN TaskSetManager: Stage 40 contains a task of very large size (7312 KB). The maximum recommended task size is 100 KB.\n",
      "22/04/05 00:27:40 WARN TaskSetManager: Stage 41 contains a task of very large size (7312 KB). The maximum recommended task size is 100 KB.\n",
      "22/04/05 00:27:42 WARN Utils: Truncated the string representation of a plan since it was too large. This behavior can be adjusted by setting 'spark.debug.maxToStringFields' in SparkEnv.conf.\n",
      "22/04/05 00:27:42 WARN TaskSetManager: Stage 42 contains a task of very large size (7312 KB). The maximum recommended task size is 100 KB.\n",
      "22/04/05 00:27:47 WARN TaskSetManager: Stage 43 contains a task of very large size (7312 KB). The maximum recommended task size is 100 KB.\n",
      "22/04/05 00:27:48 WARN TaskSetManager: Stage 44 contains a task of very large size (7312 KB). The maximum recommended task size is 100 KB.\n",
      "22/04/05 00:27:54 WARN TaskSetManager: Stage 45 contains a task of very large size (7312 KB). The maximum recommended task size is 100 KB.\n",
      "22/04/05 00:27:59 WARN TaskSetManager: Stage 47 contains a task of very large size (7312 KB). The maximum recommended task size is 100 KB.\n",
      "22/04/05 00:28:15 WARN TaskSetManager: Stage 49 contains a task of very large size (7312 KB). The maximum recommended task size is 100 KB.\n",
      "22/04/05 00:28:24 WARN TaskSetManager: Stage 51 contains a task of very large size (7312 KB). The maximum recommended task size is 100 KB.\n",
      "22/04/05 00:28:37 WARN TaskSetManager: Stage 53 contains a task of very large size (7312 KB). The maximum recommended task size is 100 KB.\n",
      "22/04/05 00:28:56 WARN TaskSetManager: Stage 55 contains a task of very large size (7312 KB). The maximum recommended task size is 100 KB.\n",
      "22/04/05 00:29:21 WARN TaskSetManager: Stage 57 contains a task of very large size (7312 KB). The maximum recommended task size is 100 KB.\n",
      "22/04/05 00:29:50 WARN TaskSetManager: Stage 59 contains a task of very large size (7312 KB). The maximum recommended task size is 100 KB.\n",
      "22/04/05 00:30:26 WARN TaskSetManager: Stage 61 contains a task of very large size (7312 KB). The maximum recommended task size is 100 KB.\n",
      "22/04/05 00:31:01 WARN TaskSetManager: Stage 63 contains a task of very large size (7312 KB). The maximum recommended task size is 100 KB.\n",
      "22/04/05 00:31:10 WARN TaskSetManager: Stage 65 contains a task of very large size (7312 KB). The maximum recommended task size is 100 KB.\n",
      "[Stage 65:>                                                         (0 + 1) / 1]"
     ]
    },
    {
     "name": "stdout",
     "output_type": "stream",
     "text": [
      "RandomForestClassificationModel (uid=RandomForestClassifier_96f1f41cfda3) with 400 trees\n"
     ]
    },
    {
     "name": "stderr",
     "output_type": "stream",
     "text": [
      "\r",
      "                                                                                \r"
     ]
    }
   ],
   "source": [
    "df1 = df_data_1[['danceability','energy','loudness','mode','speechiness','acousticness','instrumentalness','liveness','valence','tempo','duration_ms','explicit','has_feature','multigenre','key','time_signature','artistname','albumtype','featuredartist','featuredartist2','featuredartist3','primary_genre','secondary_genre','genre3','genre4','genre5','genre6','genre7','genre8','genre9','genre10','genre11','genre12',labelchoice]]\n",
    "df_spark_1 = spark.createDataFrame(df1)\n",
    "train1, test1 = df_spark_1.randomSplit([0.7, 0.3])\n",
    "\n",
    "model1 = pipeline1.fit(train1)\n",
    "print(model1.stages[-1])"
   ]
  },
  {
   "cell_type": "markdown",
   "metadata": {},
   "source": [
    "#### Evaluate AUC Performance on Training Set - 2017"
   ]
  },
  {
   "cell_type": "code",
   "execution_count": 6,
   "metadata": {},
   "outputs": [
    {
     "name": "stderr",
     "output_type": "stream",
     "text": [
      "22/04/05 00:31:14 WARN TaskSetManager: Stage 66 contains a task of very large size (7312 KB). The maximum recommended task size is 100 KB.\n",
      "22/04/05 00:31:18 WARN TaskSetManager: Stage 67 contains a task of very large size (7312 KB). The maximum recommended task size is 100 KB.\n",
      "                                                                                \r"
     ]
    },
    {
     "data": {
      "text/plain": [
       "0.8610130094956129"
      ]
     },
     "execution_count": 6,
     "metadata": {},
     "output_type": "execute_result"
    }
   ],
   "source": [
    "prediction1 = model1.transform(train1)\n",
    "\n",
    "evaluator.evaluate(prediction1)"
   ]
  },
  {
   "cell_type": "markdown",
   "metadata": {},
   "source": [
    "#### Evaluate AUC Performance on Test Set - 2017"
   ]
  },
  {
   "cell_type": "code",
   "execution_count": 7,
   "metadata": {},
   "outputs": [
    {
     "name": "stderr",
     "output_type": "stream",
     "text": [
      "22/04/05 00:31:40 WARN TaskSetManager: Stage 76 contains a task of very large size (7312 KB). The maximum recommended task size is 100 KB.\n",
      "22/04/05 00:31:43 WARN TaskSetManager: Stage 77 contains a task of very large size (7312 KB). The maximum recommended task size is 100 KB.\n",
      "                                                                                \r"
     ]
    },
    {
     "data": {
      "text/plain": [
       "0.8519631142024798"
      ]
     },
     "execution_count": 7,
     "metadata": {},
     "output_type": "execute_result"
    }
   ],
   "source": [
    "prediction_test1 = model1.transform(test1)\n",
    "\n",
    "evaluator.evaluate(prediction_test1)"
   ]
  },
  {
   "cell_type": "markdown",
   "metadata": {},
   "source": [
    "#### Extract Feature Importances from 2017 Random Forest Model"
   ]
  },
  {
   "cell_type": "code",
   "execution_count": 8,
   "metadata": {},
   "outputs": [
    {
     "data": {
      "text/plain": [
       "[('featuredartist_indexed', 0.12089635213898595),\n",
       " ('artistname_indexed', 0.11801685483578726),\n",
       " ('valence', 0.07442933214429594),\n",
       " ('primary_genre_indexed', 0.06747519109844315),\n",
       " ('scaled_tempo', 0.054647641783801715),\n",
       " ('scaled_duration', 0.050353499502670075),\n",
       " ('energy', 0.049571204254748556),\n",
       " ('loudness', 0.04817503539880609),\n",
       " ('speechiness', 0.04490150272297765),\n",
       " ('acousticness', 0.043189136619170565),\n",
       " ('danceability', 0.04201119138560258),\n",
       " ('liveness', 0.04177408376133742),\n",
       " ('featuredartist2_indexed', 0.031119061476326208),\n",
       " ('genre3_indexed', 0.02861137983152878),\n",
       " ('key_indexed', 0.025447940955373238),\n",
       " ('instrumentalness', 0.021796695420640118),\n",
       " ('genre5_indexed', 0.02114490180778883),\n",
       " ('secondary_genre_indexed', 0.020453458298476838),\n",
       " ('genre4_indexed', 0.01728270276074883),\n",
       " ('genre6_indexed', 0.015824865946086324),\n",
       " ('albumtype_indexed', 0.013093005253676423),\n",
       " ('genre7_indexed', 0.012304169062368506),\n",
       " ('genre9_indexed', 0.008992447788354972),\n",
       " ('has_feature', 0.006137877287316309),\n",
       " ('featuredartist3_indexed', 0.00535559004469445),\n",
       " ('genre8_indexed', 0.004880336494862459),\n",
       " ('explicit', 0.0034622737446074496),\n",
       " ('multigenre', 0.0031315797596523426),\n",
       " ('mode', 0.0030448656337491928),\n",
       " ('timesig_indexed', 0.0013886644933706251),\n",
       " ('genre10_indexed', 0.0010694267736665285),\n",
       " ('genre11_indexed', 1.7731520084669037e-05),\n",
       " ('genre12_indexed', 0.0)]"
      ]
     },
     "execution_count": 8,
     "metadata": {},
     "output_type": "execute_result"
    }
   ],
   "source": [
    "### FEATURE IMPORTANCES - 2017\n",
    "\n",
    "va = model1.stages[-2]\n",
    "\n",
    "tree = model1.stages[-1]\n",
    "\n",
    "featureImportanceList = list(zip(va.getInputCols(), tree.featureImportances))\n",
    "\n",
    "featureImportanceList.sort(key=lambda tup: tup[1], reverse=True)\n",
    "\n",
    "featureImportanceList"
   ]
  },
  {
   "cell_type": "markdown",
   "metadata": {},
   "source": [
    "#### Load 2018 Data"
   ]
  },
  {
   "cell_type": "code",
   "execution_count": 9,
   "metadata": {},
   "outputs": [],
   "source": [
    "body = client_ffa959d2c80941dba05e8ff594f32acd.get_object(Bucket='',Key='2018_full_2.csv')['Body']\n",
    "# add missing __iter__ method, so pandas accepts body as file-like object\n",
    "if not hasattr(body, \"__iter__\"): body.__iter__ = types.MethodType( __iter__, body )\n",
    "\n",
    "df_data_2 = pd.read_csv(body)\n",
    "\n",
    "# Drop Extraneous Columns, Cast Features to Correct Type\n",
    "\n",
    "df_data_2 = df_data_2.drop(columns=['Unnamed: 0'])\n",
    "df_data_2 = df_data_2.rename(columns={\"album.album_type\": \"albumtype\", \"album.name\": \"albumname\", \"album.release_date_precision\": \"albumdateprecision\" })\n",
    "df_data_2[['artistname','featuredartist','featuredartist2','featuredartist3','primary_genre','secondary_genre','genre3','genre4','genre5','genre6','genre7','genre8','genre9','genre10','genre11','genre12','binary_performance_bin','albumname']] = df_data_2[['artistname','featuredartist','featuredartist2','featuredartist3','primary_genre','secondary_genre','genre3','genre4','genre5','genre6','genre7','genre8','genre9','genre10','genre11','genre12','binary_performance_bin','albumname']].astype(str)\n",
    "df_data_2[['explicit', 'has_feature','duration_ms']] = df_data_2[['explicit', 'has_feature','duration_ms']].astype(int)\n",
    "df_data_2[['tempo']] = df_data_2[['tempo']].astype(float)"
   ]
  },
  {
   "cell_type": "markdown",
   "metadata": {},
   "source": [
    "#### Train 2018 Random Forest Model"
   ]
  },
  {
   "cell_type": "code",
   "execution_count": 10,
   "metadata": {},
   "outputs": [
    {
     "name": "stderr",
     "output_type": "stream",
     "text": [
      "22/04/05 00:32:01 WARN TaskSetManager: Stage 86 contains a task of very large size (6280 KB). The maximum recommended task size is 100 KB.\n",
      "22/04/05 00:32:05 WARN TaskSetManager: Stage 88 contains a task of very large size (6280 KB). The maximum recommended task size is 100 KB.\n",
      "22/04/05 00:32:06 WARN TaskSetManager: Stage 90 contains a task of very large size (6280 KB). The maximum recommended task size is 100 KB.\n",
      "22/04/05 00:32:08 WARN TaskSetManager: Stage 92 contains a task of very large size (6280 KB). The maximum recommended task size is 100 KB.\n",
      "22/04/05 00:32:10 WARN TaskSetManager: Stage 94 contains a task of very large size (6280 KB). The maximum recommended task size is 100 KB.\n",
      "22/04/05 00:32:11 WARN TaskSetManager: Stage 96 contains a task of very large size (6280 KB). The maximum recommended task size is 100 KB.\n",
      "22/04/05 00:32:12 WARN TaskSetManager: Stage 98 contains a task of very large size (6280 KB). The maximum recommended task size is 100 KB.\n",
      "22/04/05 00:32:14 WARN TaskSetManager: Stage 100 contains a task of very large size (6280 KB). The maximum recommended task size is 100 KB.\n",
      "22/04/05 00:32:15 WARN TaskSetManager: Stage 102 contains a task of very large size (6280 KB). The maximum recommended task size is 100 KB.\n",
      "22/04/05 00:32:16 WARN TaskSetManager: Stage 104 contains a task of very large size (6280 KB). The maximum recommended task size is 100 KB.\n",
      "22/04/05 00:32:17 WARN TaskSetManager: Stage 106 contains a task of very large size (6280 KB). The maximum recommended task size is 100 KB.\n",
      "22/04/05 00:32:19 WARN TaskSetManager: Stage 108 contains a task of very large size (6280 KB). The maximum recommended task size is 100 KB.\n",
      "22/04/05 00:32:20 WARN TaskSetManager: Stage 110 contains a task of very large size (6280 KB). The maximum recommended task size is 100 KB.\n",
      "22/04/05 00:32:21 WARN TaskSetManager: Stage 112 contains a task of very large size (6280 KB). The maximum recommended task size is 100 KB.\n",
      "22/04/05 00:32:22 WARN TaskSetManager: Stage 114 contains a task of very large size (6280 KB). The maximum recommended task size is 100 KB.\n",
      "22/04/05 00:32:24 WARN TaskSetManager: Stage 116 contains a task of very large size (6280 KB). The maximum recommended task size is 100 KB.\n",
      "22/04/05 00:32:26 WARN TaskSetManager: Stage 118 contains a task of very large size (6280 KB). The maximum recommended task size is 100 KB.\n",
      "22/04/05 00:32:27 WARN TaskSetManager: Stage 120 contains a task of very large size (6280 KB). The maximum recommended task size is 100 KB.\n",
      "22/04/05 00:32:28 WARN TaskSetManager: Stage 122 contains a task of very large size (6280 KB). The maximum recommended task size is 100 KB.\n",
      "22/04/05 00:32:29 WARN TaskSetManager: Stage 124 contains a task of very large size (6280 KB). The maximum recommended task size is 100 KB.\n",
      "22/04/05 00:32:30 WARN TaskSetManager: Stage 126 contains a task of very large size (6280 KB). The maximum recommended task size is 100 KB.\n",
      "22/04/05 00:32:32 WARN TaskSetManager: Stage 127 contains a task of very large size (6280 KB). The maximum recommended task size is 100 KB.\n",
      "22/04/05 00:32:33 WARN TaskSetManager: Stage 128 contains a task of very large size (6280 KB). The maximum recommended task size is 100 KB.\n",
      "22/04/05 00:32:35 WARN TaskSetManager: Stage 129 contains a task of very large size (6280 KB). The maximum recommended task size is 100 KB.\n",
      "22/04/05 00:32:36 WARN TaskSetManager: Stage 130 contains a task of very large size (6280 KB). The maximum recommended task size is 100 KB.\n",
      "22/04/05 00:32:39 WARN TaskSetManager: Stage 131 contains a task of very large size (6280 KB). The maximum recommended task size is 100 KB.\n",
      "22/04/05 00:32:41 WARN TaskSetManager: Stage 133 contains a task of very large size (6280 KB). The maximum recommended task size is 100 KB.\n",
      "22/04/05 00:32:49 WARN TaskSetManager: Stage 135 contains a task of very large size (6280 KB). The maximum recommended task size is 100 KB.\n",
      "22/04/05 00:32:58 WARN TaskSetManager: Stage 137 contains a task of very large size (6280 KB). The maximum recommended task size is 100 KB.\n",
      "22/04/05 00:33:10 WARN TaskSetManager: Stage 139 contains a task of very large size (6280 KB). The maximum recommended task size is 100 KB.\n",
      "22/04/05 00:33:26 WARN TaskSetManager: Stage 141 contains a task of very large size (6280 KB). The maximum recommended task size is 100 KB.\n",
      "22/04/05 00:33:48 WARN TaskSetManager: Stage 143 contains a task of very large size (6280 KB). The maximum recommended task size is 100 KB.\n",
      "22/04/05 00:34:18 WARN TaskSetManager: Stage 145 contains a task of very large size (6280 KB). The maximum recommended task size is 100 KB.\n",
      "22/04/05 00:34:52 WARN TaskSetManager: Stage 147 contains a task of very large size (6280 KB). The maximum recommended task size is 100 KB.\n",
      "22/04/05 00:35:22 WARN TaskSetManager: Stage 149 contains a task of very large size (6280 KB). The maximum recommended task size is 100 KB.\n",
      "22/04/05 00:35:39 WARN TaskSetManager: Stage 151 contains a task of very large size (6280 KB). The maximum recommended task size is 100 KB.\n",
      "22/04/05 00:35:43 WARN TaskSetManager: Stage 153 contains a task of very large size (6280 KB). The maximum recommended task size is 100 KB.\n",
      "[Stage 153:>                                                        (0 + 1) / 1]"
     ]
    },
    {
     "name": "stdout",
     "output_type": "stream",
     "text": [
      "RandomForestClassificationModel (uid=RandomForestClassifier_574bed3629da) with 400 trees\n"
     ]
    },
    {
     "name": "stderr",
     "output_type": "stream",
     "text": [
      "\r",
      "                                                                                \r"
     ]
    }
   ],
   "source": [
    "df2 = df_data_2[['danceability','energy','loudness','mode','speechiness','acousticness','instrumentalness','liveness','valence','tempo','duration_ms','explicit','has_feature','multigenre','key','time_signature','artistname','albumtype','featuredartist','featuredartist2','featuredartist3','primary_genre','secondary_genre','genre3','genre4','genre5','genre6','genre7','genre8','genre9','genre10','genre11','genre12',labelchoice]]\n",
    "df_spark_2 = spark.createDataFrame(df2)\n",
    "train2, test2 = df_spark_2.randomSplit([0.7, 0.3])\n",
    "\n",
    "model2 = pipeline2.fit(train2)\n",
    "print(model2.stages[-1])"
   ]
  },
  {
   "cell_type": "markdown",
   "metadata": {},
   "source": [
    "#### Evaluate AUC Performance on Training Set - 2018"
   ]
  },
  {
   "cell_type": "code",
   "execution_count": 11,
   "metadata": {},
   "outputs": [
    {
     "name": "stderr",
     "output_type": "stream",
     "text": [
      "22/04/05 00:35:45 WARN TaskSetManager: Stage 154 contains a task of very large size (6280 KB). The maximum recommended task size is 100 KB.\n",
      "22/04/05 00:35:47 WARN TaskSetManager: Stage 155 contains a task of very large size (6280 KB). The maximum recommended task size is 100 KB.\n",
      "                                                                                \r"
     ]
    },
    {
     "data": {
      "text/plain": [
       "0.8429730646966286"
      ]
     },
     "execution_count": 11,
     "metadata": {},
     "output_type": "execute_result"
    }
   ],
   "source": [
    "prediction2 = model2.transform(train2)\n",
    "\n",
    "evaluator.evaluate(prediction2)"
   ]
  },
  {
   "cell_type": "markdown",
   "metadata": {},
   "source": [
    "#### Evaluate AUC Performance on Test Set - 2018"
   ]
  },
  {
   "cell_type": "code",
   "execution_count": 12,
   "metadata": {},
   "outputs": [
    {
     "name": "stderr",
     "output_type": "stream",
     "text": [
      "22/04/05 00:36:04 WARN TaskSetManager: Stage 164 contains a task of very large size (6280 KB). The maximum recommended task size is 100 KB.\n",
      "[Stage 165:>                                                        (0 + 0) / 1]22/04/05 00:36:06 WARN TaskSetManager: Stage 165 contains a task of very large size (6280 KB). The maximum recommended task size is 100 KB.\n",
      "                                                                                \r"
     ]
    },
    {
     "data": {
      "text/plain": [
       "0.8336382462197244"
      ]
     },
     "execution_count": 12,
     "metadata": {},
     "output_type": "execute_result"
    }
   ],
   "source": [
    "prediction_test2 = model2.transform(test2)\n",
    "\n",
    "evaluator.evaluate(prediction_test2)"
   ]
  },
  {
   "cell_type": "markdown",
   "metadata": {},
   "source": [
    "#### Extract Feature Importances from 2018 Random Forest Model"
   ]
  },
  {
   "cell_type": "code",
   "execution_count": 13,
   "metadata": {},
   "outputs": [
    {
     "data": {
      "text/plain": [
       "[('featuredartist_indexed', 0.0965964373427954),\n",
       " ('artistname_indexed', 0.09130654080571043),\n",
       " ('scaled_duration', 0.07386499794794027),\n",
       " ('scaled_tempo', 0.06548739883621768),\n",
       " ('primary_genre_indexed', 0.06135834867889952),\n",
       " ('secondary_genre_indexed', 0.05988619015812627),\n",
       " ('valence', 0.05074422019689103),\n",
       " ('energy', 0.04752225156299827),\n",
       " ('liveness', 0.04394775664110691),\n",
       " ('danceability', 0.0435387849057678),\n",
       " ('loudness', 0.04298576536095064),\n",
       " ('speechiness', 0.041756007239414195),\n",
       " ('acousticness', 0.04102567883781726),\n",
       " ('instrumentalness', 0.04058565663374618),\n",
       " ('genre3_indexed', 0.039012817944818326),\n",
       " ('key_indexed', 0.03358403659621035),\n",
       " ('featuredartist2_indexed', 0.026663291449085327),\n",
       " ('genre4_indexed', 0.021423927819673085),\n",
       " ('genre5_indexed', 0.020604288538794344),\n",
       " ('genre6_indexed', 0.01184499656919268),\n",
       " ('genre8_indexed', 0.00936008447259307),\n",
       " ('albumtype_indexed', 0.008748031225523215),\n",
       " ('genre7_indexed', 0.007023838365200331),\n",
       " ('explicit', 0.006554310665108127),\n",
       " ('mode', 0.004290980624383644),\n",
       " ('has_feature', 0.002884053451132311),\n",
       " ('multigenre', 0.0024111885659794862),\n",
       " ('featuredartist3_indexed', 0.002095562483843233),\n",
       " ('genre10_indexed', 0.0013468627469778935),\n",
       " ('timesig_indexed', 0.0008620956068023213),\n",
       " ('genre9_indexed', 0.0005822097365898818),\n",
       " ('genre11_indexed', 0.00010138798971025633),\n",
       " ('genre12_indexed', 0.0)]"
      ]
     },
     "execution_count": 13,
     "metadata": {},
     "output_type": "execute_result"
    }
   ],
   "source": [
    "### FEATURE IMPORTANCE - 2018\n",
    "\n",
    "va = model2.stages[-2]\n",
    "\n",
    "tree = model2.stages[-1]\n",
    "\n",
    "featureImportanceList = list(zip(va.getInputCols(), tree.featureImportances))\n",
    "\n",
    "featureImportanceList.sort(key=lambda tup: tup[1], reverse=True)\n",
    "\n",
    "featureImportanceList"
   ]
  },
  {
   "cell_type": "markdown",
   "metadata": {},
   "source": [
    "#### Load 2019 Data"
   ]
  },
  {
   "cell_type": "code",
   "execution_count": 14,
   "metadata": {},
   "outputs": [],
   "source": [
    "body = client_ffa959d2c80941dba05e8ff594f32acd.get_object(Bucket='',Key='2019_full_2.csv')['Body']\n",
    "# add missing __iter__ method, so pandas accepts body as file-like object\n",
    "if not hasattr(body, \"__iter__\"): body.__iter__ = types.MethodType( __iter__, body )\n",
    "\n",
    "df_data_3 = pd.read_csv(body)\n",
    "\n",
    "# Drop Extraneous Columns, Cast Features to Correct Type\n",
    "\n",
    "df_data_3 = df_data_3.drop(columns=['Unnamed: 0'])\n",
    "df_data_3 = df_data_3.rename(columns={\"album.album_type\": \"albumtype\", \"album.name\": \"albumname\", \"album.release_date_precision\": \"albumdateprecision\" })\n",
    "df_data_3[['artistname','featuredartist','featuredartist2','featuredartist3','primary_genre','secondary_genre','genre3','genre4','genre5','genre6','genre7','genre8','genre9','genre10','genre11','genre12','binary_performance_bin','albumname']] = df_data_3[['artistname','featuredartist','featuredartist2','featuredartist3','primary_genre','secondary_genre','genre3','genre4','genre5','genre6','genre7','genre8','genre9','genre10','genre11','genre12','binary_performance_bin','albumname']].astype(str)\n",
    "df_data_3[['explicit', 'has_feature','duration_ms']] = df_data_3[['explicit', 'has_feature','duration_ms']].astype(int)\n",
    "df_data_3[['tempo']] = df_data_3[['tempo']].astype(float)"
   ]
  },
  {
   "cell_type": "markdown",
   "metadata": {},
   "source": [
    "#### Train 2019 Random Forest Model"
   ]
  },
  {
   "cell_type": "code",
   "execution_count": 17,
   "metadata": {},
   "outputs": [
    {
     "name": "stderr",
     "output_type": "stream",
     "text": [
      "22/04/05 01:07:24 WARN TaskSetManager: Stage 174 contains a task of very large size (6546 KB). The maximum recommended task size is 100 KB.\n",
      "22/04/05 01:07:25 WARN TaskSetManager: Stage 176 contains a task of very large size (6546 KB). The maximum recommended task size is 100 KB.\n",
      "22/04/05 01:07:26 WARN TaskSetManager: Stage 178 contains a task of very large size (6546 KB). The maximum recommended task size is 100 KB.\n",
      "22/04/05 01:07:27 WARN TaskSetManager: Stage 180 contains a task of very large size (6546 KB). The maximum recommended task size is 100 KB.\n",
      "22/04/05 01:07:28 WARN TaskSetManager: Stage 182 contains a task of very large size (6546 KB). The maximum recommended task size is 100 KB.\n",
      "22/04/05 01:07:30 WARN TaskSetManager: Stage 184 contains a task of very large size (6546 KB). The maximum recommended task size is 100 KB.\n",
      "22/04/05 01:07:31 WARN TaskSetManager: Stage 186 contains a task of very large size (6546 KB). The maximum recommended task size is 100 KB.\n",
      "22/04/05 01:07:32 WARN TaskSetManager: Stage 188 contains a task of very large size (6546 KB). The maximum recommended task size is 100 KB.\n",
      "22/04/05 01:07:33 WARN TaskSetManager: Stage 190 contains a task of very large size (6546 KB). The maximum recommended task size is 100 KB.\n",
      "22/04/05 01:07:34 WARN TaskSetManager: Stage 192 contains a task of very large size (6546 KB). The maximum recommended task size is 100 KB.\n",
      "22/04/05 01:07:35 WARN TaskSetManager: Stage 194 contains a task of very large size (6546 KB). The maximum recommended task size is 100 KB.\n",
      "22/04/05 01:07:36 WARN TaskSetManager: Stage 196 contains a task of very large size (6546 KB). The maximum recommended task size is 100 KB.\n",
      "22/04/05 01:07:38 WARN TaskSetManager: Stage 198 contains a task of very large size (6546 KB). The maximum recommended task size is 100 KB.\n",
      "22/04/05 01:07:39 WARN TaskSetManager: Stage 200 contains a task of very large size (6546 KB). The maximum recommended task size is 100 KB.\n",
      "22/04/05 01:07:40 WARN TaskSetManager: Stage 202 contains a task of very large size (6546 KB). The maximum recommended task size is 100 KB.\n",
      "22/04/05 01:07:41 WARN TaskSetManager: Stage 204 contains a task of very large size (6546 KB). The maximum recommended task size is 100 KB.\n",
      "22/04/05 01:07:42 WARN TaskSetManager: Stage 206 contains a task of very large size (6546 KB). The maximum recommended task size is 100 KB.\n",
      "22/04/05 01:07:43 WARN TaskSetManager: Stage 208 contains a task of very large size (6546 KB). The maximum recommended task size is 100 KB.\n",
      "22/04/05 01:07:45 WARN TaskSetManager: Stage 210 contains a task of very large size (6546 KB). The maximum recommended task size is 100 KB.\n",
      "22/04/05 01:07:46 WARN TaskSetManager: Stage 212 contains a task of very large size (6546 KB). The maximum recommended task size is 100 KB.\n",
      "22/04/05 01:07:47 WARN TaskSetManager: Stage 214 contains a task of very large size (6546 KB). The maximum recommended task size is 100 KB.\n",
      "22/04/05 01:07:48 WARN TaskSetManager: Stage 215 contains a task of very large size (6546 KB). The maximum recommended task size is 100 KB.\n",
      "22/04/05 01:07:50 WARN TaskSetManager: Stage 216 contains a task of very large size (6546 KB). The maximum recommended task size is 100 KB.\n",
      "22/04/05 01:07:52 WARN TaskSetManager: Stage 217 contains a task of very large size (6546 KB). The maximum recommended task size is 100 KB.\n",
      "22/04/05 01:07:52 WARN TaskSetManager: Stage 218 contains a task of very large size (6546 KB). The maximum recommended task size is 100 KB.\n",
      "22/04/05 01:07:55 WARN TaskSetManager: Stage 219 contains a task of very large size (6546 KB). The maximum recommended task size is 100 KB.\n",
      "22/04/05 01:07:57 WARN TaskSetManager: Stage 221 contains a task of very large size (6546 KB). The maximum recommended task size is 100 KB.\n",
      "22/04/05 01:08:04 WARN TaskSetManager: Stage 223 contains a task of very large size (6546 KB). The maximum recommended task size is 100 KB.\n",
      "22/04/05 01:08:12 WARN TaskSetManager: Stage 225 contains a task of very large size (6546 KB). The maximum recommended task size is 100 KB.\n",
      "22/04/05 01:08:22 WARN TaskSetManager: Stage 227 contains a task of very large size (6546 KB). The maximum recommended task size is 100 KB.\n",
      "22/04/05 01:08:38 WARN TaskSetManager: Stage 229 contains a task of very large size (6546 KB). The maximum recommended task size is 100 KB.\n",
      "22/04/05 01:08:58 WARN TaskSetManager: Stage 231 contains a task of very large size (6546 KB). The maximum recommended task size is 100 KB.\n",
      "22/04/05 01:09:28 WARN TaskSetManager: Stage 233 contains a task of very large size (6546 KB). The maximum recommended task size is 100 KB.\n",
      "22/04/05 01:09:59 WARN TaskSetManager: Stage 235 contains a task of very large size (6546 KB). The maximum recommended task size is 100 KB.\n",
      "22/04/05 01:10:32 WARN TaskSetManager: Stage 237 contains a task of very large size (6546 KB). The maximum recommended task size is 100 KB.\n",
      "22/04/05 01:10:53 WARN TaskSetManager: Stage 239 contains a task of very large size (6546 KB). The maximum recommended task size is 100 KB.\n",
      "22/04/05 01:11:03 WARN TaskSetManager: Stage 241 contains a task of very large size (6546 KB). The maximum recommended task size is 100 KB.\n",
      "[Stage 241:>                                                        (0 + 1) / 1]"
     ]
    },
    {
     "name": "stdout",
     "output_type": "stream",
     "text": [
      "RandomForestClassificationModel (uid=RandomForestClassifier_dcb264971188) with 400 trees\n"
     ]
    },
    {
     "name": "stderr",
     "output_type": "stream",
     "text": [
      "\r",
      "                                                                                \r"
     ]
    }
   ],
   "source": [
    "df3 = df_data_3[['danceability','energy','loudness','mode','speechiness','acousticness','instrumentalness','liveness','valence','tempo','duration_ms','explicit','has_feature','multigenre','key','time_signature','artistname','albumtype','featuredartist','featuredartist2','featuredartist3','primary_genre','secondary_genre','genre3','genre4','genre5','genre6','genre7','genre8','genre9','genre10','genre11','genre12',labelchoice]]\n",
    "df_spark_3 = spark.createDataFrame(df3)\n",
    "train3, test3 = df_spark_3.randomSplit([0.7, 0.3])\n",
    "\n",
    "model3 = pipeline3.fit(train3)\n",
    "print(model3.stages[-1])"
   ]
  },
  {
   "cell_type": "markdown",
   "metadata": {},
   "source": [
    "#### Evaluate AUC Performance on Training Set - 2019"
   ]
  },
  {
   "cell_type": "code",
   "execution_count": 18,
   "metadata": {},
   "outputs": [
    {
     "name": "stderr",
     "output_type": "stream",
     "text": [
      "22/04/05 01:11:05 WARN TaskSetManager: Stage 242 contains a task of very large size (6546 KB). The maximum recommended task size is 100 KB.\n",
      "22/04/05 01:11:07 WARN TaskSetManager: Stage 243 contains a task of very large size (6546 KB). The maximum recommended task size is 100 KB.\n",
      "                                                                                \r"
     ]
    },
    {
     "data": {
      "text/plain": [
       "0.8393860723152506"
      ]
     },
     "execution_count": 18,
     "metadata": {},
     "output_type": "execute_result"
    }
   ],
   "source": [
    "prediction3 = model3.transform(train3)\n",
    "\n",
    "evaluator.evaluate(prediction3)"
   ]
  },
  {
   "cell_type": "markdown",
   "metadata": {},
   "source": [
    "#### Evaluate AUC Performance on Test Set - 2019"
   ]
  },
  {
   "cell_type": "code",
   "execution_count": 19,
   "metadata": {},
   "outputs": [
    {
     "name": "stderr",
     "output_type": "stream",
     "text": [
      "22/04/05 01:11:23 WARN TaskSetManager: Stage 252 contains a task of very large size (6546 KB). The maximum recommended task size is 100 KB.\n",
      "22/04/05 01:11:24 WARN TaskSetManager: Stage 253 contains a task of very large size (6546 KB). The maximum recommended task size is 100 KB.\n",
      "                                                                                \r"
     ]
    },
    {
     "data": {
      "text/plain": [
       "0.8254914678866297"
      ]
     },
     "execution_count": 19,
     "metadata": {},
     "output_type": "execute_result"
    }
   ],
   "source": [
    "prediction_test3 = model3.transform(test3)\n",
    "\n",
    "evaluator.evaluate(prediction_test3)"
   ]
  },
  {
   "cell_type": "markdown",
   "metadata": {},
   "source": [
    "#### Extract Feature Importances from 2019 Random Forest Model"
   ]
  },
  {
   "cell_type": "code",
   "execution_count": 20,
   "metadata": {},
   "outputs": [
    {
     "data": {
      "text/plain": [
       "[('artistname_indexed', 0.10786943198268767),\n",
       " ('primary_genre_indexed', 0.08021873115612914),\n",
       " ('featuredartist_indexed', 0.07202415164253459),\n",
       " ('liveness', 0.07105733842694861),\n",
       " ('loudness', 0.056587268902449674),\n",
       " ('danceability', 0.05582990056498937),\n",
       " ('secondary_genre_indexed', 0.05311519824128393),\n",
       " ('scaled_tempo', 0.05096167280421332),\n",
       " ('valence', 0.04652316749533959),\n",
       " ('key_indexed', 0.046301330189573706),\n",
       " ('speechiness', 0.04592229737180857),\n",
       " ('scaled_duration', 0.04136272267429751),\n",
       " ('energy', 0.040528077996461846),\n",
       " ('acousticness', 0.03791552621753715),\n",
       " ('genre6_indexed', 0.030040004679553603),\n",
       " ('genre3_indexed', 0.026543819960300336),\n",
       " ('genre4_indexed', 0.02339926917431418),\n",
       " ('explicit', 0.020233879842797384),\n",
       " ('featuredartist2_indexed', 0.018991150545505063),\n",
       " ('genre5_indexed', 0.018614344708916892),\n",
       " ('instrumentalness', 0.015026531799223402),\n",
       " ('albumtype_indexed', 0.012298477059052343),\n",
       " ('featuredartist3_indexed', 0.006238381766626276),\n",
       " ('genre7_indexed', 0.0052024319283741315),\n",
       " ('mode', 0.004685607451452652),\n",
       " ('multigenre', 0.003322304258243566),\n",
       " ('genre8_indexed', 0.0030023119415122606),\n",
       " ('has_feature', 0.0029351207283515993),\n",
       " ('timesig_indexed', 0.001996718682615768),\n",
       " ('genre9_indexed', 0.000984640200016194),\n",
       " ('genre10_indexed', 0.00023032080292627666),\n",
       " ('genre11_indexed', 3.7868803963025084e-05),\n",
       " ('genre12_indexed', 0.0)]"
      ]
     },
     "execution_count": 20,
     "metadata": {},
     "output_type": "execute_result"
    }
   ],
   "source": [
    "### FEATURE IMPORTANCE - 2019\n",
    "\n",
    "va = model3.stages[-2]\n",
    "\n",
    "tree = model3.stages[-1]\n",
    "\n",
    "featureImportanceList = list(zip(va.getInputCols(), tree.featureImportances))\n",
    "\n",
    "featureImportanceList.sort(key=lambda tup: tup[1], reverse=True)\n",
    "\n",
    "featureImportanceList"
   ]
  },
  {
   "cell_type": "markdown",
   "metadata": {},
   "source": [
    "#### Load 2020 Data"
   ]
  },
  {
   "cell_type": "code",
   "execution_count": 21,
   "metadata": {},
   "outputs": [],
   "source": [
    "body = client_ffa959d2c80941dba05e8ff594f32acd.get_object(Bucket='',Key='2020_full_2.csv')['Body']\n",
    "# add missing __iter__ method, so pandas accepts body as file-like object\n",
    "if not hasattr(body, \"__iter__\"): body.__iter__ = types.MethodType( __iter__, body )\n",
    "    \n",
    "df_data_4 = pd.read_csv(body)\n",
    "\n",
    "# Drop Extraneous Columns, Cast Features to Correct Type\n",
    "\n",
    "df_data_4 = df_data_4.drop(columns=['Unnamed: 0'])\n",
    "df_data_4 = df_data_4.rename(columns={\"album.album_type\": \"albumtype\", \"album.name\": \"albumname\", \"album.release_date_precision\": \"albumdateprecision\" })\n",
    "df_data_4[['artistname','featuredartist','featuredartist2','featuredartist3','primary_genre','secondary_genre','genre3','genre4','genre5','genre6','genre7','genre8','genre9','genre10','genre11','genre12','binary_performance_bin','albumname']] = df_data_4[['artistname','featuredartist','featuredartist2','featuredartist3','primary_genre','secondary_genre','genre3','genre4','genre5','genre6','genre7','genre8','genre9','genre10','genre11','genre12','binary_performance_bin','albumname']].astype(str)\n",
    "df_data_4[['explicit', 'has_feature','duration_ms']] = df_data_4[['explicit', 'has_feature','duration_ms']].astype(int)\n",
    "df_data_4[['tempo']] = df_data_4[['tempo']].astype(float)"
   ]
  },
  {
   "cell_type": "markdown",
   "metadata": {},
   "source": [
    "#### Train 2020 Random Forest Model"
   ]
  },
  {
   "cell_type": "code",
   "execution_count": 22,
   "metadata": {},
   "outputs": [
    {
     "name": "stderr",
     "output_type": "stream",
     "text": [
      "22/04/05 01:11:40 WARN TaskSetManager: Stage 262 contains a task of very large size (5235 KB). The maximum recommended task size is 100 KB.\n",
      "22/04/05 01:11:41 WARN TaskSetManager: Stage 264 contains a task of very large size (5235 KB). The maximum recommended task size is 100 KB.\n",
      "22/04/05 01:11:42 WARN TaskSetManager: Stage 266 contains a task of very large size (5235 KB). The maximum recommended task size is 100 KB.\n",
      "22/04/05 01:11:43 WARN TaskSetManager: Stage 268 contains a task of very large size (5235 KB). The maximum recommended task size is 100 KB.\n",
      "22/04/05 01:11:45 WARN TaskSetManager: Stage 270 contains a task of very large size (5235 KB). The maximum recommended task size is 100 KB.\n",
      "22/04/05 01:11:45 WARN TaskSetManager: Stage 272 contains a task of very large size (5235 KB). The maximum recommended task size is 100 KB.\n",
      "22/04/05 01:11:46 WARN TaskSetManager: Stage 274 contains a task of very large size (5235 KB). The maximum recommended task size is 100 KB.\n",
      "22/04/05 01:11:48 WARN TaskSetManager: Stage 276 contains a task of very large size (5235 KB). The maximum recommended task size is 100 KB.\n",
      "22/04/05 01:11:49 WARN TaskSetManager: Stage 278 contains a task of very large size (5235 KB). The maximum recommended task size is 100 KB.\n",
      "22/04/05 01:11:50 WARN TaskSetManager: Stage 280 contains a task of very large size (5235 KB). The maximum recommended task size is 100 KB.\n",
      "22/04/05 01:11:50 WARN TaskSetManager: Stage 282 contains a task of very large size (5235 KB). The maximum recommended task size is 100 KB.\n",
      "22/04/05 01:11:51 WARN TaskSetManager: Stage 284 contains a task of very large size (5235 KB). The maximum recommended task size is 100 KB.\n",
      "22/04/05 01:11:52 WARN TaskSetManager: Stage 286 contains a task of very large size (5235 KB). The maximum recommended task size is 100 KB.\n",
      "22/04/05 01:11:53 WARN TaskSetManager: Stage 288 contains a task of very large size (5235 KB). The maximum recommended task size is 100 KB.\n",
      "22/04/05 01:11:55 WARN TaskSetManager: Stage 290 contains a task of very large size (5235 KB). The maximum recommended task size is 100 KB.\n",
      "22/04/05 01:11:56 WARN TaskSetManager: Stage 292 contains a task of very large size (5235 KB). The maximum recommended task size is 100 KB.\n",
      "22/04/05 01:11:57 WARN TaskSetManager: Stage 294 contains a task of very large size (5235 KB). The maximum recommended task size is 100 KB.\n",
      "22/04/05 01:11:58 WARN TaskSetManager: Stage 296 contains a task of very large size (5235 KB). The maximum recommended task size is 100 KB.\n",
      "22/04/05 01:11:59 WARN TaskSetManager: Stage 298 contains a task of very large size (5235 KB). The maximum recommended task size is 100 KB.\n",
      "22/04/05 01:11:59 WARN TaskSetManager: Stage 300 contains a task of very large size (5235 KB). The maximum recommended task size is 100 KB.\n",
      "22/04/05 01:12:01 WARN TaskSetManager: Stage 302 contains a task of very large size (5235 KB). The maximum recommended task size is 100 KB.\n",
      "22/04/05 01:12:02 WARN TaskSetManager: Stage 303 contains a task of very large size (5235 KB). The maximum recommended task size is 100 KB.\n",
      "22/04/05 01:12:03 WARN TaskSetManager: Stage 304 contains a task of very large size (5235 KB). The maximum recommended task size is 100 KB.\n",
      "22/04/05 01:12:05 WARN TaskSetManager: Stage 305 contains a task of very large size (5235 KB). The maximum recommended task size is 100 KB.\n",
      "22/04/05 01:12:06 WARN TaskSetManager: Stage 306 contains a task of very large size (5235 KB). The maximum recommended task size is 100 KB.\n",
      "22/04/05 01:12:09 WARN TaskSetManager: Stage 307 contains a task of very large size (5235 KB). The maximum recommended task size is 100 KB.\n",
      "22/04/05 01:12:10 WARN TaskSetManager: Stage 309 contains a task of very large size (5235 KB). The maximum recommended task size is 100 KB.\n",
      "22/04/05 01:12:17 WARN TaskSetManager: Stage 311 contains a task of very large size (5235 KB). The maximum recommended task size is 100 KB.\n",
      "22/04/05 01:12:25 WARN TaskSetManager: Stage 313 contains a task of very large size (5235 KB). The maximum recommended task size is 100 KB.\n",
      "22/04/05 01:12:34 WARN TaskSetManager: Stage 315 contains a task of very large size (5235 KB). The maximum recommended task size is 100 KB.\n",
      "22/04/05 01:12:48 WARN TaskSetManager: Stage 317 contains a task of very large size (5235 KB). The maximum recommended task size is 100 KB.\n",
      "22/04/05 01:13:07 WARN TaskSetManager: Stage 319 contains a task of very large size (5235 KB). The maximum recommended task size is 100 KB.\n",
      "22/04/05 01:13:33 WARN TaskSetManager: Stage 321 contains a task of very large size (5235 KB). The maximum recommended task size is 100 KB.\n",
      "22/04/05 01:14:05 WARN TaskSetManager: Stage 323 contains a task of very large size (5235 KB). The maximum recommended task size is 100 KB.\n",
      "22/04/05 01:14:35 WARN TaskSetManager: Stage 325 contains a task of very large size (5235 KB). The maximum recommended task size is 100 KB.\n",
      "22/04/05 01:14:45 WARN TaskSetManager: Stage 327 contains a task of very large size (5235 KB). The maximum recommended task size is 100 KB.\n"
     ]
    },
    {
     "name": "stdout",
     "output_type": "stream",
     "text": [
      "RandomForestClassificationModel (uid=RandomForestClassifier_c8ee99aa3886) with 400 trees\n"
     ]
    },
    {
     "name": "stderr",
     "output_type": "stream",
     "text": [
      "\r",
      "[Stage 327:>                                                        (0 + 1) / 1]\r",
      "                                                                                \r"
     ]
    }
   ],
   "source": [
    "df4 = df_data_4[['danceability','energy','loudness','mode','speechiness','acousticness','instrumentalness','liveness','valence','tempo','duration_ms','explicit','has_feature','multigenre','key','time_signature','artistname','albumtype','featuredartist','featuredartist2','featuredartist3','primary_genre','secondary_genre','genre3','genre4','genre5','genre6','genre7','genre8','genre9','genre10','genre11','genre12',labelchoice]]\n",
    "df_spark_4 = spark.createDataFrame(df4)\n",
    "train4, test4 = df_spark_4.randomSplit([0.7, 0.3])\n",
    "\n",
    "model4 = pipeline4.fit(train4)\n",
    "print(model4.stages[-1])"
   ]
  },
  {
   "cell_type": "markdown",
   "metadata": {},
   "source": [
    "#### Evaluate AUC Performance on Training Set - 2020"
   ]
  },
  {
   "cell_type": "code",
   "execution_count": 23,
   "metadata": {},
   "outputs": [
    {
     "name": "stderr",
     "output_type": "stream",
     "text": [
      "22/04/05 01:14:47 WARN TaskSetManager: Stage 328 contains a task of very large size (5235 KB). The maximum recommended task size is 100 KB.\n",
      "22/04/05 01:14:49 WARN TaskSetManager: Stage 329 contains a task of very large size (5235 KB). The maximum recommended task size is 100 KB.\n",
      "                                                                                \r"
     ]
    },
    {
     "data": {
      "text/plain": [
       "0.817075920896828"
      ]
     },
     "execution_count": 23,
     "metadata": {},
     "output_type": "execute_result"
    }
   ],
   "source": [
    "prediction4 = model4.transform(train4)\n",
    "\n",
    "evaluator.evaluate(prediction4)"
   ]
  },
  {
   "cell_type": "markdown",
   "metadata": {},
   "source": [
    "#### Evaluate AUC Performance on Test Set - 2020"
   ]
  },
  {
   "cell_type": "code",
   "execution_count": 24,
   "metadata": {},
   "outputs": [
    {
     "name": "stderr",
     "output_type": "stream",
     "text": [
      "22/04/05 01:15:03 WARN TaskSetManager: Stage 338 contains a task of very large size (5235 KB). The maximum recommended task size is 100 KB.\n",
      "22/04/05 01:15:05 WARN TaskSetManager: Stage 339 contains a task of very large size (5235 KB). The maximum recommended task size is 100 KB.\n",
      "                                                                                \r"
     ]
    },
    {
     "data": {
      "text/plain": [
       "0.8039600842898795"
      ]
     },
     "execution_count": 24,
     "metadata": {},
     "output_type": "execute_result"
    }
   ],
   "source": [
    "prediction_test4 = model4.transform(test4)\n",
    "\n",
    "evaluator.evaluate(prediction_test4)"
   ]
  },
  {
   "cell_type": "markdown",
   "metadata": {},
   "source": [
    "#### Extract Feature Importances from 2020 Random Forest Model"
   ]
  },
  {
   "cell_type": "code",
   "execution_count": 25,
   "metadata": {},
   "outputs": [
    {
     "data": {
      "text/plain": [
       "[('featuredartist_indexed', 0.11127313852844266),\n",
       " ('loudness', 0.08076884044620442),\n",
       " ('artistname_indexed', 0.07525688025215074),\n",
       " ('primary_genre_indexed', 0.06995627036889791),\n",
       " ('scaled_tempo', 0.06507842165252088),\n",
       " ('energy', 0.056036591998519174),\n",
       " ('liveness', 0.05362367868175038),\n",
       " ('danceability', 0.05234413407962947),\n",
       " ('speechiness', 0.05149597829927575),\n",
       " ('acousticness', 0.04842953894883861),\n",
       " ('scaled_duration', 0.04329479764365358),\n",
       " ('genre4_indexed', 0.04118948749399768),\n",
       " ('valence', 0.03658887271044926),\n",
       " ('featuredartist2_indexed', 0.031430358546430476),\n",
       " ('key_indexed', 0.027350506639228393),\n",
       " ('secondary_genre_indexed', 0.023136399432020956),\n",
       " ('instrumentalness', 0.02307050773498778),\n",
       " ('genre3_indexed', 0.022879680246048455),\n",
       " ('genre5_indexed', 0.02048872724484778),\n",
       " ('featuredartist3_indexed', 0.01684568103492337),\n",
       " ('genre6_indexed', 0.014967033205912467),\n",
       " ('albumtype_indexed', 0.006503497189107532),\n",
       " ('explicit', 0.005914384606045357),\n",
       " ('timesig_indexed', 0.00478398246453034),\n",
       " ('multigenre', 0.004490603178187898),\n",
       " ('mode', 0.004094592703994112),\n",
       " ('has_feature', 0.003378311748233849),\n",
       " ('genre7_indexed', 0.0028692396634205403),\n",
       " ('genre8_indexed', 0.0022180499042055053),\n",
       " ('genre9_indexed', 0.0001193899026604498),\n",
       " ('genre10_indexed', 8.501621697234761e-05),\n",
       " ('genre11_indexed', 3.740723391176271e-05),\n",
       " ('genre12_indexed', 0.0)]"
      ]
     },
     "execution_count": 25,
     "metadata": {},
     "output_type": "execute_result"
    }
   ],
   "source": [
    "### FEATURE IMPORTANCE - 2020\n",
    "\n",
    "va = model4.stages[-2]\n",
    "\n",
    "tree = model4.stages[-1]\n",
    "\n",
    "featureImportanceList = list(zip(va.getInputCols(), tree.featureImportances))\n",
    "\n",
    "featureImportanceList.sort(key=lambda tup: tup[1], reverse=True)\n",
    "\n",
    "featureImportanceList"
   ]
  },
  {
   "cell_type": "markdown",
   "metadata": {},
   "source": [
    "#### Load 2021 Data"
   ]
  },
  {
   "cell_type": "code",
   "execution_count": 26,
   "metadata": {},
   "outputs": [],
   "source": [
    "body = client_ffa959d2c80941dba05e8ff594f32acd.get_object(Bucket='',Key='2021_full_2.csv')['Body']\n",
    "# add missing __iter__ method, so pandas accepts body as file-like object\n",
    "if not hasattr(body, \"__iter__\"): body.__iter__ = types.MethodType( __iter__, body )\n",
    "\n",
    "df_data_5 = pd.read_csv(body)\n",
    "\n",
    "# Drop Extraneous Columns, Cast Features to Correct Type\n",
    "\n",
    "df_data_5 = df_data_5.drop(columns=['Unnamed: 0'])\n",
    "df_data_5 = df_data_5.rename(columns={\"album.album_type\": \"albumtype\", \"album.name\": \"albumname\", \"album.release_date_precision\": \"albumdateprecision\" })\n",
    "df_data_5[['artistname','featuredartist','featuredartist2','featuredartist3','primary_genre','secondary_genre','genre3','genre4','genre5','genre6','genre7','genre8','genre9','genre10','genre11','genre12','binary_performance_bin','albumname']] = df_data_5[['artistname','featuredartist','featuredartist2','featuredartist3','primary_genre','secondary_genre','genre3','genre4','genre5','genre6','genre7','genre8','genre9','genre10','genre11','genre12','binary_performance_bin','albumname']].astype(str)\n",
    "df_data_5[['explicit', 'has_feature','duration_ms']] = df_data_5[['explicit', 'has_feature','duration_ms']].astype(int)\n",
    "df_data_5[['tempo']] = df_data_5[['tempo']].astype(float)"
   ]
  },
  {
   "cell_type": "markdown",
   "metadata": {},
   "source": [
    "#### Train 2021 Random Forest Model"
   ]
  },
  {
   "cell_type": "code",
   "execution_count": 27,
   "metadata": {},
   "outputs": [
    {
     "name": "stderr",
     "output_type": "stream",
     "text": [
      "22/04/05 01:15:20 WARN TaskSetManager: Stage 348 contains a task of very large size (4506 KB). The maximum recommended task size is 100 KB.\n",
      "22/04/05 01:15:21 WARN TaskSetManager: Stage 350 contains a task of very large size (4506 KB). The maximum recommended task size is 100 KB.\n",
      "22/04/05 01:15:22 WARN TaskSetManager: Stage 352 contains a task of very large size (4506 KB). The maximum recommended task size is 100 KB.\n",
      "22/04/05 01:15:23 WARN TaskSetManager: Stage 354 contains a task of very large size (4506 KB). The maximum recommended task size is 100 KB.\n",
      "22/04/05 01:15:24 WARN TaskSetManager: Stage 356 contains a task of very large size (4506 KB). The maximum recommended task size is 100 KB.\n",
      "22/04/05 01:15:25 WARN TaskSetManager: Stage 358 contains a task of very large size (4506 KB). The maximum recommended task size is 100 KB.\n",
      "22/04/05 01:15:26 WARN TaskSetManager: Stage 360 contains a task of very large size (4506 KB). The maximum recommended task size is 100 KB.\n",
      "22/04/05 01:15:27 WARN TaskSetManager: Stage 362 contains a task of very large size (4506 KB). The maximum recommended task size is 100 KB.\n",
      "22/04/05 01:15:28 WARN TaskSetManager: Stage 364 contains a task of very large size (4506 KB). The maximum recommended task size is 100 KB.\n",
      "22/04/05 01:15:29 WARN TaskSetManager: Stage 366 contains a task of very large size (4506 KB). The maximum recommended task size is 100 KB.\n",
      "22/04/05 01:15:30 WARN TaskSetManager: Stage 368 contains a task of very large size (4506 KB). The maximum recommended task size is 100 KB.\n",
      "22/04/05 01:15:30 WARN TaskSetManager: Stage 370 contains a task of very large size (4506 KB). The maximum recommended task size is 100 KB.\n",
      "22/04/05 01:15:31 WARN TaskSetManager: Stage 372 contains a task of very large size (4506 KB). The maximum recommended task size is 100 KB.\n",
      "22/04/05 01:15:32 WARN TaskSetManager: Stage 374 contains a task of very large size (4506 KB). The maximum recommended task size is 100 KB.\n",
      "22/04/05 01:15:33 WARN TaskSetManager: Stage 376 contains a task of very large size (4506 KB). The maximum recommended task size is 100 KB.\n",
      "22/04/05 01:15:34 WARN TaskSetManager: Stage 378 contains a task of very large size (4506 KB). The maximum recommended task size is 100 KB.\n",
      "22/04/05 01:15:35 WARN TaskSetManager: Stage 380 contains a task of very large size (4506 KB). The maximum recommended task size is 100 KB.\n",
      "22/04/05 01:15:36 WARN TaskSetManager: Stage 382 contains a task of very large size (4506 KB). The maximum recommended task size is 100 KB.\n",
      "22/04/05 01:15:37 WARN TaskSetManager: Stage 384 contains a task of very large size (4506 KB). The maximum recommended task size is 100 KB.\n",
      "22/04/05 01:15:38 WARN TaskSetManager: Stage 386 contains a task of very large size (4506 KB). The maximum recommended task size is 100 KB.\n",
      "22/04/05 01:15:39 WARN TaskSetManager: Stage 388 contains a task of very large size (4506 KB). The maximum recommended task size is 100 KB.\n",
      "22/04/05 01:15:40 WARN TaskSetManager: Stage 389 contains a task of very large size (4506 KB). The maximum recommended task size is 100 KB.\n",
      "22/04/05 01:15:41 WARN TaskSetManager: Stage 390 contains a task of very large size (4506 KB). The maximum recommended task size is 100 KB.\n",
      "22/04/05 01:15:43 WARN TaskSetManager: Stage 391 contains a task of very large size (4506 KB). The maximum recommended task size is 100 KB.\n",
      "22/04/05 01:15:43 WARN TaskSetManager: Stage 392 contains a task of very large size (4506 KB). The maximum recommended task size is 100 KB.\n",
      "22/04/05 01:15:45 WARN TaskSetManager: Stage 393 contains a task of very large size (4506 KB). The maximum recommended task size is 100 KB.\n",
      "22/04/05 01:15:47 WARN TaskSetManager: Stage 395 contains a task of very large size (4506 KB). The maximum recommended task size is 100 KB.\n",
      "22/04/05 01:15:53 WARN TaskSetManager: Stage 397 contains a task of very large size (4506 KB). The maximum recommended task size is 100 KB.\n",
      "22/04/05 01:15:59 WARN TaskSetManager: Stage 399 contains a task of very large size (4506 KB). The maximum recommended task size is 100 KB.\n",
      "22/04/05 01:16:09 WARN TaskSetManager: Stage 401 contains a task of very large size (4506 KB). The maximum recommended task size is 100 KB.\n",
      "22/04/05 01:16:21 WARN TaskSetManager: Stage 403 contains a task of very large size (4506 KB). The maximum recommended task size is 100 KB.\n",
      "22/04/05 01:16:40 WARN TaskSetManager: Stage 405 contains a task of very large size (4506 KB). The maximum recommended task size is 100 KB.\n",
      "22/04/05 01:17:06 WARN TaskSetManager: Stage 407 contains a task of very large size (4506 KB). The maximum recommended task size is 100 KB.\n",
      "[Stage 409:>                                                        (0 + 0) / 1]22/04/05 01:17:37 WARN TaskSetManager: Stage 409 contains a task of very large size (4506 KB). The maximum recommended task size is 100 KB.\n",
      "22/04/05 01:18:06 WARN TaskSetManager: Stage 411 contains a task of very large size (4506 KB). The maximum recommended task size is 100 KB.\n",
      "22/04/05 01:18:24 WARN TaskSetManager: Stage 413 contains a task of very large size (4506 KB). The maximum recommended task size is 100 KB.\n",
      "22/04/05 01:18:32 WARN TaskSetManager: Stage 415 contains a task of very large size (4506 KB). The maximum recommended task size is 100 KB.\n"
     ]
    },
    {
     "name": "stdout",
     "output_type": "stream",
     "text": [
      "RandomForestClassificationModel (uid=RandomForestClassifier_8d2d5f9f22a5) with 400 trees\n"
     ]
    },
    {
     "name": "stderr",
     "output_type": "stream",
     "text": [
      "\r",
      "[Stage 415:>                                                        (0 + 1) / 1]\r",
      "                                                                                \r"
     ]
    }
   ],
   "source": [
    "df5 = df_data_5[['danceability','energy','loudness','mode','speechiness','acousticness','instrumentalness','liveness','valence','tempo','duration_ms','explicit','has_feature','multigenre','key','time_signature','artistname','albumtype','featuredartist','featuredartist2','featuredartist3','primary_genre','secondary_genre','genre3','genre4','genre5','genre6','genre7','genre8','genre9','genre10','genre11','genre12',labelchoice]]\n",
    "df_spark_5 = spark.createDataFrame(df5)\n",
    "train5, test5 = df_spark_5.randomSplit([0.7, 0.3])\n",
    "\n",
    "model5 = pipeline5.fit(train5)\n",
    "print(model5.stages[-1])"
   ]
  },
  {
   "cell_type": "markdown",
   "metadata": {},
   "source": [
    "#### Evaluate AUC Performance on Training Set - 2021"
   ]
  },
  {
   "cell_type": "code",
   "execution_count": 28,
   "metadata": {},
   "outputs": [
    {
     "name": "stderr",
     "output_type": "stream",
     "text": [
      "22/04/05 01:18:33 WARN TaskSetManager: Stage 416 contains a task of very large size (4506 KB). The maximum recommended task size is 100 KB.\n",
      "22/04/05 01:18:35 WARN TaskSetManager: Stage 417 contains a task of very large size (4506 KB). The maximum recommended task size is 100 KB.\n",
      "                                                                                \r"
     ]
    },
    {
     "data": {
      "text/plain": [
       "0.8475408274249078"
      ]
     },
     "execution_count": 28,
     "metadata": {},
     "output_type": "execute_result"
    }
   ],
   "source": [
    "prediction5 = model5.transform(train5)\n",
    "\n",
    "evaluator.evaluate(prediction5)"
   ]
  },
  {
   "cell_type": "markdown",
   "metadata": {},
   "source": [
    "#### Evaluate AUC Performance on Test Set - 2021"
   ]
  },
  {
   "cell_type": "code",
   "execution_count": 29,
   "metadata": {},
   "outputs": [
    {
     "name": "stderr",
     "output_type": "stream",
     "text": [
      "22/04/05 01:18:47 WARN TaskSetManager: Stage 426 contains a task of very large size (4506 KB). The maximum recommended task size is 100 KB.\n",
      "22/04/05 01:18:49 WARN TaskSetManager: Stage 427 contains a task of very large size (4506 KB). The maximum recommended task size is 100 KB.\n",
      "                                                                                \r"
     ]
    },
    {
     "data": {
      "text/plain": [
       "0.8354033560286835"
      ]
     },
     "execution_count": 29,
     "metadata": {},
     "output_type": "execute_result"
    }
   ],
   "source": [
    "prediction_test5 = model5.transform(test5)\n",
    "\n",
    "evaluator.evaluate(prediction_test5)"
   ]
  },
  {
   "cell_type": "markdown",
   "metadata": {},
   "source": [
    "#### Extract Feature Importances from 2021 Random Forest Model"
   ]
  },
  {
   "cell_type": "code",
   "execution_count": 30,
   "metadata": {
    "scrolled": false
   },
   "outputs": [
    {
     "data": {
      "text/plain": [
       "[('artistname_indexed', 0.12381718118735911),\n",
       " ('primary_genre_indexed', 0.09321275957422188),\n",
       " ('acousticness', 0.0729028300955218),\n",
       " ('featuredartist_indexed', 0.05967107959066206),\n",
       " ('speechiness', 0.05394542843212672),\n",
       " ('energy', 0.05349012431516068),\n",
       " ('liveness', 0.05028822420002088),\n",
       " ('danceability', 0.049101767214103836),\n",
       " ('scaled_duration', 0.048710582229373314),\n",
       " ('valence', 0.04818349454639412),\n",
       " ('loudness', 0.047694735741261464),\n",
       " ('scaled_tempo', 0.045616091771420716),\n",
       " ('secondary_genre_indexed', 0.044219950202232954),\n",
       " ('key_indexed', 0.03014348332472633),\n",
       " ('genre4_indexed', 0.027884918592651513),\n",
       " ('genre3_indexed', 0.025538850756055678),\n",
       " ('explicit', 0.0223029744696466),\n",
       " ('instrumentalness', 0.02146273433745203),\n",
       " ('featuredartist2_indexed', 0.02049906588377927),\n",
       " ('genre5_indexed', 0.011635347021186333),\n",
       " ('multigenre', 0.009967681928906813),\n",
       " ('genre7_indexed', 0.00922491193227818),\n",
       " ('genre6_indexed', 0.005596861126066102),\n",
       " ('albumtype_indexed', 0.004896314693557104),\n",
       " ('has_feature', 0.00470982138661157),\n",
       " ('genre8_indexed', 0.0046274748353020735),\n",
       " ('mode', 0.004322539407591599),\n",
       " ('featuredartist3_indexed', 0.003278892243482303),\n",
       " ('timesig_indexed', 0.0019981204453517697),\n",
       " ('genre11_indexed', 0.0004437773892787297),\n",
       " ('genre9_indexed', 0.00034121713726624936),\n",
       " ('genre10_indexed', 0.000270763988949988),\n",
       " ('genre12_indexed', 0.0)]"
      ]
     },
     "execution_count": 30,
     "metadata": {},
     "output_type": "execute_result"
    }
   ],
   "source": [
    "### FEATURE IMPORTANCE - 2021\n",
    "\n",
    "va = model5.stages[-2]\n",
    "\n",
    "tree = model5.stages[-1]\n",
    "\n",
    "featureImportanceList = list(zip(va.getInputCols(), tree.featureImportances))\n",
    "\n",
    "featureImportanceList.sort(key=lambda tup: tup[1], reverse=True)\n",
    "\n",
    "featureImportanceList"
   ]
  },
  {
   "cell_type": "markdown",
   "metadata": {},
   "source": [
    "### Hyperparameter Tuning\n",
    "Initially, upon completed evaluation of the above Random Forest models, I had also planned to tune the hyperparameters of these models as further practice of our course concepts. However, because the Python 3.7 Environments were deprecated on IBM Watson Studio, I was no longer able to spin up a stronger 3.7 environment to run my code (below). I was stuck using the Single Core, 4GB instance that I had been developing on (yet to be disabled). I tried to run my hyperparameter tuning code both on this instance and locally on my laptop, but I unfortunately kept running into memory constraint errors.\n",
    "\n",
    "Because of this, I decided the best course of action for my capstone project would be to include/share my hyperparameter tuning code, and also demonstrate a proof of concept of how hyperparameter tuning could improve my model performance. To demonstrate this, I decided to train another simple Random Forest model on the 2017 dataset using one of the permutations within the ParamGrid (i.e. numTrees=800, maxDepth=12). The result of that proof of concept was as follows:\n",
    "\n",
    "* 2017 Train: **86.1%**\n",
    "* 2017 Test: **85.2%**\n",
    "* 2017 Hyperparameter Tuned Train: **87.6%**\n",
    "* 2017 Hyperparameter Tuned Test: **87.2%**\n",
    "\n",
    "In short, we see about 1.5% improvement in performance on the \"Train\" set and 2% improvement in performance on the \"Test\" set. This proof of concept shows that further performance can be squeezed out via Hyperparameter Tuning."
   ]
  },
  {
   "cell_type": "markdown",
   "metadata": {},
   "source": [
    "#### Hyperparameter Tuning Code\n",
    "Below is the code I wrote for hyperparameter tuning for the Random Forest models. Unfortunately I was unable to execute this code due to the memory constraints/situation mentioned above. However, I still wanted to share my code as it was part of my journey during my capstone project. Note: the \"Train Set Evaluation\" and \"Test Set Evaluation\" steps would normally be broken out into their own cells for execution. However, I included them all in a single cell in this case for simplification purposes."
   ]
  },
  {
   "cell_type": "code",
   "execution_count": null,
   "metadata": {},
   "outputs": [],
   "source": [
    "# BINARY CLASSIFIER - Hyperparameter Tuning\n",
    "\n",
    "from pyspark.ml.feature import VectorAssembler, StringIndexer, VectorIndexer, MinMaxScaler\n",
    "from pyspark.ml import Pipeline\n",
    "from pyspark.ml.evaluation import BinaryClassificationEvaluator\n",
    "from pyspark.ml.tuning import ParamGridBuilder, CrossValidator\n",
    "from pyspark.ml.classification import RandomForestClassifier\n",
    "from pyspark.ml.linalg import Vectors\n",
    "\n",
    "# Label Choice\n",
    "\n",
    "labelchoice = 'binary_performance_bin'\n",
    "\n",
    "# Data Split\n",
    "\n",
    "df1 = df_data_1[['danceability','energy','loudness','mode','speechiness','acousticness','instrumentalness','liveness','valence','tempo','duration_ms','explicit','has_feature','multigenre','key','time_signature','artistname','albumtype','featuredartist','featuredartist2','featuredartist3','primary_genre','secondary_genre','genre3','genre4','genre5','genre6','genre7','genre8','genre9','genre10','genre11','genre12',labelchoice]]\n",
    "\n",
    "df_spark_1 = spark.createDataFrame(df1)\n",
    "\n",
    "train1, test1 = df_spark_1.randomSplit([0.8, 0.2])\n",
    "\n",
    "# Pipeline Definitions\n",
    "\n",
    "indexer = StringIndexer(inputCol=labelchoice, outputCol=\"label\", stringOrderType=\"frequencyDesc\")\n",
    "\n",
    "indexer1 = StringIndexer(inputCol='key', outputCol=\"key_indexed\", stringOrderType=\"frequencyDesc\", handleInvalid='keep')\n",
    "indexer2 = StringIndexer(inputCol='time_signature', outputCol=\"timesig_indexed\", stringOrderType=\"frequencyDesc\", handleInvalid='keep')\n",
    "indexer3 = StringIndexer(inputCol='artistname', outputCol=\"artistname_indexed\", stringOrderType=\"frequencyDesc\", handleInvalid='keep')\n",
    "indexer4 = StringIndexer(inputCol='albumtype', outputCol=\"albumtype_indexed\", stringOrderType=\"frequencyDesc\", handleInvalid='keep')\n",
    "indexer6 = StringIndexer(inputCol='featuredartist', outputCol=\"featuredartist_indexed\", stringOrderType=\"frequencyDesc\", handleInvalid='keep')\n",
    "indexer7 = StringIndexer(inputCol='featuredartist2', outputCol=\"featuredartist2_indexed\", stringOrderType=\"frequencyDesc\", handleInvalid='keep')\n",
    "indexer8 = StringIndexer(inputCol='featuredartist3', outputCol=\"featuredartist3_indexed\", stringOrderType=\"frequencyDesc\", handleInvalid='keep')\n",
    "indexer9 = StringIndexer(inputCol='primary_genre', outputCol=\"primary_genre_indexed\", stringOrderType=\"frequencyDesc\", handleInvalid='keep')\n",
    "indexer10 = StringIndexer(inputCol='secondary_genre', outputCol=\"secondary_genre_indexed\", stringOrderType=\"frequencyDesc\", handleInvalid='keep')\n",
    "indexer11 = StringIndexer(inputCol='genre3', outputCol=\"genre3_indexed\", stringOrderType=\"frequencyDesc\", handleInvalid='keep')\n",
    "indexer12 = StringIndexer(inputCol='genre4', outputCol=\"genre4_indexed\", stringOrderType=\"frequencyDesc\", handleInvalid='keep')\n",
    "indexer13 = StringIndexer(inputCol='genre5', outputCol=\"genre5_indexed\", stringOrderType=\"frequencyDesc\", handleInvalid='keep')\n",
    "indexer14 = StringIndexer(inputCol='genre6', outputCol=\"genre6_indexed\", stringOrderType=\"frequencyDesc\", handleInvalid='keep')\n",
    "indexer15 = StringIndexer(inputCol='genre7', outputCol=\"genre7_indexed\", stringOrderType=\"frequencyDesc\", handleInvalid='keep')\n",
    "indexer16 = StringIndexer(inputCol='genre8', outputCol=\"genre8_indexed\", stringOrderType=\"frequencyDesc\", handleInvalid='keep')\n",
    "indexer17 = StringIndexer(inputCol='genre9', outputCol=\"genre9_indexed\", stringOrderType=\"frequencyDesc\", handleInvalid='keep')\n",
    "indexer18 = StringIndexer(inputCol='genre10', outputCol=\"genre10_indexed\", stringOrderType=\"frequencyDesc\", handleInvalid='keep')\n",
    "indexer19 = StringIndexer(inputCol='genre11', outputCol=\"genre11_indexed\", stringOrderType=\"frequencyDesc\", handleInvalid='keep')\n",
    "indexer20 = StringIndexer(inputCol='genre12', outputCol=\"genre12_indexed\", stringOrderType=\"frequencyDesc\", handleInvalid='keep')\n",
    "\n",
    "vectAssem1 = VectorAssembler(inputCols=['tempo'], outputCol=\"tempoassem\")\n",
    "vectAssem2 = VectorAssembler(inputCols=['duration_ms'], outputCol=\"durationassem\")\n",
    "\n",
    "normalizer1 = MinMaxScaler(inputCol=\"tempoassem\", outputCol=\"scaled_tempo\")\n",
    "\n",
    "normalizer2 = MinMaxScaler(inputCol=\"durationassem\", outputCol=\"scaled_duration\")\n",
    "\n",
    "finalVectorAssembler = VectorAssembler(inputCols=['danceability','energy','loudness','mode','speechiness','acousticness','instrumentalness','liveness','valence','scaled_tempo','scaled_duration','explicit','has_feature','multigenre','key_indexed','timesig_indexed','artistname_indexed','albumtype_indexed','featuredartist_indexed','featuredartist2_indexed','featuredartist3_indexed',\"primary_genre_indexed\",\"secondary_genre_indexed\",\"genre3_indexed\",\"genre4_indexed\",\"genre5_indexed\",\"genre6_indexed\",\"genre7_indexed\",\"genre8_indexed\",\"genre9_indexed\",\"genre10_indexed\",\"genre11_indexed\",\"genre12_indexed\"], outputCol=\"features\")\n",
    "\n",
    "# Define Random Forest\n",
    "\n",
    "rf1 = RandomForestClassifier(labelCol=\"label\", featuresCol=\"features\", numTrees=400, maxDepth=8,maxBins=1000)\n",
    "\n",
    "# Create Pipeline\n",
    "pipeline1 = Pipeline(stages=[indexer,indexer1,indexer2,indexer3,indexer4,indexer6,indexer7,indexer8,indexer9,indexer10,indexer11,indexer12,indexer13,indexer14,indexer15,indexer16,indexer17,indexer18,indexer19,indexer20,vectAssem1,vectAssem2,normalizer1,normalizer2,finalVectorAssembler,rf1])\n",
    "\n",
    "# Binary Evaluator\n",
    "\n",
    "evaluator = BinaryClassificationEvaluator(rawPredictionCol=\"rawPrediction\")\n",
    "\n",
    "# Define ParamGrid\n",
    "paramGrid1 = (ParamGridBuilder().addGrid(rf1.numTrees, [400,800,1200]).addGrid(rf1.maxDepth, [4,8,12,16]).addGrid(rf1.maxBins, [1000]).build())\n",
    "\n",
    "# Cross Validator\n",
    "crossval1 = CrossValidator(estimator=pipeline1,\n",
    "                          estimatorParamMaps=paramGrid1,\n",
    "                          evaluator=evaluator,\n",
    "                          numFolds=4)\n",
    "# Fit Model\n",
    "cvModel1 = crossval1.fit(train1)\n",
    "\n",
    "### Train Set Evaluation\n",
    "\n",
    "# Transform (Train Set)\n",
    "prediction1 = cvModel1.transform(train1)\n",
    "\n",
    "# Evaluate Model (Train Set)\n",
    "evaluator.evaluate(prediction1)\n",
    "\n",
    "### Test Set Evaluation\n",
    "\n",
    "# Transform (Test Set)\n",
    "prediction_test1 = cvModel1.transform(test1)\n",
    "\n",
    "# Evaluate Model (Test Set)\n",
    "evaluator.evaluate(prediction_test1)"
   ]
  },
  {
   "cell_type": "markdown",
   "metadata": {},
   "source": [
    "#### Hyperparameter Tuning - Proof of Concept - 2017 - ParamGrid Permutation - numTrees=800, maxDepth=12\n",
    "The following is my proof of concept of how hyperparameter tuning could help squeeze out further performance from my Random Forest models. I used a permutation of the parameters within the paramgrid of my Hyperparameter Tuning code above (i.e. numTrees=800, maxDepth=12), and this resulted in the following improvement - as mentioned above also:\n",
    "\n",
    "* 2017 Train: **86.1%**\n",
    "* 2017 Test: **85.2%**\n",
    "* 2017 Hyperparameter Tuned Train: **87.6%**\n",
    "* 2017 Hyperparameter Tuned Test: **87.2%**\n",
    "\n",
    "As we can see once again, there is no overfitting."
   ]
  },
  {
   "cell_type": "code",
   "execution_count": 3,
   "metadata": {
    "scrolled": true
   },
   "outputs": [],
   "source": [
    "# Hyper Parameter Tuning Proof of Concept - 2017 Dataset - Increase Number of Trees to 800 // Increase Max Depth to 12\n",
    "\n",
    "from pyspark.ml.feature import VectorAssembler, StringIndexer, VectorIndexer, MinMaxScaler\n",
    "from pyspark.ml import Pipeline\n",
    "from pyspark.ml.evaluation import BinaryClassificationEvaluator\n",
    "from pyspark.ml.tuning import ParamGridBuilder, CrossValidator\n",
    "from pyspark.ml.classification import RandomForestClassifier\n",
    "from pyspark.ml.linalg import Vectors\n",
    "\n",
    "# Label Choice\n",
    "\n",
    "labelchoice = 'binary_performance_bin'\n",
    "\n",
    "# Define Evaluator\n",
    "\n",
    "evaluator = BinaryClassificationEvaluator(rawPredictionCol=\"rawPrediction\")\n",
    "\n",
    "# Pipeline Definitions\n",
    "\n",
    "indexer = StringIndexer(inputCol=labelchoice, outputCol=\"label\", stringOrderType=\"frequencyDesc\")\n",
    "\n",
    "indexer1 = StringIndexer(inputCol='key', outputCol=\"key_indexed\", stringOrderType=\"frequencyDesc\", handleInvalid='keep')\n",
    "indexer2 = StringIndexer(inputCol='time_signature', outputCol=\"timesig_indexed\", stringOrderType=\"frequencyDesc\", handleInvalid='keep')\n",
    "indexer3 = StringIndexer(inputCol='artistname', outputCol=\"artistname_indexed\", stringOrderType=\"frequencyDesc\", handleInvalid='keep')\n",
    "indexer4 = StringIndexer(inputCol='albumtype', outputCol=\"albumtype_indexed\", stringOrderType=\"frequencyDesc\", handleInvalid='keep')\n",
    "indexer6 = StringIndexer(inputCol='featuredartist', outputCol=\"featuredartist_indexed\", stringOrderType=\"frequencyDesc\", handleInvalid='keep')\n",
    "indexer7 = StringIndexer(inputCol='featuredartist2', outputCol=\"featuredartist2_indexed\", stringOrderType=\"frequencyDesc\", handleInvalid='keep')\n",
    "indexer8 = StringIndexer(inputCol='featuredartist3', outputCol=\"featuredartist3_indexed\", stringOrderType=\"frequencyDesc\", handleInvalid='keep')\n",
    "indexer9 = StringIndexer(inputCol='primary_genre', outputCol=\"primary_genre_indexed\", stringOrderType=\"frequencyDesc\", handleInvalid='keep')\n",
    "indexer10 = StringIndexer(inputCol='secondary_genre', outputCol=\"secondary_genre_indexed\", stringOrderType=\"frequencyDesc\", handleInvalid='keep')\n",
    "indexer11 = StringIndexer(inputCol='genre3', outputCol=\"genre3_indexed\", stringOrderType=\"frequencyDesc\", handleInvalid='keep')\n",
    "indexer12 = StringIndexer(inputCol='genre4', outputCol=\"genre4_indexed\", stringOrderType=\"frequencyDesc\", handleInvalid='keep')\n",
    "indexer13 = StringIndexer(inputCol='genre5', outputCol=\"genre5_indexed\", stringOrderType=\"frequencyDesc\", handleInvalid='keep')\n",
    "indexer14 = StringIndexer(inputCol='genre6', outputCol=\"genre6_indexed\", stringOrderType=\"frequencyDesc\", handleInvalid='keep')\n",
    "indexer15 = StringIndexer(inputCol='genre7', outputCol=\"genre7_indexed\", stringOrderType=\"frequencyDesc\", handleInvalid='keep')\n",
    "indexer16 = StringIndexer(inputCol='genre8', outputCol=\"genre8_indexed\", stringOrderType=\"frequencyDesc\", handleInvalid='keep')\n",
    "indexer17 = StringIndexer(inputCol='genre9', outputCol=\"genre9_indexed\", stringOrderType=\"frequencyDesc\", handleInvalid='keep')\n",
    "indexer18 = StringIndexer(inputCol='genre10', outputCol=\"genre10_indexed\", stringOrderType=\"frequencyDesc\", handleInvalid='keep')\n",
    "indexer19 = StringIndexer(inputCol='genre11', outputCol=\"genre11_indexed\", stringOrderType=\"frequencyDesc\", handleInvalid='keep')\n",
    "indexer20 = StringIndexer(inputCol='genre12', outputCol=\"genre12_indexed\", stringOrderType=\"frequencyDesc\", handleInvalid='keep')\n",
    "\n",
    "vectAssem1 = VectorAssembler(inputCols=['tempo'], outputCol=\"tempoassem\")\n",
    "vectAssem2 = VectorAssembler(inputCols=['duration_ms'], outputCol=\"durationassem\")\n",
    "\n",
    "normalizer1 = MinMaxScaler(inputCol=\"tempoassem\", outputCol=\"scaled_tempo\")\n",
    "\n",
    "normalizer2 = MinMaxScaler(inputCol=\"durationassem\", outputCol=\"scaled_duration\")\n",
    "\n",
    "finalVectorAssembler = VectorAssembler(inputCols=['danceability','energy','loudness','mode','speechiness','acousticness','instrumentalness','liveness','valence','scaled_tempo','scaled_duration','explicit','has_feature','multigenre','key_indexed','timesig_indexed','artistname_indexed','albumtype_indexed','featuredartist_indexed','featuredartist2_indexed','featuredartist3_indexed',\"primary_genre_indexed\",\"secondary_genre_indexed\",\"genre3_indexed\",\"genre4_indexed\",\"genre5_indexed\",\"genre6_indexed\",\"genre7_indexed\",\"genre8_indexed\",\"genre9_indexed\",\"genre10_indexed\",\"genre11_indexed\",\"genre12_indexed\"], outputCol=\"features\")\n",
    "\n",
    "# Define Random Forest Using ParamGrid Permutation\n",
    "\n",
    "rf1 = RandomForestClassifier(labelCol=\"label\", featuresCol=\"features\", numTrees=800, maxDepth=12,maxBins=1000)\n",
    "\n",
    "# Create Pipeline\n",
    "pipeline1 = Pipeline(stages=[indexer,indexer1,indexer2,indexer3,indexer4,indexer6,indexer7,indexer8,indexer9,indexer10,indexer11,indexer12,indexer13,indexer14,indexer15,indexer16,indexer17,indexer18,indexer19,indexer20,vectAssem1,vectAssem2,normalizer1,normalizer2,finalVectorAssembler,rf1])"
   ]
  },
  {
   "cell_type": "code",
   "execution_count": 4,
   "metadata": {
    "scrolled": false
   },
   "outputs": [
    {
     "name": "stderr",
     "output_type": "stream",
     "text": [
      "22/04/04 04:29:25 WARN TaskSetManager: Stage 0 contains a task of very large size (7312 KB). The maximum recommended task size is 100 KB.\n",
      "22/04/04 04:29:36 WARN TaskSetManager: Stage 2 contains a task of very large size (7312 KB). The maximum recommended task size is 100 KB.\n",
      "22/04/04 04:29:39 WARN TaskSetManager: Stage 4 contains a task of very large size (7312 KB). The maximum recommended task size is 100 KB.\n",
      "22/04/04 04:29:42 WARN TaskSetManager: Stage 6 contains a task of very large size (7312 KB). The maximum recommended task size is 100 KB.\n",
      "22/04/04 04:29:45 WARN TaskSetManager: Stage 8 contains a task of very large size (7312 KB). The maximum recommended task size is 100 KB.\n",
      "22/04/04 04:29:48 WARN TaskSetManager: Stage 10 contains a task of very large size (7312 KB). The maximum recommended task size is 100 KB.\n",
      "22/04/04 04:29:50 WARN TaskSetManager: Stage 12 contains a task of very large size (7312 KB). The maximum recommended task size is 100 KB.\n",
      "22/04/04 04:29:53 WARN TaskSetManager: Stage 14 contains a task of very large size (7312 KB). The maximum recommended task size is 100 KB.\n",
      "22/04/04 04:29:55 WARN TaskSetManager: Stage 16 contains a task of very large size (7312 KB). The maximum recommended task size is 100 KB.\n",
      "22/04/04 04:29:57 WARN TaskSetManager: Stage 18 contains a task of very large size (7312 KB). The maximum recommended task size is 100 KB.\n",
      "22/04/04 04:29:59 WARN TaskSetManager: Stage 20 contains a task of very large size (7312 KB). The maximum recommended task size is 100 KB.\n",
      "22/04/04 04:30:01 WARN TaskSetManager: Stage 22 contains a task of very large size (7312 KB). The maximum recommended task size is 100 KB.\n",
      "22/04/04 04:30:03 WARN TaskSetManager: Stage 24 contains a task of very large size (7312 KB). The maximum recommended task size is 100 KB.\n",
      "22/04/04 04:30:05 WARN TaskSetManager: Stage 26 contains a task of very large size (7312 KB). The maximum recommended task size is 100 KB.\n",
      "22/04/04 04:30:06 WARN TaskSetManager: Stage 28 contains a task of very large size (7312 KB). The maximum recommended task size is 100 KB.\n",
      "22/04/04 04:30:08 WARN TaskSetManager: Stage 30 contains a task of very large size (7312 KB). The maximum recommended task size is 100 KB.\n",
      "22/04/04 04:30:10 WARN TaskSetManager: Stage 32 contains a task of very large size (7312 KB). The maximum recommended task size is 100 KB.\n",
      "22/04/04 04:30:11 WARN TaskSetManager: Stage 34 contains a task of very large size (7312 KB). The maximum recommended task size is 100 KB.\n",
      "22/04/04 04:30:13 WARN TaskSetManager: Stage 36 contains a task of very large size (7312 KB). The maximum recommended task size is 100 KB.\n",
      "22/04/04 04:30:14 WARN TaskSetManager: Stage 38 contains a task of very large size (7312 KB). The maximum recommended task size is 100 KB.\n",
      "22/04/04 04:30:16 WARN TaskSetManager: Stage 40 contains a task of very large size (7312 KB). The maximum recommended task size is 100 KB.\n",
      "22/04/04 04:30:19 WARN TaskSetManager: Stage 41 contains a task of very large size (7312 KB). The maximum recommended task size is 100 KB.\n",
      "22/04/04 04:30:21 WARN Utils: Truncated the string representation of a plan since it was too large. This behavior can be adjusted by setting 'spark.debug.maxToStringFields' in SparkEnv.conf.\n",
      "22/04/04 04:30:21 WARN TaskSetManager: Stage 42 contains a task of very large size (7312 KB). The maximum recommended task size is 100 KB.\n",
      "22/04/04 04:30:25 WARN TaskSetManager: Stage 43 contains a task of very large size (7312 KB). The maximum recommended task size is 100 KB.\n",
      "22/04/04 04:30:26 WARN TaskSetManager: Stage 44 contains a task of very large size (7312 KB). The maximum recommended task size is 100 KB.\n",
      "22/04/04 04:30:31 WARN TaskSetManager: Stage 45 contains a task of very large size (7312 KB). The maximum recommended task size is 100 KB.\n",
      "22/04/04 04:30:35 WARN TaskSetManager: Stage 47 contains a task of very large size (7312 KB). The maximum recommended task size is 100 KB.\n",
      "22/04/04 04:30:55 WARN TaskSetManager: Stage 49 contains a task of very large size (7312 KB). The maximum recommended task size is 100 KB.\n",
      "22/04/04 04:31:12 WARN TaskSetManager: Stage 51 contains a task of very large size (7312 KB). The maximum recommended task size is 100 KB.\n",
      "22/04/04 04:31:37 WARN TaskSetManager: Stage 53 contains a task of very large size (7312 KB). The maximum recommended task size is 100 KB.\n",
      "22/04/04 04:32:10 WARN TaskSetManager: Stage 55 contains a task of very large size (7312 KB). The maximum recommended task size is 100 KB.\n",
      "22/04/04 04:32:51 WARN TaskSetManager: Stage 57 contains a task of very large size (7312 KB). The maximum recommended task size is 100 KB.\n",
      "22/04/04 04:33:30 WARN TaskSetManager: Stage 59 contains a task of very large size (7312 KB). The maximum recommended task size is 100 KB.\n",
      "22/04/04 04:34:02 WARN TaskSetManager: Stage 61 contains a task of very large size (7312 KB). The maximum recommended task size is 100 KB.\n",
      "[Stage 63:>                                                         (0 + 0) / 1]22/04/04 04:34:33 WARN TaskSetManager: Stage 63 contains a task of very large size (7312 KB). The maximum recommended task size is 100 KB.\n",
      "22/04/04 04:35:02 WARN TaskSetManager: Stage 65 contains a task of very large size (7312 KB). The maximum recommended task size is 100 KB.\n",
      "[Stage 67:>                                                         (0 + 0) / 1]22/04/04 04:35:32 WARN TaskSetManager: Stage 67 contains a task of very large size (7312 KB). The maximum recommended task size is 100 KB.\n",
      "[Stage 69:>                                                         (0 + 0) / 1]22/04/04 04:36:03 WARN TaskSetManager: Stage 69 contains a task of very large size (7312 KB). The maximum recommended task size is 100 KB.\n",
      "22/04/04 04:36:35 WARN TaskSetManager: Stage 71 contains a task of very large size (7312 KB). The maximum recommended task size is 100 KB.\n",
      "22/04/04 04:37:04 WARN TaskSetManager: Stage 73 contains a task of very large size (7312 KB). The maximum recommended task size is 100 KB.\n",
      "[Stage 75:>                                                         (0 + 0) / 1]22/04/04 04:37:34 WARN TaskSetManager: Stage 75 contains a task of very large size (7312 KB). The maximum recommended task size is 100 KB.\n",
      "[Stage 77:>                                                         (0 + 0) / 1]22/04/04 04:38:05 WARN TaskSetManager: Stage 77 contains a task of very large size (7312 KB). The maximum recommended task size is 100 KB.\n",
      "[Stage 79:>                                                         (0 + 0) / 1]22/04/04 04:38:36 WARN TaskSetManager: Stage 79 contains a task of very large size (7312 KB). The maximum recommended task size is 100 KB.\n",
      "22/04/04 04:39:07 WARN TaskSetManager: Stage 81 contains a task of very large size (7312 KB). The maximum recommended task size is 100 KB.\n",
      "22/04/04 04:39:44 WARN TaskSetManager: Stage 83 contains a task of very large size (7312 KB). The maximum recommended task size is 100 KB.\n",
      "22/04/04 04:40:17 WARN TaskSetManager: Stage 85 contains a task of very large size (7312 KB). The maximum recommended task size is 100 KB.\n",
      "22/04/04 04:40:48 WARN TaskSetManager: Stage 87 contains a task of very large size (7312 KB). The maximum recommended task size is 100 KB.\n",
      "[Stage 89:>                                                         (0 + 0) / 1]22/04/04 04:41:19 WARN TaskSetManager: Stage 89 contains a task of very large size (7312 KB). The maximum recommended task size is 100 KB.\n",
      "[Stage 91:>                                                         (0 + 0) / 1]22/04/04 04:41:50 WARN TaskSetManager: Stage 91 contains a task of very large size (7312 KB). The maximum recommended task size is 100 KB.\n",
      "22/04/04 04:42:23 WARN TaskSetManager: Stage 93 contains a task of very large size (7312 KB). The maximum recommended task size is 100 KB.\n",
      "22/04/04 04:42:51 WARN TaskSetManager: Stage 95 contains a task of very large size (7312 KB). The maximum recommended task size is 100 KB.\n",
      "22/04/04 04:43:12 WARN TaskSetManager: Stage 97 contains a task of very large size (7312 KB). The maximum recommended task size is 100 KB.\n",
      "22/04/04 04:43:36 WARN TaskSetManager: Stage 99 contains a task of very large size (7312 KB). The maximum recommended task size is 100 KB.\n"
     ]
    },
    {
     "name": "stderr",
     "output_type": "stream",
     "text": [
      "22/04/04 04:43:59 WARN TaskSetManager: Stage 101 contains a task of very large size (7312 KB). The maximum recommended task size is 100 KB.\n",
      "22/04/04 04:44:17 WARN TaskSetManager: Stage 103 contains a task of very large size (7312 KB). The maximum recommended task size is 100 KB.\n",
      "22/04/04 04:44:20 WARN TaskSetManager: Stage 105 contains a task of very large size (7312 KB). The maximum recommended task size is 100 KB.\n",
      "[Stage 105:>                                                        (0 + 1) / 1]"
     ]
    },
    {
     "name": "stdout",
     "output_type": "stream",
     "text": [
      "RandomForestClassificationModel (uid=RandomForestClassifier_f9954e382fef) with 800 trees\n"
     ]
    },
    {
     "name": "stderr",
     "output_type": "stream",
     "text": [
      "\r",
      "                                                                                \r"
     ]
    }
   ],
   "source": [
    "# Hyper Parameter Tuning Proof of Concept - 2017 Dataset - Increase Number of Trees to 800 // Increase Max Depth to 12\n",
    "\n",
    "# Data Split\n",
    "\n",
    "df1 = df_data_1[['danceability','energy','loudness','mode','speechiness','acousticness','instrumentalness','liveness','valence','tempo','duration_ms','explicit','has_feature','multigenre','key','time_signature','artistname','albumtype','featuredartist','featuredartist2','featuredartist3','primary_genre','secondary_genre','genre3','genre4','genre5','genre6','genre7','genre8','genre9','genre10','genre11','genre12',labelchoice]]\n",
    "df_spark_1 = spark.createDataFrame(df1)\n",
    "train1, test1 = df_spark_1.randomSplit([0.7, 0.3])\n",
    "\n",
    "# Fit Pipeline\n",
    "model1 = pipeline1.fit(train1)\n",
    "print(model1.stages[-1])"
   ]
  },
  {
   "cell_type": "code",
   "execution_count": 5,
   "metadata": {},
   "outputs": [
    {
     "name": "stderr",
     "output_type": "stream",
     "text": [
      "22/04/04 04:44:23 WARN TaskSetManager: Stage 106 contains a task of very large size (7312 KB). The maximum recommended task size is 100 KB.\n",
      "[Stage 107:>                                                        (0 + 0) / 1]22/04/04 04:44:28 WARN TaskSetManager: Stage 107 contains a task of very large size (7312 KB). The maximum recommended task size is 100 KB.\n",
      "                                                                                \r"
     ]
    },
    {
     "data": {
      "text/plain": [
       "0.8759077753401883"
      ]
     },
     "execution_count": 5,
     "metadata": {},
     "output_type": "execute_result"
    }
   ],
   "source": [
    "# Hyper Parameter Tuning Proof of Concept - 2017 Dataset - Increase Number of Trees to 800 // Increase Max Depth to 12\n",
    "\n",
    "# Evaluate Model - Training Set\n",
    "\n",
    "prediction1 = model1.transform(train1)\n",
    "\n",
    "evaluator.evaluate(prediction1)"
   ]
  },
  {
   "cell_type": "code",
   "execution_count": 6,
   "metadata": {},
   "outputs": [
    {
     "name": "stderr",
     "output_type": "stream",
     "text": [
      "22/04/04 04:45:09 WARN TaskSetManager: Stage 116 contains a task of very large size (7312 KB). The maximum recommended task size is 100 KB.\n",
      "[Stage 117:>                                                        (0 + 0) / 1]22/04/04 04:45:13 WARN TaskSetManager: Stage 117 contains a task of very large size (7312 KB). The maximum recommended task size is 100 KB.\n",
      "                                                                                \r"
     ]
    },
    {
     "data": {
      "text/plain": [
       "0.8718348196717649"
      ]
     },
     "execution_count": 6,
     "metadata": {},
     "output_type": "execute_result"
    }
   ],
   "source": [
    "# Hyper Parameter Tuning Proof of Concept - 2017 Dataset - Increase Number of Trees to 800 // Increase Max Depth to 12\n",
    "\n",
    "# Evaluate Model - Test Set\n",
    "\n",
    "prediction_test1 = model1.transform(test1)\n",
    "\n",
    "evaluator.evaluate(prediction_test1)"
   ]
  },
  {
   "cell_type": "markdown",
   "metadata": {},
   "source": [
    "### Visualization of Feature Importances\n",
    "\n",
    "After analyzing the feature importances for all 5 years from the Random Forest Models above, I set some thresholds for feature selection for future iterations of the project. To do so, I summed up the feature importances for each feature across 5 years, and then used the sum to find a reasonable cutoff point. In this case, I chose features with average importance above 4% to be included, and those below 4% to be removed. As can be seen, there are specific years where certain low importance features passed the 4% threshold. However, over the course of 5 years, features that did not achieve a total sum of 20% were eliminated (<font style=\"background-color:cyan\">**Cyan**</font>).\n",
    "\n",
    "**Thresholds:**\n",
    "<br><font style=\"background-color:limegreen\">**Green**</font> = Acceptable: Feature Importance > 4%\n",
    "<br><font style=\"background-color:orange\">**Orange**</font> = Borderline: Feature Importance >= 3% AND <= 4%\n",
    "<br><font style=\"background-color:yellow\">**Yellow**</font> = Not Acceptable: Feature Importance < 3%\n",
    "<br><font style=\"background-color:pink\">**Pink**</font> = Keep Feature: Average Feature Importance >= 4%\n",
    "<br><font style=\"background-color:cyan\">**Cyan**</font> = Remove Feature: Average Feature Importance < 4%\n",
    "\n",
    "**Thus, the final set of features for future iterations is as follows:**\n",
    "* Artist Name - Average Importance: **10.3%**\n",
    "* Featured Artist - Average Importance: **9.2%**\n",
    "* Primary Genre - Average Importance: **7.4%**\n",
    "* Tempo - Average Importance: **5.6%**\n",
    "* Loudness - Average Importance: **5.5%**\n",
    "* Liveness - Average Importance: **5.2%**\n",
    "* Duration - Average Importance: **5.2%**\n",
    "* Valence - Average Importance: **5.1%**\n",
    "* Energy - Average Importance: **4.9%**\n",
    "* Acousticness - Average Importance: **4.9%**\n",
    "* Danceability - Average Importance: **4.9%**\n",
    "* Speechiness - Average Importance: **4.8%**\n",
    "* Secondary Genre - Average Importance: **4.0%**\n",
    "\n",
    "Note: Table formatting (colors) unfortunately does not show up on PDF export. The colored table is included in the Slide Deck Presentation PDF however. As a workaround, I have manually highlighted the appropriate cells post export."
   ]
  },
  {
   "cell_type": "code",
   "execution_count": 1,
   "metadata": {},
   "outputs": [
    {
     "data": {
      "text/html": [
       "<style  type=\"text/css\" >\n",
       "#T_09e92_row0_col1,#T_09e92_row0_col2,#T_09e92_row0_col3,#T_09e92_row0_col4,#T_09e92_row0_col5,#T_09e92_row1_col1,#T_09e92_row1_col2,#T_09e92_row1_col3,#T_09e92_row1_col4,#T_09e92_row1_col5,#T_09e92_row2_col1,#T_09e92_row2_col2,#T_09e92_row2_col3,#T_09e92_row2_col4,#T_09e92_row2_col5,#T_09e92_row3_col1,#T_09e92_row3_col2,#T_09e92_row3_col3,#T_09e92_row3_col4,#T_09e92_row3_col5,#T_09e92_row4_col1,#T_09e92_row4_col2,#T_09e92_row4_col3,#T_09e92_row4_col4,#T_09e92_row4_col5,#T_09e92_row5_col1,#T_09e92_row5_col2,#T_09e92_row5_col3,#T_09e92_row5_col4,#T_09e92_row5_col5,#T_09e92_row6_col1,#T_09e92_row6_col2,#T_09e92_row6_col3,#T_09e92_row6_col4,#T_09e92_row6_col5,#T_09e92_row7_col1,#T_09e92_row7_col3,#T_09e92_row7_col4,#T_09e92_row7_col5,#T_09e92_row8_col1,#T_09e92_row8_col2,#T_09e92_row8_col3,#T_09e92_row8_col4,#T_09e92_row8_col5,#T_09e92_row9_col1,#T_09e92_row9_col2,#T_09e92_row9_col4,#T_09e92_row9_col5,#T_09e92_row10_col1,#T_09e92_row10_col2,#T_09e92_row10_col3,#T_09e92_row10_col4,#T_09e92_row10_col5,#T_09e92_row11_col1,#T_09e92_row11_col2,#T_09e92_row11_col3,#T_09e92_row11_col4,#T_09e92_row11_col5,#T_09e92_row12_col1,#T_09e92_row12_col3,#T_09e92_row12_col4,#T_09e92_row13_col3,#T_09e92_row15_col2,#T_09e92_row17_col4{\n",
       "            background-color:  limegreen;\n",
       "        }#T_09e92_row0_col6,#T_09e92_row0_col7,#T_09e92_row1_col6,#T_09e92_row1_col7,#T_09e92_row2_col6,#T_09e92_row2_col7,#T_09e92_row3_col6,#T_09e92_row3_col7,#T_09e92_row4_col6,#T_09e92_row4_col7,#T_09e92_row5_col6,#T_09e92_row5_col7,#T_09e92_row6_col6,#T_09e92_row6_col7,#T_09e92_row7_col6,#T_09e92_row7_col7,#T_09e92_row8_col6,#T_09e92_row8_col7,#T_09e92_row9_col6,#T_09e92_row9_col7,#T_09e92_row10_col6,#T_09e92_row10_col7,#T_09e92_row11_col6,#T_09e92_row11_col7,#T_09e92_row12_col6,#T_09e92_row12_col7{\n",
       "            background-color:  pink;\n",
       "        }#T_09e92_row7_col2,#T_09e92_row9_col3,#T_09e92_row13_col1,#T_09e92_row13_col4,#T_09e92_row14_col4,#T_09e92_row16_col2,#T_09e92_row16_col5,#T_09e92_row19_col3{\n",
       "            background-color:  orange;\n",
       "        }#T_09e92_row12_col2,#T_09e92_row12_col5,#T_09e92_row13_col2,#T_09e92_row13_col5,#T_09e92_row14_col1,#T_09e92_row14_col2,#T_09e92_row14_col3,#T_09e92_row14_col5,#T_09e92_row15_col1,#T_09e92_row15_col3,#T_09e92_row15_col4,#T_09e92_row15_col5,#T_09e92_row16_col1,#T_09e92_row16_col3,#T_09e92_row16_col4,#T_09e92_row17_col1,#T_09e92_row17_col2,#T_09e92_row17_col3,#T_09e92_row17_col5,#T_09e92_row18_col1,#T_09e92_row18_col2,#T_09e92_row18_col3,#T_09e92_row18_col4,#T_09e92_row18_col5,#T_09e92_row19_col1,#T_09e92_row19_col2,#T_09e92_row19_col4,#T_09e92_row19_col5,#T_09e92_row20_col1,#T_09e92_row20_col2,#T_09e92_row20_col3,#T_09e92_row20_col4,#T_09e92_row20_col5,#T_09e92_row21_col1,#T_09e92_row21_col2,#T_09e92_row21_col3,#T_09e92_row21_col4,#T_09e92_row21_col5,#T_09e92_row22_col1,#T_09e92_row22_col2,#T_09e92_row22_col3,#T_09e92_row22_col4,#T_09e92_row22_col5,#T_09e92_row23_col1,#T_09e92_row23_col2,#T_09e92_row23_col3,#T_09e92_row23_col4,#T_09e92_row23_col5,#T_09e92_row24_col1,#T_09e92_row24_col2,#T_09e92_row24_col3,#T_09e92_row24_col4,#T_09e92_row24_col5,#T_09e92_row25_col1,#T_09e92_row25_col2,#T_09e92_row25_col3,#T_09e92_row25_col4,#T_09e92_row25_col5,#T_09e92_row26_col1,#T_09e92_row26_col2,#T_09e92_row26_col3,#T_09e92_row26_col4,#T_09e92_row26_col5,#T_09e92_row27_col1,#T_09e92_row27_col2,#T_09e92_row27_col3,#T_09e92_row27_col4,#T_09e92_row27_col5,#T_09e92_row28_col1,#T_09e92_row28_col2,#T_09e92_row28_col3,#T_09e92_row28_col4,#T_09e92_row28_col5,#T_09e92_row29_col1,#T_09e92_row29_col2,#T_09e92_row29_col3,#T_09e92_row29_col4,#T_09e92_row29_col5,#T_09e92_row30_col1,#T_09e92_row30_col2,#T_09e92_row30_col3,#T_09e92_row30_col4,#T_09e92_row30_col5,#T_09e92_row31_col1,#T_09e92_row31_col2,#T_09e92_row31_col3,#T_09e92_row31_col4,#T_09e92_row31_col5,#T_09e92_row32_col1,#T_09e92_row32_col2,#T_09e92_row32_col3,#T_09e92_row32_col4,#T_09e92_row32_col5{\n",
       "            background-color:  yellow;\n",
       "        }#T_09e92_row13_col6,#T_09e92_row13_col7,#T_09e92_row14_col6,#T_09e92_row14_col7,#T_09e92_row15_col6,#T_09e92_row15_col7,#T_09e92_row16_col6,#T_09e92_row16_col7,#T_09e92_row17_col6,#T_09e92_row17_col7,#T_09e92_row18_col6,#T_09e92_row18_col7,#T_09e92_row19_col6,#T_09e92_row19_col7,#T_09e92_row20_col6,#T_09e92_row20_col7,#T_09e92_row21_col6,#T_09e92_row21_col7,#T_09e92_row22_col6,#T_09e92_row22_col7,#T_09e92_row23_col6,#T_09e92_row23_col7,#T_09e92_row24_col6,#T_09e92_row24_col7,#T_09e92_row25_col6,#T_09e92_row25_col7,#T_09e92_row26_col6,#T_09e92_row26_col7,#T_09e92_row27_col6,#T_09e92_row27_col7,#T_09e92_row28_col6,#T_09e92_row28_col7,#T_09e92_row29_col6,#T_09e92_row29_col7,#T_09e92_row30_col6,#T_09e92_row30_col7,#T_09e92_row31_col6,#T_09e92_row31_col7,#T_09e92_row32_col6,#T_09e92_row32_col7{\n",
       "            background-color:  cyan;\n",
       "        }</style><table id=\"T_09e92_\" ><thead>    <tr>        <th class=\"blank level0\" ></th>        <th class=\"col_heading level0 col0\" >Feature</th>        <th class=\"col_heading level0 col1\" >2021</th>        <th class=\"col_heading level0 col2\" >2020</th>        <th class=\"col_heading level0 col3\" >2019</th>        <th class=\"col_heading level0 col4\" >2018</th>        <th class=\"col_heading level0 col5\" >2017</th>        <th class=\"col_heading level0 col6\" >SUM</th>        <th class=\"col_heading level0 col7\" >AVERAGE</th>    </tr></thead><tbody>\n",
       "                <tr>\n",
       "                        <th id=\"T_09e92_level0_row0\" class=\"row_heading level0 row0\" >0</th>\n",
       "                        <td id=\"T_09e92_row0_col0\" class=\"data row0 col0\" >artistname_indexed</td>\n",
       "                        <td id=\"T_09e92_row0_col1\" class=\"data row0 col1\" >0.123817</td>\n",
       "                        <td id=\"T_09e92_row0_col2\" class=\"data row0 col2\" >0.075257</td>\n",
       "                        <td id=\"T_09e92_row0_col3\" class=\"data row0 col3\" >0.107869</td>\n",
       "                        <td id=\"T_09e92_row0_col4\" class=\"data row0 col4\" >0.091307</td>\n",
       "                        <td id=\"T_09e92_row0_col5\" class=\"data row0 col5\" >0.118017</td>\n",
       "                        <td id=\"T_09e92_row0_col6\" class=\"data row0 col6\" >0.516267</td>\n",
       "                        <td id=\"T_09e92_row0_col7\" class=\"data row0 col7\" >0.103253</td>\n",
       "            </tr>\n",
       "            <tr>\n",
       "                        <th id=\"T_09e92_level0_row1\" class=\"row_heading level0 row1\" >1</th>\n",
       "                        <td id=\"T_09e92_row1_col0\" class=\"data row1 col0\" >featuredartist_indexed</td>\n",
       "                        <td id=\"T_09e92_row1_col1\" class=\"data row1 col1\" >0.059671</td>\n",
       "                        <td id=\"T_09e92_row1_col2\" class=\"data row1 col2\" >0.111273</td>\n",
       "                        <td id=\"T_09e92_row1_col3\" class=\"data row1 col3\" >0.072024</td>\n",
       "                        <td id=\"T_09e92_row1_col4\" class=\"data row1 col4\" >0.096596</td>\n",
       "                        <td id=\"T_09e92_row1_col5\" class=\"data row1 col5\" >0.120896</td>\n",
       "                        <td id=\"T_09e92_row1_col6\" class=\"data row1 col6\" >0.460461</td>\n",
       "                        <td id=\"T_09e92_row1_col7\" class=\"data row1 col7\" >0.092092</td>\n",
       "            </tr>\n",
       "            <tr>\n",
       "                        <th id=\"T_09e92_level0_row2\" class=\"row_heading level0 row2\" >2</th>\n",
       "                        <td id=\"T_09e92_row2_col0\" class=\"data row2 col0\" >primary_genre_indexed</td>\n",
       "                        <td id=\"T_09e92_row2_col1\" class=\"data row2 col1\" >0.093213</td>\n",
       "                        <td id=\"T_09e92_row2_col2\" class=\"data row2 col2\" >0.069956</td>\n",
       "                        <td id=\"T_09e92_row2_col3\" class=\"data row2 col3\" >0.080219</td>\n",
       "                        <td id=\"T_09e92_row2_col4\" class=\"data row2 col4\" >0.061358</td>\n",
       "                        <td id=\"T_09e92_row2_col5\" class=\"data row2 col5\" >0.067475</td>\n",
       "                        <td id=\"T_09e92_row2_col6\" class=\"data row2 col6\" >0.372221</td>\n",
       "                        <td id=\"T_09e92_row2_col7\" class=\"data row2 col7\" >0.074444</td>\n",
       "            </tr>\n",
       "            <tr>\n",
       "                        <th id=\"T_09e92_level0_row3\" class=\"row_heading level0 row3\" >3</th>\n",
       "                        <td id=\"T_09e92_row3_col0\" class=\"data row3 col0\" >scaled_tempo</td>\n",
       "                        <td id=\"T_09e92_row3_col1\" class=\"data row3 col1\" >0.045616</td>\n",
       "                        <td id=\"T_09e92_row3_col2\" class=\"data row3 col2\" >0.065078</td>\n",
       "                        <td id=\"T_09e92_row3_col3\" class=\"data row3 col3\" >0.050962</td>\n",
       "                        <td id=\"T_09e92_row3_col4\" class=\"data row3 col4\" >0.065487</td>\n",
       "                        <td id=\"T_09e92_row3_col5\" class=\"data row3 col5\" >0.054648</td>\n",
       "                        <td id=\"T_09e92_row3_col6\" class=\"data row3 col6\" >0.281791</td>\n",
       "                        <td id=\"T_09e92_row3_col7\" class=\"data row3 col7\" >0.056358</td>\n",
       "            </tr>\n",
       "            <tr>\n",
       "                        <th id=\"T_09e92_level0_row4\" class=\"row_heading level0 row4\" >4</th>\n",
       "                        <td id=\"T_09e92_row4_col0\" class=\"data row4 col0\" >loudness</td>\n",
       "                        <td id=\"T_09e92_row4_col1\" class=\"data row4 col1\" >0.047695</td>\n",
       "                        <td id=\"T_09e92_row4_col2\" class=\"data row4 col2\" >0.080769</td>\n",
       "                        <td id=\"T_09e92_row4_col3\" class=\"data row4 col3\" >0.056587</td>\n",
       "                        <td id=\"T_09e92_row4_col4\" class=\"data row4 col4\" >0.042986</td>\n",
       "                        <td id=\"T_09e92_row4_col5\" class=\"data row4 col5\" >0.048175</td>\n",
       "                        <td id=\"T_09e92_row4_col6\" class=\"data row4 col6\" >0.276212</td>\n",
       "                        <td id=\"T_09e92_row4_col7\" class=\"data row4 col7\" >0.055242</td>\n",
       "            </tr>\n",
       "            <tr>\n",
       "                        <th id=\"T_09e92_level0_row5\" class=\"row_heading level0 row5\" >5</th>\n",
       "                        <td id=\"T_09e92_row5_col0\" class=\"data row5 col0\" >liveness</td>\n",
       "                        <td id=\"T_09e92_row5_col1\" class=\"data row5 col1\" >0.050288</td>\n",
       "                        <td id=\"T_09e92_row5_col2\" class=\"data row5 col2\" >0.053624</td>\n",
       "                        <td id=\"T_09e92_row5_col3\" class=\"data row5 col3\" >0.071057</td>\n",
       "                        <td id=\"T_09e92_row5_col4\" class=\"data row5 col4\" >0.043948</td>\n",
       "                        <td id=\"T_09e92_row5_col5\" class=\"data row5 col5\" >0.041774</td>\n",
       "                        <td id=\"T_09e92_row5_col6\" class=\"data row5 col6\" >0.260691</td>\n",
       "                        <td id=\"T_09e92_row5_col7\" class=\"data row5 col7\" >0.052138</td>\n",
       "            </tr>\n",
       "            <tr>\n",
       "                        <th id=\"T_09e92_level0_row6\" class=\"row_heading level0 row6\" >6</th>\n",
       "                        <td id=\"T_09e92_row6_col0\" class=\"data row6 col0\" >scaled_duration</td>\n",
       "                        <td id=\"T_09e92_row6_col1\" class=\"data row6 col1\" >0.048711</td>\n",
       "                        <td id=\"T_09e92_row6_col2\" class=\"data row6 col2\" >0.043295</td>\n",
       "                        <td id=\"T_09e92_row6_col3\" class=\"data row6 col3\" >0.041363</td>\n",
       "                        <td id=\"T_09e92_row6_col4\" class=\"data row6 col4\" >0.073865</td>\n",
       "                        <td id=\"T_09e92_row6_col5\" class=\"data row6 col5\" >0.050354</td>\n",
       "                        <td id=\"T_09e92_row6_col6\" class=\"data row6 col6\" >0.257587</td>\n",
       "                        <td id=\"T_09e92_row6_col7\" class=\"data row6 col7\" >0.051517</td>\n",
       "            </tr>\n",
       "            <tr>\n",
       "                        <th id=\"T_09e92_level0_row7\" class=\"row_heading level0 row7\" >7</th>\n",
       "                        <td id=\"T_09e92_row7_col0\" class=\"data row7 col0\" >valence</td>\n",
       "                        <td id=\"T_09e92_row7_col1\" class=\"data row7 col1\" >0.048183</td>\n",
       "                        <td id=\"T_09e92_row7_col2\" class=\"data row7 col2\" >0.036589</td>\n",
       "                        <td id=\"T_09e92_row7_col3\" class=\"data row7 col3\" >0.046523</td>\n",
       "                        <td id=\"T_09e92_row7_col4\" class=\"data row7 col4\" >0.050744</td>\n",
       "                        <td id=\"T_09e92_row7_col5\" class=\"data row7 col5\" >0.074429</td>\n",
       "                        <td id=\"T_09e92_row7_col6\" class=\"data row7 col6\" >0.256469</td>\n",
       "                        <td id=\"T_09e92_row7_col7\" class=\"data row7 col7\" >0.051294</td>\n",
       "            </tr>\n",
       "            <tr>\n",
       "                        <th id=\"T_09e92_level0_row8\" class=\"row_heading level0 row8\" >8</th>\n",
       "                        <td id=\"T_09e92_row8_col0\" class=\"data row8 col0\" >energy</td>\n",
       "                        <td id=\"T_09e92_row8_col1\" class=\"data row8 col1\" >0.053490</td>\n",
       "                        <td id=\"T_09e92_row8_col2\" class=\"data row8 col2\" >0.056037</td>\n",
       "                        <td id=\"T_09e92_row8_col3\" class=\"data row8 col3\" >0.040528</td>\n",
       "                        <td id=\"T_09e92_row8_col4\" class=\"data row8 col4\" >0.047522</td>\n",
       "                        <td id=\"T_09e92_row8_col5\" class=\"data row8 col5\" >0.049571</td>\n",
       "                        <td id=\"T_09e92_row8_col6\" class=\"data row8 col6\" >0.247148</td>\n",
       "                        <td id=\"T_09e92_row8_col7\" class=\"data row8 col7\" >0.049430</td>\n",
       "            </tr>\n",
       "            <tr>\n",
       "                        <th id=\"T_09e92_level0_row9\" class=\"row_heading level0 row9\" >9</th>\n",
       "                        <td id=\"T_09e92_row9_col0\" class=\"data row9 col0\" >acousticness</td>\n",
       "                        <td id=\"T_09e92_row9_col1\" class=\"data row9 col1\" >0.072903</td>\n",
       "                        <td id=\"T_09e92_row9_col2\" class=\"data row9 col2\" >0.048430</td>\n",
       "                        <td id=\"T_09e92_row9_col3\" class=\"data row9 col3\" >0.037916</td>\n",
       "                        <td id=\"T_09e92_row9_col4\" class=\"data row9 col4\" >0.041026</td>\n",
       "                        <td id=\"T_09e92_row9_col5\" class=\"data row9 col5\" >0.043189</td>\n",
       "                        <td id=\"T_09e92_row9_col6\" class=\"data row9 col6\" >0.243463</td>\n",
       "                        <td id=\"T_09e92_row9_col7\" class=\"data row9 col7\" >0.048693</td>\n",
       "            </tr>\n",
       "            <tr>\n",
       "                        <th id=\"T_09e92_level0_row10\" class=\"row_heading level0 row10\" >10</th>\n",
       "                        <td id=\"T_09e92_row10_col0\" class=\"data row10 col0\" >danceability</td>\n",
       "                        <td id=\"T_09e92_row10_col1\" class=\"data row10 col1\" >0.049102</td>\n",
       "                        <td id=\"T_09e92_row10_col2\" class=\"data row10 col2\" >0.052344</td>\n",
       "                        <td id=\"T_09e92_row10_col3\" class=\"data row10 col3\" >0.055830</td>\n",
       "                        <td id=\"T_09e92_row10_col4\" class=\"data row10 col4\" >0.043539</td>\n",
       "                        <td id=\"T_09e92_row10_col5\" class=\"data row10 col5\" >0.042011</td>\n",
       "                        <td id=\"T_09e92_row10_col6\" class=\"data row10 col6\" >0.242826</td>\n",
       "                        <td id=\"T_09e92_row10_col7\" class=\"data row10 col7\" >0.048565</td>\n",
       "            </tr>\n",
       "            <tr>\n",
       "                        <th id=\"T_09e92_level0_row11\" class=\"row_heading level0 row11\" >11</th>\n",
       "                        <td id=\"T_09e92_row11_col0\" class=\"data row11 col0\" >speechiness</td>\n",
       "                        <td id=\"T_09e92_row11_col1\" class=\"data row11 col1\" >0.053945</td>\n",
       "                        <td id=\"T_09e92_row11_col2\" class=\"data row11 col2\" >0.051496</td>\n",
       "                        <td id=\"T_09e92_row11_col3\" class=\"data row11 col3\" >0.045922</td>\n",
       "                        <td id=\"T_09e92_row11_col4\" class=\"data row11 col4\" >0.041756</td>\n",
       "                        <td id=\"T_09e92_row11_col5\" class=\"data row11 col5\" >0.044902</td>\n",
       "                        <td id=\"T_09e92_row11_col6\" class=\"data row11 col6\" >0.238021</td>\n",
       "                        <td id=\"T_09e92_row11_col7\" class=\"data row11 col7\" >0.047604</td>\n",
       "            </tr>\n",
       "            <tr>\n",
       "                        <th id=\"T_09e92_level0_row12\" class=\"row_heading level0 row12\" >12</th>\n",
       "                        <td id=\"T_09e92_row12_col0\" class=\"data row12 col0\" >secondary_genre_indexed</td>\n",
       "                        <td id=\"T_09e92_row12_col1\" class=\"data row12 col1\" >0.044220</td>\n",
       "                        <td id=\"T_09e92_row12_col2\" class=\"data row12 col2\" >0.023136</td>\n",
       "                        <td id=\"T_09e92_row12_col3\" class=\"data row12 col3\" >0.053115</td>\n",
       "                        <td id=\"T_09e92_row12_col4\" class=\"data row12 col4\" >0.059886</td>\n",
       "                        <td id=\"T_09e92_row12_col5\" class=\"data row12 col5\" >0.020453</td>\n",
       "                        <td id=\"T_09e92_row12_col6\" class=\"data row12 col6\" >0.200811</td>\n",
       "                        <td id=\"T_09e92_row12_col7\" class=\"data row12 col7\" >0.040162</td>\n",
       "            </tr>\n",
       "            <tr>\n",
       "                        <th id=\"T_09e92_level0_row13\" class=\"row_heading level0 row13\" >13</th>\n",
       "                        <td id=\"T_09e92_row13_col0\" class=\"data row13 col0\" >key_indexed</td>\n",
       "                        <td id=\"T_09e92_row13_col1\" class=\"data row13 col1\" >0.030143</td>\n",
       "                        <td id=\"T_09e92_row13_col2\" class=\"data row13 col2\" >0.027351</td>\n",
       "                        <td id=\"T_09e92_row13_col3\" class=\"data row13 col3\" >0.046301</td>\n",
       "                        <td id=\"T_09e92_row13_col4\" class=\"data row13 col4\" >0.033584</td>\n",
       "                        <td id=\"T_09e92_row13_col5\" class=\"data row13 col5\" >0.025448</td>\n",
       "                        <td id=\"T_09e92_row13_col6\" class=\"data row13 col6\" >0.162827</td>\n",
       "                        <td id=\"T_09e92_row13_col7\" class=\"data row13 col7\" >0.032565</td>\n",
       "            </tr>\n",
       "            <tr>\n",
       "                        <th id=\"T_09e92_level0_row14\" class=\"row_heading level0 row14\" >14</th>\n",
       "                        <td id=\"T_09e92_row14_col0\" class=\"data row14 col0\" >genre3_indexed</td>\n",
       "                        <td id=\"T_09e92_row14_col1\" class=\"data row14 col1\" >0.025539</td>\n",
       "                        <td id=\"T_09e92_row14_col2\" class=\"data row14 col2\" >0.022880</td>\n",
       "                        <td id=\"T_09e92_row14_col3\" class=\"data row14 col3\" >0.026544</td>\n",
       "                        <td id=\"T_09e92_row14_col4\" class=\"data row14 col4\" >0.039013</td>\n",
       "                        <td id=\"T_09e92_row14_col5\" class=\"data row14 col5\" >0.028611</td>\n",
       "                        <td id=\"T_09e92_row14_col6\" class=\"data row14 col6\" >0.142587</td>\n",
       "                        <td id=\"T_09e92_row14_col7\" class=\"data row14 col7\" >0.028517</td>\n",
       "            </tr>\n",
       "            <tr>\n",
       "                        <th id=\"T_09e92_level0_row15\" class=\"row_heading level0 row15\" >15</th>\n",
       "                        <td id=\"T_09e92_row15_col0\" class=\"data row15 col0\" >genre4_indexed</td>\n",
       "                        <td id=\"T_09e92_row15_col1\" class=\"data row15 col1\" >0.027885</td>\n",
       "                        <td id=\"T_09e92_row15_col2\" class=\"data row15 col2\" >0.041189</td>\n",
       "                        <td id=\"T_09e92_row15_col3\" class=\"data row15 col3\" >0.023399</td>\n",
       "                        <td id=\"T_09e92_row15_col4\" class=\"data row15 col4\" >0.021424</td>\n",
       "                        <td id=\"T_09e92_row15_col5\" class=\"data row15 col5\" >0.017283</td>\n",
       "                        <td id=\"T_09e92_row15_col6\" class=\"data row15 col6\" >0.131180</td>\n",
       "                        <td id=\"T_09e92_row15_col7\" class=\"data row15 col7\" >0.026236</td>\n",
       "            </tr>\n",
       "            <tr>\n",
       "                        <th id=\"T_09e92_level0_row16\" class=\"row_heading level0 row16\" >16</th>\n",
       "                        <td id=\"T_09e92_row16_col0\" class=\"data row16 col0\" >featuredartist2_indexed</td>\n",
       "                        <td id=\"T_09e92_row16_col1\" class=\"data row16 col1\" >0.020499</td>\n",
       "                        <td id=\"T_09e92_row16_col2\" class=\"data row16 col2\" >0.031430</td>\n",
       "                        <td id=\"T_09e92_row16_col3\" class=\"data row16 col3\" >0.018991</td>\n",
       "                        <td id=\"T_09e92_row16_col4\" class=\"data row16 col4\" >0.026663</td>\n",
       "                        <td id=\"T_09e92_row16_col5\" class=\"data row16 col5\" >0.031119</td>\n",
       "                        <td id=\"T_09e92_row16_col6\" class=\"data row16 col6\" >0.128703</td>\n",
       "                        <td id=\"T_09e92_row16_col7\" class=\"data row16 col7\" >0.025741</td>\n",
       "            </tr>\n",
       "            <tr>\n",
       "                        <th id=\"T_09e92_level0_row17\" class=\"row_heading level0 row17\" >17</th>\n",
       "                        <td id=\"T_09e92_row17_col0\" class=\"data row17 col0\" >instrumentalness</td>\n",
       "                        <td id=\"T_09e92_row17_col1\" class=\"data row17 col1\" >0.021463</td>\n",
       "                        <td id=\"T_09e92_row17_col2\" class=\"data row17 col2\" >0.023071</td>\n",
       "                        <td id=\"T_09e92_row17_col3\" class=\"data row17 col3\" >0.015027</td>\n",
       "                        <td id=\"T_09e92_row17_col4\" class=\"data row17 col4\" >0.040586</td>\n",
       "                        <td id=\"T_09e92_row17_col5\" class=\"data row17 col5\" >0.021797</td>\n",
       "                        <td id=\"T_09e92_row17_col6\" class=\"data row17 col6\" >0.121942</td>\n",
       "                        <td id=\"T_09e92_row17_col7\" class=\"data row17 col7\" >0.024388</td>\n",
       "            </tr>\n",
       "            <tr>\n",
       "                        <th id=\"T_09e92_level0_row18\" class=\"row_heading level0 row18\" >18</th>\n",
       "                        <td id=\"T_09e92_row18_col0\" class=\"data row18 col0\" >genre5_indexed</td>\n",
       "                        <td id=\"T_09e92_row18_col1\" class=\"data row18 col1\" >0.011635</td>\n",
       "                        <td id=\"T_09e92_row18_col2\" class=\"data row18 col2\" >0.020489</td>\n",
       "                        <td id=\"T_09e92_row18_col3\" class=\"data row18 col3\" >0.018614</td>\n",
       "                        <td id=\"T_09e92_row18_col4\" class=\"data row18 col4\" >0.020604</td>\n",
       "                        <td id=\"T_09e92_row18_col5\" class=\"data row18 col5\" >0.021145</td>\n",
       "                        <td id=\"T_09e92_row18_col6\" class=\"data row18 col6\" >0.092488</td>\n",
       "                        <td id=\"T_09e92_row18_col7\" class=\"data row18 col7\" >0.018498</td>\n",
       "            </tr>\n",
       "            <tr>\n",
       "                        <th id=\"T_09e92_level0_row19\" class=\"row_heading level0 row19\" >19</th>\n",
       "                        <td id=\"T_09e92_row19_col0\" class=\"data row19 col0\" >genre6_indexed</td>\n",
       "                        <td id=\"T_09e92_row19_col1\" class=\"data row19 col1\" >0.005597</td>\n",
       "                        <td id=\"T_09e92_row19_col2\" class=\"data row19 col2\" >0.014967</td>\n",
       "                        <td id=\"T_09e92_row19_col3\" class=\"data row19 col3\" >0.030040</td>\n",
       "                        <td id=\"T_09e92_row19_col4\" class=\"data row19 col4\" >0.011845</td>\n",
       "                        <td id=\"T_09e92_row19_col5\" class=\"data row19 col5\" >0.015825</td>\n",
       "                        <td id=\"T_09e92_row19_col6\" class=\"data row19 col6\" >0.078274</td>\n",
       "                        <td id=\"T_09e92_row19_col7\" class=\"data row19 col7\" >0.015655</td>\n",
       "            </tr>\n",
       "            <tr>\n",
       "                        <th id=\"T_09e92_level0_row20\" class=\"row_heading level0 row20\" >20</th>\n",
       "                        <td id=\"T_09e92_row20_col0\" class=\"data row20 col0\" >explicit</td>\n",
       "                        <td id=\"T_09e92_row20_col1\" class=\"data row20 col1\" >0.022303</td>\n",
       "                        <td id=\"T_09e92_row20_col2\" class=\"data row20 col2\" >0.005914</td>\n",
       "                        <td id=\"T_09e92_row20_col3\" class=\"data row20 col3\" >0.020234</td>\n",
       "                        <td id=\"T_09e92_row20_col4\" class=\"data row20 col4\" >0.006554</td>\n",
       "                        <td id=\"T_09e92_row20_col5\" class=\"data row20 col5\" >0.003462</td>\n",
       "                        <td id=\"T_09e92_row20_col6\" class=\"data row20 col6\" >0.058468</td>\n",
       "                        <td id=\"T_09e92_row20_col7\" class=\"data row20 col7\" >0.011694</td>\n",
       "            </tr>\n",
       "            <tr>\n",
       "                        <th id=\"T_09e92_level0_row21\" class=\"row_heading level0 row21\" >21</th>\n",
       "                        <td id=\"T_09e92_row21_col0\" class=\"data row21 col0\" >albumtype_indexed</td>\n",
       "                        <td id=\"T_09e92_row21_col1\" class=\"data row21 col1\" >0.004896</td>\n",
       "                        <td id=\"T_09e92_row21_col2\" class=\"data row21 col2\" >0.006503</td>\n",
       "                        <td id=\"T_09e92_row21_col3\" class=\"data row21 col3\" >0.012298</td>\n",
       "                        <td id=\"T_09e92_row21_col4\" class=\"data row21 col4\" >0.008748</td>\n",
       "                        <td id=\"T_09e92_row21_col5\" class=\"data row21 col5\" >0.013093</td>\n",
       "                        <td id=\"T_09e92_row21_col6\" class=\"data row21 col6\" >0.045539</td>\n",
       "                        <td id=\"T_09e92_row21_col7\" class=\"data row21 col7\" >0.009108</td>\n",
       "            </tr>\n",
       "            <tr>\n",
       "                        <th id=\"T_09e92_level0_row22\" class=\"row_heading level0 row22\" >22</th>\n",
       "                        <td id=\"T_09e92_row22_col0\" class=\"data row22 col0\" >genre7_indexed</td>\n",
       "                        <td id=\"T_09e92_row22_col1\" class=\"data row22 col1\" >0.009225</td>\n",
       "                        <td id=\"T_09e92_row22_col2\" class=\"data row22 col2\" >0.002869</td>\n",
       "                        <td id=\"T_09e92_row22_col3\" class=\"data row22 col3\" >0.005202</td>\n",
       "                        <td id=\"T_09e92_row22_col4\" class=\"data row22 col4\" >0.007024</td>\n",
       "                        <td id=\"T_09e92_row22_col5\" class=\"data row22 col5\" >0.012304</td>\n",
       "                        <td id=\"T_09e92_row22_col6\" class=\"data row22 col6\" >0.036625</td>\n",
       "                        <td id=\"T_09e92_row22_col7\" class=\"data row22 col7\" >0.007325</td>\n",
       "            </tr>\n",
       "            <tr>\n",
       "                        <th id=\"T_09e92_level0_row23\" class=\"row_heading level0 row23\" >23</th>\n",
       "                        <td id=\"T_09e92_row23_col0\" class=\"data row23 col0\" >featuredartist3_indexed</td>\n",
       "                        <td id=\"T_09e92_row23_col1\" class=\"data row23 col1\" >0.003279</td>\n",
       "                        <td id=\"T_09e92_row23_col2\" class=\"data row23 col2\" >0.016846</td>\n",
       "                        <td id=\"T_09e92_row23_col3\" class=\"data row23 col3\" >0.006238</td>\n",
       "                        <td id=\"T_09e92_row23_col4\" class=\"data row23 col4\" >0.002096</td>\n",
       "                        <td id=\"T_09e92_row23_col5\" class=\"data row23 col5\" >0.005356</td>\n",
       "                        <td id=\"T_09e92_row23_col6\" class=\"data row23 col6\" >0.033814</td>\n",
       "                        <td id=\"T_09e92_row23_col7\" class=\"data row23 col7\" >0.006763</td>\n",
       "            </tr>\n",
       "            <tr>\n",
       "                        <th id=\"T_09e92_level0_row24\" class=\"row_heading level0 row24\" >24</th>\n",
       "                        <td id=\"T_09e92_row24_col0\" class=\"data row24 col0\" >genre8_indexed</td>\n",
       "                        <td id=\"T_09e92_row24_col1\" class=\"data row24 col1\" >0.004627</td>\n",
       "                        <td id=\"T_09e92_row24_col2\" class=\"data row24 col2\" >0.002218</td>\n",
       "                        <td id=\"T_09e92_row24_col3\" class=\"data row24 col3\" >0.003002</td>\n",
       "                        <td id=\"T_09e92_row24_col4\" class=\"data row24 col4\" >0.009360</td>\n",
       "                        <td id=\"T_09e92_row24_col5\" class=\"data row24 col5\" >0.004880</td>\n",
       "                        <td id=\"T_09e92_row24_col6\" class=\"data row24 col6\" >0.024088</td>\n",
       "                        <td id=\"T_09e92_row24_col7\" class=\"data row24 col7\" >0.004818</td>\n",
       "            </tr>\n",
       "            <tr>\n",
       "                        <th id=\"T_09e92_level0_row25\" class=\"row_heading level0 row25\" >25</th>\n",
       "                        <td id=\"T_09e92_row25_col0\" class=\"data row25 col0\" >multigenre</td>\n",
       "                        <td id=\"T_09e92_row25_col1\" class=\"data row25 col1\" >0.009968</td>\n",
       "                        <td id=\"T_09e92_row25_col2\" class=\"data row25 col2\" >0.004491</td>\n",
       "                        <td id=\"T_09e92_row25_col3\" class=\"data row25 col3\" >0.003322</td>\n",
       "                        <td id=\"T_09e92_row25_col4\" class=\"data row25 col4\" >0.002411</td>\n",
       "                        <td id=\"T_09e92_row25_col5\" class=\"data row25 col5\" >0.003132</td>\n",
       "                        <td id=\"T_09e92_row25_col6\" class=\"data row25 col6\" >0.023323</td>\n",
       "                        <td id=\"T_09e92_row25_col7\" class=\"data row25 col7\" >0.004665</td>\n",
       "            </tr>\n",
       "            <tr>\n",
       "                        <th id=\"T_09e92_level0_row26\" class=\"row_heading level0 row26\" >26</th>\n",
       "                        <td id=\"T_09e92_row26_col0\" class=\"data row26 col0\" >mode</td>\n",
       "                        <td id=\"T_09e92_row26_col1\" class=\"data row26 col1\" >0.004323</td>\n",
       "                        <td id=\"T_09e92_row26_col2\" class=\"data row26 col2\" >0.004095</td>\n",
       "                        <td id=\"T_09e92_row26_col3\" class=\"data row26 col3\" >0.004686</td>\n",
       "                        <td id=\"T_09e92_row26_col4\" class=\"data row26 col4\" >0.004291</td>\n",
       "                        <td id=\"T_09e92_row26_col5\" class=\"data row26 col5\" >0.003045</td>\n",
       "                        <td id=\"T_09e92_row26_col6\" class=\"data row26 col6\" >0.020439</td>\n",
       "                        <td id=\"T_09e92_row26_col7\" class=\"data row26 col7\" >0.004088</td>\n",
       "            </tr>\n",
       "            <tr>\n",
       "                        <th id=\"T_09e92_level0_row27\" class=\"row_heading level0 row27\" >27</th>\n",
       "                        <td id=\"T_09e92_row27_col0\" class=\"data row27 col0\" >has_feature</td>\n",
       "                        <td id=\"T_09e92_row27_col1\" class=\"data row27 col1\" >0.004710</td>\n",
       "                        <td id=\"T_09e92_row27_col2\" class=\"data row27 col2\" >0.003378</td>\n",
       "                        <td id=\"T_09e92_row27_col3\" class=\"data row27 col3\" >0.002935</td>\n",
       "                        <td id=\"T_09e92_row27_col4\" class=\"data row27 col4\" >0.002884</td>\n",
       "                        <td id=\"T_09e92_row27_col5\" class=\"data row27 col5\" >0.006138</td>\n",
       "                        <td id=\"T_09e92_row27_col6\" class=\"data row27 col6\" >0.020045</td>\n",
       "                        <td id=\"T_09e92_row27_col7\" class=\"data row27 col7\" >0.004009</td>\n",
       "            </tr>\n",
       "            <tr>\n",
       "                        <th id=\"T_09e92_level0_row28\" class=\"row_heading level0 row28\" >28</th>\n",
       "                        <td id=\"T_09e92_row28_col0\" class=\"data row28 col0\" >timesig_indexed</td>\n",
       "                        <td id=\"T_09e92_row28_col1\" class=\"data row28 col1\" >0.001998</td>\n",
       "                        <td id=\"T_09e92_row28_col2\" class=\"data row28 col2\" >0.004784</td>\n",
       "                        <td id=\"T_09e92_row28_col3\" class=\"data row28 col3\" >0.001997</td>\n",
       "                        <td id=\"T_09e92_row28_col4\" class=\"data row28 col4\" >0.000862</td>\n",
       "                        <td id=\"T_09e92_row28_col5\" class=\"data row28 col5\" >0.001389</td>\n",
       "                        <td id=\"T_09e92_row28_col6\" class=\"data row28 col6\" >0.011030</td>\n",
       "                        <td id=\"T_09e92_row28_col7\" class=\"data row28 col7\" >0.002206</td>\n",
       "            </tr>\n",
       "            <tr>\n",
       "                        <th id=\"T_09e92_level0_row29\" class=\"row_heading level0 row29\" >29</th>\n",
       "                        <td id=\"T_09e92_row29_col0\" class=\"data row29 col0\" >genre9_indexed</td>\n",
       "                        <td id=\"T_09e92_row29_col1\" class=\"data row29 col1\" >0.000341</td>\n",
       "                        <td id=\"T_09e92_row29_col2\" class=\"data row29 col2\" >0.000119</td>\n",
       "                        <td id=\"T_09e92_row29_col3\" class=\"data row29 col3\" >0.000985</td>\n",
       "                        <td id=\"T_09e92_row29_col4\" class=\"data row29 col4\" >0.000582</td>\n",
       "                        <td id=\"T_09e92_row29_col5\" class=\"data row29 col5\" >0.008992</td>\n",
       "                        <td id=\"T_09e92_row29_col6\" class=\"data row29 col6\" >0.011020</td>\n",
       "                        <td id=\"T_09e92_row29_col7\" class=\"data row29 col7\" >0.002204</td>\n",
       "            </tr>\n",
       "            <tr>\n",
       "                        <th id=\"T_09e92_level0_row30\" class=\"row_heading level0 row30\" >30</th>\n",
       "                        <td id=\"T_09e92_row30_col0\" class=\"data row30 col0\" >genre10_indexed</td>\n",
       "                        <td id=\"T_09e92_row30_col1\" class=\"data row30 col1\" >0.000271</td>\n",
       "                        <td id=\"T_09e92_row30_col2\" class=\"data row30 col2\" >0.000085</td>\n",
       "                        <td id=\"T_09e92_row30_col3\" class=\"data row30 col3\" >0.000230</td>\n",
       "                        <td id=\"T_09e92_row30_col4\" class=\"data row30 col4\" >0.001347</td>\n",
       "                        <td id=\"T_09e92_row30_col5\" class=\"data row30 col5\" >0.001069</td>\n",
       "                        <td id=\"T_09e92_row30_col6\" class=\"data row30 col6\" >0.003002</td>\n",
       "                        <td id=\"T_09e92_row30_col7\" class=\"data row30 col7\" >0.000600</td>\n",
       "            </tr>\n",
       "            <tr>\n",
       "                        <th id=\"T_09e92_level0_row31\" class=\"row_heading level0 row31\" >31</th>\n",
       "                        <td id=\"T_09e92_row31_col0\" class=\"data row31 col0\" >genre11_indexed</td>\n",
       "                        <td id=\"T_09e92_row31_col1\" class=\"data row31 col1\" >0.000444</td>\n",
       "                        <td id=\"T_09e92_row31_col2\" class=\"data row31 col2\" >0.000037</td>\n",
       "                        <td id=\"T_09e92_row31_col3\" class=\"data row31 col3\" >0.000038</td>\n",
       "                        <td id=\"T_09e92_row31_col4\" class=\"data row31 col4\" >0.000101</td>\n",
       "                        <td id=\"T_09e92_row31_col5\" class=\"data row31 col5\" >0.000018</td>\n",
       "                        <td id=\"T_09e92_row31_col6\" class=\"data row31 col6\" >0.000638</td>\n",
       "                        <td id=\"T_09e92_row31_col7\" class=\"data row31 col7\" >0.000128</td>\n",
       "            </tr>\n",
       "            <tr>\n",
       "                        <th id=\"T_09e92_level0_row32\" class=\"row_heading level0 row32\" >32</th>\n",
       "                        <td id=\"T_09e92_row32_col0\" class=\"data row32 col0\" >genre12_indexed</td>\n",
       "                        <td id=\"T_09e92_row32_col1\" class=\"data row32 col1\" >0.000000</td>\n",
       "                        <td id=\"T_09e92_row32_col2\" class=\"data row32 col2\" >0.000000</td>\n",
       "                        <td id=\"T_09e92_row32_col3\" class=\"data row32 col3\" >0.000000</td>\n",
       "                        <td id=\"T_09e92_row32_col4\" class=\"data row32 col4\" >0.000000</td>\n",
       "                        <td id=\"T_09e92_row32_col5\" class=\"data row32 col5\" >0.000000</td>\n",
       "                        <td id=\"T_09e92_row32_col6\" class=\"data row32 col6\" >0.000000</td>\n",
       "                        <td id=\"T_09e92_row32_col7\" class=\"data row32 col7\" >0.000000</td>\n",
       "            </tr>\n",
       "    </tbody></table>"
      ],
      "text/plain": [
       "<pandas.io.formats.style.Styler at 0x272bfc7fe80>"
      ]
     },
     "execution_count": 1,
     "metadata": {},
     "output_type": "execute_result"
    }
   ],
   "source": [
    "# Feature Importance Analysis - Threshold Color Visualization and Cutoff\n",
    "\n",
    "import pandas as pd\n",
    "df = pd.read_csv(r'C:\\Users\\krishand\\Desktop\\Feature Importances.csv')\n",
    "\n",
    "def highlight_cells(val):\n",
    "    color = 'limegreen' if val > 0.04 else 'yellow' if val < 0.03 else 'orange'\n",
    "    return 'background-color: {}'.format(color)\n",
    "\n",
    "def highlight_sum(val):\n",
    "    color = 'pink' if val >= 0.2 else 'cyan'\n",
    "    return 'background-color: {}'.format(color)\n",
    "\n",
    "def highlight_avg(val):\n",
    "    color = 'pink' if val >= 0.04 else 'cyan'\n",
    "    return 'background-color: {}'.format(color)\n",
    "\n",
    "df.style.applymap(highlight_cells,subset=['2021', '2020','2019','2018','2017']).applymap(highlight_sum,subset=['SUM']).applymap(highlight_avg,subset=['AVERAGE'])"
   ]
  },
  {
   "cell_type": "markdown",
   "metadata": {},
   "source": [
    "### Feature Importances from Random Forest - Insights and Next Steps\n",
    "As mentioned above, Feature Importances were extracted for all 5 Random Forest models (i.e. 2017, 2018, 2019, 2020, 2021). These Feature Importances were used in this project for two things: 1) Insights and 2) Feature Selection for Future Iterations.\n",
    "\n",
    "As can be seen above, there are three features that are clearly \"Most Important\" (relatively speaking): 1) \"Artist Name\" (Average Importance: 10.3%), 2) \"Featured Artist\" (Average Importance: 9.2%), and 3) \"Primary Genre\" (Average Importance: 7.4%). These three features were looked into in greater detail via the Data Exploration completed in my earlier steps via SweetViz, and the following insights were discovered:\n",
    "* **Artist and Featured Artist Branding is Very Important (Lesser-Known Artists are Less Likely to be Top 100)**\n",
    "* **Pop Music is Dominant in the Top 100 (Niche Genres are Less Likely to be Top 100)**\n",
    "* **Popularity of Genres Shift over Time (Population Taste Changes Dictate Which Genres are Predominately Top 100 Year-to-Year)**\n",
    "\n",
    "With regards to Feature Selection, as we saw above, there are 13 Features that exceeded the \"Average Feature Importance >= 4% Threshold\". Despite the strong performances already seen, removing Features that are contributing \"less\" would help eliminate noise and improve overall performance. Future models could benefit from this additional Feature Selection, and this fact was also taken into consideration during the final phase of my capstone project - the implementation of a Binary Classifier using a Deep Learning Framework (detailed below).\n",
    "\n",
    "For reference, we can also see below how the Top 13 Features tend to fluctuate in terms of Importance year-to-year."
   ]
  },
  {
   "cell_type": "code",
   "execution_count": 37,
   "metadata": {},
   "outputs": [
    {
     "data": {
      "text/plain": [
       "(array([0, 1, 2, 3, 4]),\n",
       " [Text(0, 0, '2017'),\n",
       "  Text(1, 0, '2018'),\n",
       "  Text(2, 0, '2019'),\n",
       "  Text(3, 0, '2020'),\n",
       "  Text(4, 0, '2021')])"
      ]
     },
     "execution_count": 37,
     "metadata": {},
     "output_type": "execute_result"
    },
    {
     "data": {
      "image/png": "[encoded data removed]",
      "text/plain": [
       "<Figure size 1440x720 with 1 Axes>"
      ]
     },
     "metadata": {},
     "output_type": "display_data"
    }
   ],
   "source": [
    "# Visualization of Top 13 Feature Importances - Year over Year\n",
    "\n",
    "import pandas as pd\n",
    "import seaborn as sns\n",
    "import matplotlib.pyplot as plt\n",
    "\n",
    "feature_keep = df[df['SUM']>=0.2].melt(id_vars='Feature')\n",
    "feature_keep = feature_keep[feature_keep['variable']!='SUM']\n",
    "\n",
    "# Seaborn Style\n",
    "sns.set(style='whitegrid')\n",
    "\n",
    "# Grouped Bar Chart\n",
    "ax = sns.barplot(x='variable', y='value', hue='Feature', data=feature_keep, palette='Spectral', edgecolor='0.2') \n",
    "\n",
    "sns.set(rc={\"figure.figsize\":(20, 10)})\n",
    "\n",
    "# Add Chart Title\n",
    "plt.title('Feature Importance of Top 13 Features (AVG >= 0.04)', fontsize=16)\n",
    "\n",
    "# Axis Titles\n",
    "plt.xlabel('Dataset Year')\n",
    "plt.ylabel('Feature Importance')\n",
    "plt.legend(bbox_to_anchor=(1.02, 1), loc='upper right', borderaxespad=0)\n",
    "\n",
    "# Rotate Axis Labels\n",
    "plt.xticks(rotation=45)"
   ]
  },
  {
   "cell_type": "markdown",
   "metadata": {},
   "source": [
    "### Deep Learning Approach: Binary Classification via Neural Network Perceptron (Numerical Features Only)\n",
    "As referenced above, to put into practice our teachings on Deep Learning from the IBM Advanced Data Science Specialization, I defined, trained, and evaluated 5 separate Neural Network Binary Classification Perceptron models using the 2017, 2018, 2019, 2020, and 2021 datasets. Using the Feature Importance findings from the Random Forest models above, I removed the bottom 16 features (highlighted in yellow in the table above).\n",
    "\n",
    "Because the remaining categorical features (primary artist, featured artist, primary genre, secondary genre) were all high-cardinality features, I also opted to leave those features out for this particular exercise. This is because One-Hot Encoding those particular features would be incredibly inefficient due to the number of dummy variables it would create. Thus the final set of features used to train the NN models was as follows: energy, danceability, loudness, speechiness, acousticness, liveness, valence, tempo, and duration.\n",
    "\n",
    "In the \"Conclusion + Next Steps\" section below, I detail an approach that I would like to take in future iterations of this project to incorporate these high-cardinality categorical features into the Deep Learning approach as well.\n",
    "\n",
    "The performance metrics of the 5 NN Perceptron Models (AUC) can be observed below (**no overfitting**):\n",
    "<br>**2017 Train:** 86.2%\n",
    "<br>**2017 Test:** 85.4%\n",
    "<br>**2018 Train:** 83.3%\n",
    "<br>**2018 Test:** 83.0%\n",
    "<br>**2019 Train:** 83.3%\n",
    "<br>**2019 Test:** 82.7%\n",
    "<br>**2020 Train:** 82.0%\n",
    "<br>**2020 Test:** 81.1%\n",
    "<br>**2021 Train:** 84.8%\n",
    "<br>**2021 Test:** 83.4%\n",
    "\n",
    "We see that the NN Perceptron approach produced performance numbers quite in line with the Random Forest approach. As mentioned above, in the \"Conclusion + Next Steps\" section below, I will detail the next steps that I would like to take in future iterations of this project to push the performance of my NN models further."
   ]
  },
  {
   "cell_type": "code",
   "execution_count": 9,
   "metadata": {
    "scrolled": true
   },
   "outputs": [
    {
     "name": "stdout",
     "output_type": "stream",
     "text": [
      "/opt/conda/envs/Python-3.7-OpenCE/lib/python3.7/site-packages/secretstorage/dhcrypto.py:16: CryptographyDeprecationWarning: int_from_bytes is deprecated, use int.from_bytes instead\n",
      "  from cryptography.utils import int_from_bytes\n",
      "/opt/conda/envs/Python-3.7-OpenCE/lib/python3.7/site-packages/secretstorage/util.py:25: CryptographyDeprecationWarning: int_from_bytes is deprecated, use int.from_bytes instead\n",
      "  from cryptography.utils import int_from_bytes\n",
      "Requirement already satisfied: tensorflow in /opt/conda/envs/Python-3.7-OpenCE/lib/python3.7/site-packages (2.4.4)\n",
      "Requirement already satisfied: six~=1.15.0 in /opt/conda/envs/Python-3.7-OpenCE/lib/python3.7/site-packages (from tensorflow) (1.15.0)\n",
      "Requirement already satisfied: tensorflow-estimator<2.5.0,>=2.4.0 in /opt/conda/envs/Python-3.7-OpenCE/lib/python3.7/site-packages (from tensorflow) (2.4.0)\n",
      "Collecting grpcio~=1.32.0\n",
      "  Downloading grpcio-1.32.0-cp37-cp37m-manylinux2014_x86_64.whl (3.8 MB)\n",
      "\u001b[K     |████████████████████████████████| 3.8 MB 18.2 MB/s eta 0:00:01\n",
      "\u001b[?25hRequirement already satisfied: google-pasta~=0.2 in /opt/conda/envs/Python-3.7-OpenCE/lib/python3.7/site-packages (from tensorflow) (0.2.0)\n",
      "Requirement already satisfied: astunparse~=1.6.3 in /opt/conda/envs/Python-3.7-OpenCE/lib/python3.7/site-packages (from tensorflow) (1.6.3)\n",
      "Requirement already satisfied: h5py~=2.10.0 in /opt/conda/envs/Python-3.7-OpenCE/lib/python3.7/site-packages (from tensorflow) (2.10.0)\n",
      "Collecting opt-einsum~=3.3.0\n",
      "  Downloading opt_einsum-3.3.0-py3-none-any.whl (65 kB)\n",
      "\u001b[K     |████████████████████████████████| 65 kB 5.1 MB/s  eta 0:00:01\n",
      "\u001b[?25hRequirement already satisfied: numpy~=1.19.2 in /opt/conda/envs/Python-3.7-OpenCE/lib/python3.7/site-packages (from tensorflow) (1.19.2)\n",
      "Requirement already satisfied: protobuf>=3.9.2 in /opt/conda/envs/Python-3.7-OpenCE/lib/python3.7/site-packages (from tensorflow) (3.11.2)\n",
      "Requirement already satisfied: typing-extensions~=3.7.4 in /opt/conda/envs/Python-3.7-OpenCE/lib/python3.7/site-packages (from tensorflow) (3.7.4.2)\n",
      "Requirement already satisfied: wheel~=0.35 in /opt/conda/envs/Python-3.7-OpenCE/lib/python3.7/site-packages (from tensorflow) (0.35.1)\n",
      "Requirement already satisfied: gast==0.3.3 in /opt/conda/envs/Python-3.7-OpenCE/lib/python3.7/site-packages (from tensorflow) (0.3.3)\n",
      "Requirement already satisfied: tensorboard~=2.4 in /opt/conda/envs/Python-3.7-OpenCE/lib/python3.7/site-packages (from tensorflow) (2.4.1)\n",
      "Requirement already satisfied: termcolor~=1.1.0 in /opt/conda/envs/Python-3.7-OpenCE/lib/python3.7/site-packages (from tensorflow) (1.1.0)\n",
      "Requirement already satisfied: absl-py~=0.10 in /opt/conda/envs/Python-3.7-OpenCE/lib/python3.7/site-packages (from tensorflow) (0.10.0)\n",
      "Collecting keras-preprocessing~=1.1.2\n",
      "  Downloading Keras_Preprocessing-1.1.2-py2.py3-none-any.whl (42 kB)\n",
      "\u001b[K     |████████████████████████████████| 42 kB 2.4 MB/s  eta 0:00:01\n",
      "\u001b[?25hCollecting flatbuffers~=1.12.0\n",
      "  Downloading flatbuffers-1.12-py2.py3-none-any.whl (15 kB)\n",
      "Requirement already satisfied: wrapt~=1.12.1 in /opt/conda/envs/Python-3.7-OpenCE/lib/python3.7/site-packages (from tensorflow) (1.12.1)\n",
      "Requirement already satisfied: setuptools in /opt/conda/envs/Python-3.7-OpenCE/lib/python3.7/site-packages (from protobuf>=3.9.2->tensorflow) (47.3.1.post20200622)\n",
      "Requirement already satisfied: google-auth-oauthlib<0.5,>=0.4.1 in /opt/conda/envs/Python-3.7-OpenCE/lib/python3.7/site-packages (from tensorboard~=2.4->tensorflow) (0.4.1)\n",
      "Requirement already satisfied: werkzeug>=0.11.15 in /opt/conda/envs/Python-3.7-OpenCE/lib/python3.7/site-packages (from tensorboard~=2.4->tensorflow) (2.0.1)\n",
      "Requirement already satisfied: google-auth<2,>=1.6.3 in /opt/conda/envs/Python-3.7-OpenCE/lib/python3.7/site-packages (from tensorboard~=2.4->tensorflow) (1.23.0)\n",
      "Requirement already satisfied: tensorboard-plugin-wit>=1.6.0 in /opt/conda/envs/Python-3.7-OpenCE/lib/python3.7/site-packages (from tensorboard~=2.4->tensorflow) (1.6.0)\n",
      "Requirement already satisfied: markdown>=2.6.8 in /opt/conda/envs/Python-3.7-OpenCE/lib/python3.7/site-packages (from tensorboard~=2.4->tensorflow) (3.1.1)\n",
      "Requirement already satisfied: requests<3,>=2.21.0 in /opt/conda/envs/Python-3.7-OpenCE/lib/python3.7/site-packages (from tensorboard~=2.4->tensorflow) (2.25.1)\n",
      "Requirement already satisfied: requests-oauthlib>=0.7.0 in /opt/conda/envs/Python-3.7-OpenCE/lib/python3.7/site-packages (from google-auth-oauthlib<0.5,>=0.4.1->tensorboard~=2.4->tensorflow) (1.3.0)\n",
      "Requirement already satisfied: rsa<5,>=3.1.4; python_version >= \"3.5\" in /opt/conda/envs/Python-3.7-OpenCE/lib/python3.7/site-packages (from google-auth<2,>=1.6.3->tensorboard~=2.4->tensorflow) (4.6)\n",
      "Requirement already satisfied: pyasn1-modules>=0.2.1 in /opt/conda/envs/Python-3.7-OpenCE/lib/python3.7/site-packages (from google-auth<2,>=1.6.3->tensorboard~=2.4->tensorflow) (0.2.8)\n",
      "Requirement already satisfied: cachetools<5.0,>=2.0.0 in /opt/conda/envs/Python-3.7-OpenCE/lib/python3.7/site-packages (from google-auth<2,>=1.6.3->tensorboard~=2.4->tensorflow) (4.1.1)\n",
      "Requirement already satisfied: urllib3<1.27,>=1.21.1 in /opt/conda/envs/Python-3.7-OpenCE/lib/python3.7/site-packages (from requests<3,>=2.21.0->tensorboard~=2.4->tensorflow) (1.26.6)\n",
      "Requirement already satisfied: certifi>=2017.4.17 in /opt/conda/envs/Python-3.7-OpenCE/lib/python3.7/site-packages (from requests<3,>=2.21.0->tensorboard~=2.4->tensorflow) (2021.10.8)\n",
      "Requirement already satisfied: chardet<5,>=3.0.2 in /opt/conda/envs/Python-3.7-OpenCE/lib/python3.7/site-packages (from requests<3,>=2.21.0->tensorboard~=2.4->tensorflow) (3.0.4)\n",
      "Requirement already satisfied: idna<3,>=2.5 in /opt/conda/envs/Python-3.7-OpenCE/lib/python3.7/site-packages (from requests<3,>=2.21.0->tensorboard~=2.4->tensorflow) (2.8)\n",
      "Requirement already satisfied: oauthlib>=3.0.0 in /opt/conda/envs/Python-3.7-OpenCE/lib/python3.7/site-packages (from requests-oauthlib>=0.7.0->google-auth-oauthlib<0.5,>=0.4.1->tensorboard~=2.4->tensorflow) (3.2.0)\n",
      "Requirement already satisfied: pyasn1>=0.1.3 in /opt/conda/envs/Python-3.7-OpenCE/lib/python3.7/site-packages (from rsa<5,>=3.1.4; python_version >= \"3.5\"->google-auth<2,>=1.6.3->tensorboard~=2.4->tensorflow) (0.4.8)\n",
      "Installing collected packages: grpcio, opt-einsum, keras-preprocessing, flatbuffers\n",
      "  Attempting uninstall: grpcio\n",
      "    Found existing installation: grpcio 1.35.0\n",
      "    Uninstalling grpcio-1.35.0:\n",
      "      Successfully uninstalled grpcio-1.35.0\n",
      "  Attempting uninstall: opt-einsum\n",
      "    Found existing installation: opt-einsum 3.1.0\n",
      "    Uninstalling opt-einsum-3.1.0:\n",
      "      Successfully uninstalled opt-einsum-3.1.0\n",
      "  Attempting uninstall: keras-preprocessing\n",
      "    Found existing installation: Keras-Preprocessing 1.1.0\n",
      "    Uninstalling Keras-Preprocessing-1.1.0:\n",
      "      Successfully uninstalled Keras-Preprocessing-1.1.0\n",
      "  Attempting uninstall: flatbuffers\n",
      "    Found existing installation: flatbuffers 20210226132247\n",
      "    Uninstalling flatbuffers-20210226132247:\n",
      "      Successfully uninstalled flatbuffers-20210226132247\n",
      "Successfully installed flatbuffers-1.12 grpcio-1.32.0 keras-preprocessing-1.1.2 opt-einsum-3.3.0\n",
      "2.4.4\n"
     ]
    }
   ],
   "source": [
    "# Setup and Installs - TensorFlow\n",
    "\n",
    "!pip install tensorflow\n",
    "import tensorflow as tf\n",
    "print(tf.__version__)"
   ]
  },
  {
   "cell_type": "markdown",
   "metadata": {},
   "source": [
    "#### Neural Network Components:\n",
    "**Loss Function:** Categorical Cross-Entropy\n",
    "<br>**Optimizer:** Adam\n",
    "<br>**Metric:** Area Under ROC\n",
    "<br>**Number of Dropouts:** 2\n",
    "<br>**Number of Input Dimensions:** 9\n",
    "<br>**Hidden Layer Activation Function:** ReLU\n",
    "<br>**Output Layer Activation Function:** Sigmoid"
   ]
  },
  {
   "cell_type": "code",
   "execution_count": 3,
   "metadata": {},
   "outputs": [
    {
     "name": "stdout",
     "output_type": "stream",
     "text": [
      "Epoch 1/10\n",
      "1095/1095 [==============================] - 2s 1ms/step - loss: 0.6622 - auc: 0.6234\n",
      "Epoch 2/10\n",
      "1095/1095 [==============================] - 1s 1ms/step - loss: 0.5989 - auc: 0.7349\n",
      "Epoch 3/10\n",
      "1095/1095 [==============================] - 1s 1ms/step - loss: 0.5667 - auc: 0.7736\n",
      "Epoch 4/10\n",
      "1095/1095 [==============================] - 1s 1ms/step - loss: 0.5373 - auc: 0.8014\n",
      "Epoch 5/10\n",
      "1095/1095 [==============================] - 1s 1ms/step - loss: 0.5249 - auc: 0.8116\n",
      "Epoch 6/10\n",
      "1095/1095 [==============================] - 1s 1ms/step - loss: 0.5127 - auc: 0.8219\n",
      "Epoch 7/10\n",
      "1095/1095 [==============================] - 1s 1ms/step - loss: 0.5078 - auc: 0.8252\n",
      "Epoch 8/10\n",
      "1095/1095 [==============================] - 1s 1ms/step - loss: 0.4986 - auc: 0.8330\n",
      "Epoch 9/10\n",
      "1095/1095 [==============================] - 1s 1ms/step - loss: 0.4949 - auc: 0.8362\n",
      "Epoch 10/10\n",
      "1095/1095 [==============================] - 1s 1ms/step - loss: 0.4931 - auc: 0.8371\n",
      "274/274 [==============================] - 0s 786us/step - loss: 0.4704 - auc: 0.8545\n"
     ]
    },
    {
     "data": {
      "text/plain": [
       "0.8544936180114746"
      ]
     },
     "execution_count": 3,
     "metadata": {},
     "output_type": "execute_result"
    }
   ],
   "source": [
    "# Imports\n",
    "\n",
    "import numpy as np\n",
    "from tensorflow.keras.models import Sequential\n",
    "from tensorflow.keras.layers import Dense, Dropout\n",
    "from tensorflow.keras.utils import to_categorical\n",
    "from sklearn.model_selection import train_test_split\n",
    "from sklearn import preprocessing\n",
    "\n",
    "# Define Seed\n",
    "seed = 4434\n",
    "np.random.seed(seed)\n",
    "\n",
    "# Label Choice\n",
    "labelchoice = 'binary_performance_bin'\n",
    "\n",
    "# Select Feature and Labels\n",
    "nnselect1 = df_data_1[['energy','danceability','loudness','speechiness','acousticness','liveness','valence','tempo','duration_ms',labelchoice]]\n",
    "nnselect2 = df_data_2[['energy','danceability','loudness','speechiness','acousticness','liveness','valence','tempo','duration_ms',labelchoice]]\n",
    "nnselect3 = df_data_3[['energy','danceability','loudness','speechiness','acousticness','liveness','valence','tempo','duration_ms',labelchoice]]\n",
    "nnselect4 = df_data_4[['energy','danceability','loudness','speechiness','acousticness','liveness','valence','tempo','duration_ms',labelchoice]]\n",
    "nnselect5 = df_data_5[['energy','danceability','loudness','speechiness','acousticness','liveness','valence','tempo','duration_ms',labelchoice]]\n",
    "\n",
    "# Separate Features from Labels\n",
    "\n",
    "x1 = nnselect1.drop(labelchoice, axis = 1)\n",
    "y1 = nnselect1[labelchoice]\n",
    "\n",
    "x2 = nnselect2.drop(labelchoice, axis = 1)\n",
    "y2 = nnselect2[labelchoice]\n",
    "\n",
    "x3 = nnselect3.drop(labelchoice, axis = 1)\n",
    "y3 = nnselect3[labelchoice]\n",
    "\n",
    "x4 = nnselect4.drop(labelchoice, axis = 1)\n",
    "y4 = nnselect4[labelchoice]\n",
    "\n",
    "x5 = nnselect5.drop(labelchoice, axis = 1)\n",
    "y5 = nnselect5[labelchoice]\n",
    "\n",
    "# Scaling Features\n",
    "\n",
    "sc1 = preprocessing.StandardScaler()\n",
    "sc2 = preprocessing.StandardScaler()\n",
    "sc3 = preprocessing.StandardScaler()\n",
    "sc4 = preprocessing.StandardScaler()\n",
    "sc5 = preprocessing.StandardScaler()\n",
    "\n",
    "x1 = pd.DataFrame(sc1.fit_transform(x1))\n",
    "x2 = pd.DataFrame(sc2.fit_transform(x2))\n",
    "x3 = pd.DataFrame(sc3.fit_transform(x3))\n",
    "x4 = pd.DataFrame(sc4.fit_transform(x4))\n",
    "x5 = pd.DataFrame(sc5.fit_transform(x5))\n",
    "\n",
    "# Processing Labels\n",
    "\n",
    "num_classes1 = y1.unique().size\n",
    "num_classes2 = y2.unique().size\n",
    "num_classes3 = y3.unique().size\n",
    "num_classes4 = y4.unique().size\n",
    "num_classes5 = y5.unique().size\n",
    "\n",
    "le1 = preprocessing.LabelEncoder()\n",
    "le2 = preprocessing.LabelEncoder()\n",
    "le3 = preprocessing.LabelEncoder()\n",
    "le4 = preprocessing.LabelEncoder()\n",
    "le5 = preprocessing.LabelEncoder()\n",
    "\n",
    "le1.fit(y1)\n",
    "y1_le = le1.transform(y1)\n",
    "y1_ohe = to_categorical(y1_le)\n",
    "\n",
    "le2.fit(y2)\n",
    "y2_le = le2.transform(y2)\n",
    "y2_ohe = to_categorical(y2_le)\n",
    "\n",
    "le3.fit(y3)\n",
    "y3_le = le3.transform(y3)\n",
    "y3_ohe = to_categorical(y3_le)\n",
    "\n",
    "le4.fit(y4)\n",
    "y4_le = le4.transform(y4)\n",
    "y4_ohe = to_categorical(y4_le)\n",
    "\n",
    "le5.fit(y5)\n",
    "y5_le = le5.transform(y5)\n",
    "y5_ohe = to_categorical(y5_le)\n",
    "\n",
    "# TRAIN, TEST, SPLIT\n",
    "x_train1, x_test1, y_train1, y_test1 = train_test_split(x1.values,y1_ohe, test_size=0.2)\n",
    "x_train2, x_test2, y_train2, y_test2 = train_test_split(x2.values,y2_ohe, test_size=0.2)\n",
    "x_train3, x_test3, y_train3, y_test3 = train_test_split(x3.values,y3_ohe, test_size=0.2)\n",
    "x_train4, x_test4, y_train4, y_test4 = train_test_split(x4.values,y4_ohe, test_size=0.2)\n",
    "x_train5, x_test5, y_train5, y_test5 = train_test_split(x5.values,y5_ohe, test_size=0.2)\n",
    "\n",
    "# Neural Network Structures\n",
    "\n",
    "model1 = Sequential()  # Instantiate Sequential Model\n",
    "model1.add(Dense(18, input_dim=9, activation='relu')) # Input Layer\n",
    "model1.add(Dense(36, activation='relu')) # 1st Dense Layer\n",
    "model1.add(Dropout(0.1)) # 1st Dropout for Regularization\n",
    "model1.add(Dense(72, activation='relu')) # 2nd Dense Layer\n",
    "model1.add(Dropout(0.2)) # 2nd Dropout for Regularization\n",
    "model1.add(Dense(num_classes1, activation='sigmoid')) # Binary Output via Sigmoid Activation Function\n",
    "model1.compile(loss='categorical_crossentropy', optimizer='adam', metrics=['AUC']) # Define Loss Function, Optimizer, Metric\n",
    "    \n",
    "model2 = Sequential()  # Instantiate Sequential Model\n",
    "model2.add(Dense(18, input_dim=9, activation='relu')) # Input Layer\n",
    "model2.add(Dense(36, activation='relu')) # 1st Dense Layer\n",
    "model2.add(Dropout(0.1)) # 1st Dropout for Regularization\n",
    "model2.add(Dense(72, activation='relu')) # 2nd Dense Layer\n",
    "model2.add(Dropout(0.2)) # 2nd Dropout for Regularization\n",
    "model2.add(Dense(num_classes2, activation='sigmoid')) # Binary Output via Sigmoid Activation Function\n",
    "model2.compile(loss='categorical_crossentropy', optimizer='adam', metrics=['AUC']) # Define Loss Function, Optimizer, Metric\n",
    "\n",
    "model3 = Sequential()  # Instantiate Sequential Model\n",
    "model3.add(Dense(18, input_dim=9, activation='relu')) # Input Layer\n",
    "model3.add(Dense(36, activation='relu')) # 1st Dense Layer\n",
    "model3.add(Dropout(0.1)) # 1st Dropout for Regularization\n",
    "model3.add(Dense(72, activation='relu')) # 2nd Dense Layer\n",
    "model3.add(Dropout(0.2)) # 2nd Dropout for Regularization\n",
    "model3.add(Dense(num_classes1, activation='sigmoid')) # Binary Output via Sigmoid Activation Function\n",
    "model3.compile(loss='categorical_crossentropy', optimizer='adam', metrics=['AUC']) # Define Loss Function, Optimizer, Metric\n",
    "\n",
    "model4 = Sequential()  # Instantiate Sequential Model\n",
    "model4.add(Dense(18, input_dim=9, activation='relu')) # Input Layer\n",
    "model4.add(Dense(36, activation='relu')) # 1st Dense Layer\n",
    "model4.add(Dropout(0.1)) # 1st Dropout for Regularization\n",
    "model4.add(Dense(72, activation='relu')) # 2nd Dense Layer\n",
    "model4.add(Dropout(0.2)) # 2nd Dropout for Regularization\n",
    "model4.add(Dense(num_classes4, activation='sigmoid')) # Binary Output via Sigmoid Activation Function\n",
    "model4.compile(loss='categorical_crossentropy', optimizer='adam', metrics=['AUC']) # Define Loss Function, Optimizer, Metric\n",
    "\n",
    "model5 = Sequential()  # Instantiate Sequential Model\n",
    "model5.add(Dense(18, input_dim=9, activation='relu')) # Input Layer\n",
    "model5.add(Dense(36, activation='relu')) # 1st Dense Layer\n",
    "model5.add(Dropout(0.1)) # 1st Dropout for Regularization\n",
    "model5.add(Dense(72, activation='relu')) # 2nd Dense Layer\n",
    "model5.add(Dropout(0.2)) # 2nd Dropout for Regularization\n",
    "model5.add(Dense(num_classes5, activation='sigmoid')) # Binary Output via Sigmoid Activation Function\n",
    "model5.compile(loss='categorical_crossentropy', optimizer='adam', metrics=['AUC']) # Define Loss Function, Optimizer, Metric\n",
    "    \n",
    "# Evaluating 2017 Model on Test Set\n",
    "\n",
    "model1.fit(x_train1,y_train1,epochs=10,verbose=1)\n",
    "score = model1.evaluate(x_test1,y_test1)\n",
    "score[1]"
   ]
  },
  {
   "cell_type": "code",
   "execution_count": 4,
   "metadata": {},
   "outputs": [
    {
     "name": "stdout",
     "output_type": "stream",
     "text": [
      "1095/1095 [==============================] - 1s 916us/step - loss: 0.4591 - auc: 0.8623\n"
     ]
    },
    {
     "data": {
      "text/plain": [
       "0.8622719049453735"
      ]
     },
     "execution_count": 4,
     "metadata": {},
     "output_type": "execute_result"
    }
   ],
   "source": [
    "# Evaluating 2017 Model on Training Set\n",
    "\n",
    "score = model1.evaluate(x_train1,y_train1)\n",
    "score[1]"
   ]
  },
  {
   "cell_type": "markdown",
   "metadata": {},
   "source": [
    "#### 2018 Model"
   ]
  },
  {
   "cell_type": "code",
   "execution_count": 5,
   "metadata": {},
   "outputs": [
    {
     "name": "stdout",
     "output_type": "stream",
     "text": [
      "Epoch 1/10\n",
      "1064/1064 [==============================] - 2s 1ms/step - loss: 0.6598 - auc: 0.6290\n",
      "Epoch 2/10\n",
      "1064/1064 [==============================] - 1s 1ms/step - loss: 0.6017 - auc: 0.7258\n",
      "Epoch 3/10\n",
      "1064/1064 [==============================] - 1s 1ms/step - loss: 0.5745 - auc: 0.7590\n",
      "Epoch 4/10\n",
      "1064/1064 [==============================] - 1s 1ms/step - loss: 0.5606 - auc: 0.7751\n",
      "Epoch 5/10\n",
      "1064/1064 [==============================] - 1s 1ms/step - loss: 0.5486 - auc: 0.7869\n",
      "Epoch 6/10\n",
      "1064/1064 [==============================] - 1s 1ms/step - loss: 0.5396 - auc: 0.7958\n",
      "Epoch 7/10\n",
      "1064/1064 [==============================] - 1s 1ms/step - loss: 0.5353 - auc: 0.7999\n",
      "Epoch 8/10\n",
      "1064/1064 [==============================] - 1s 1ms/step - loss: 0.5314 - auc: 0.8028\n",
      "Epoch 9/10\n",
      "1064/1064 [==============================] - 1s 1ms/step - loss: 0.5266 - auc: 0.8061\n",
      "Epoch 10/10\n",
      "1064/1064 [==============================] - 1s 1ms/step - loss: 0.5182 - auc: 0.8146\n",
      "266/266 [==============================] - 0s 839us/step - loss: 0.5021 - auc: 0.8302\n"
     ]
    },
    {
     "data": {
      "text/plain": [
       "0.8302419185638428"
      ]
     },
     "execution_count": 5,
     "metadata": {},
     "output_type": "execute_result"
    }
   ],
   "source": [
    "# Evaluating 2018 Model on Test Set\n",
    "\n",
    "model2.fit(x_train2,y_train2,epochs=10,verbose=1)\n",
    "score = model2.evaluate(x_test2,y_test2)\n",
    "score[1]"
   ]
  },
  {
   "cell_type": "code",
   "execution_count": 6,
   "metadata": {},
   "outputs": [
    {
     "name": "stdout",
     "output_type": "stream",
     "text": [
      "1064/1064 [==============================] - 1s 873us/step - loss: 0.4982 - auc: 0.8331\n"
     ]
    },
    {
     "data": {
      "text/plain": [
       "0.8331300020217896"
      ]
     },
     "execution_count": 6,
     "metadata": {},
     "output_type": "execute_result"
    }
   ],
   "source": [
    "# Evaluating 2018 Model on Training Set\n",
    "\n",
    "score = model2.evaluate(x_train2,y_train2)\n",
    "score[1]"
   ]
  },
  {
   "cell_type": "markdown",
   "metadata": {},
   "source": [
    "#### 2019 Model"
   ]
  },
  {
   "cell_type": "code",
   "execution_count": 7,
   "metadata": {},
   "outputs": [
    {
     "name": "stdout",
     "output_type": "stream",
     "text": [
      "Epoch 1/10\n",
      "982/982 [==============================] - 2s 1ms/step - loss: 0.6602 - auc: 0.6318\n",
      "Epoch 2/10\n",
      "982/982 [==============================] - 1s 1ms/step - loss: 0.6092 - auc: 0.7174\n",
      "Epoch 3/10\n",
      "982/982 [==============================] - 1s 1ms/step - loss: 0.5830 - auc: 0.7505\n",
      "Epoch 4/10\n",
      "982/982 [==============================] - 1s 1ms/step - loss: 0.5584 - auc: 0.7775A: 1s - loss: \n",
      "Epoch 5/10\n",
      "982/982 [==============================] - 1s 1ms/step - loss: 0.5500 - auc: 0.7849\n",
      "Epoch 6/10\n",
      "982/982 [==============================] - 1s 1ms/step - loss: 0.5409 - auc: 0.7935\n",
      "Epoch 7/10\n",
      "982/982 [==============================] - 1s 1ms/step - loss: 0.5356 - auc: 0.7975\n",
      "Epoch 8/10\n",
      "982/982 [==============================] - 1s 1ms/step - loss: 0.5267 - auc: 0.8061\n",
      "Epoch 9/10\n",
      "982/982 [==============================] - 1s 1ms/step - loss: 0.5280 - auc: 0.8047\n",
      "Epoch 10/10\n",
      "982/982 [==============================] - 1s 1ms/step - loss: 0.5168 - auc: 0.8143\n",
      "246/246 [==============================] - 0s 867us/step - loss: 0.5044 - auc: 0.8270\n"
     ]
    },
    {
     "data": {
      "text/plain": [
       "0.8270381093025208"
      ]
     },
     "execution_count": 7,
     "metadata": {},
     "output_type": "execute_result"
    }
   ],
   "source": [
    "# Evaluating 2019 Model on Test Set\n",
    "\n",
    "model3.fit(x_train3,y_train3,epochs=10,verbose=1)\n",
    "score = model3.evaluate(x_test3,y_test3)\n",
    "score[1]"
   ]
  },
  {
   "cell_type": "code",
   "execution_count": 8,
   "metadata": {},
   "outputs": [
    {
     "name": "stdout",
     "output_type": "stream",
     "text": [
      "982/982 [==============================] - 1s 973us/step - loss: 0.4963 - auc: 0.8332\n"
     ]
    },
    {
     "data": {
      "text/plain": [
       "0.8332493305206299"
      ]
     },
     "execution_count": 8,
     "metadata": {},
     "output_type": "execute_result"
    }
   ],
   "source": [
    "# Evaluating 2019 Model on Training Set\n",
    "\n",
    "score = model3.evaluate(x_train3,y_train3)\n",
    "score[1]"
   ]
  },
  {
   "cell_type": "markdown",
   "metadata": {},
   "source": [
    "#### 2020 Model"
   ]
  },
  {
   "cell_type": "code",
   "execution_count": 9,
   "metadata": {},
   "outputs": [
    {
     "name": "stdout",
     "output_type": "stream",
     "text": [
      "Epoch 1/10\n",
      "908/908 [==============================] - 2s 1ms/step - loss: 0.6667 - auc: 0.6229\n",
      "Epoch 2/10\n",
      "908/908 [==============================] - 1s 1ms/step - loss: 0.6321 - auc: 0.6902\n",
      "Epoch 3/10\n",
      "908/908 [==============================] - 1s 1ms/step - loss: 0.6007 - auc: 0.7341\n",
      "Epoch 4/10\n",
      "908/908 [==============================] - 1s 1ms/step - loss: 0.5824 - auc: 0.7565\n",
      "Epoch 5/10\n",
      "908/908 [==============================] - 1s 1ms/step - loss: 0.5685 - auc: 0.7706\n",
      "Epoch 6/10\n",
      "908/908 [==============================] - 1s 1ms/step - loss: 0.5600 - auc: 0.7797\n",
      "Epoch 7/10\n",
      "908/908 [==============================] - 1s 1ms/step - loss: 0.5577 - auc: 0.7789\n",
      "Epoch 8/10\n",
      "908/908 [==============================] - 1s 1ms/step - loss: 0.5524 - auc: 0.7855\n",
      "Epoch 9/10\n",
      "908/908 [==============================] - 1s 1ms/step - loss: 0.5523 - auc: 0.7879\n",
      "Epoch 10/10\n",
      "908/908 [==============================] - 1s 1ms/step - loss: 0.5415 - auc: 0.7969\n",
      "227/227 [==============================] - 0s 889us/step - loss: 0.5246 - auc: 0.8111\n"
     ]
    },
    {
     "data": {
      "text/plain": [
       "0.8111111521720886"
      ]
     },
     "execution_count": 9,
     "metadata": {},
     "output_type": "execute_result"
    }
   ],
   "source": [
    "# Evaluating 2020 Model on Test Set\n",
    "\n",
    "model4.fit(x_train4,y_train4,epochs=10,verbose=1)\n",
    "score = model4.evaluate(x_test4,y_test4)\n",
    "score[1]"
   ]
  },
  {
   "cell_type": "code",
   "execution_count": 10,
   "metadata": {},
   "outputs": [
    {
     "name": "stdout",
     "output_type": "stream",
     "text": [
      "908/908 [==============================] - 1s 864us/step - loss: 0.5160 - auc: 0.8204\n"
     ]
    },
    {
     "data": {
      "text/plain": [
       "0.8203873634338379"
      ]
     },
     "execution_count": 10,
     "metadata": {},
     "output_type": "execute_result"
    }
   ],
   "source": [
    "# Evaluating 2020 Model on Training Set\n",
    "\n",
    "score = model4.evaluate(x_train4,y_train4)\n",
    "score[1]"
   ]
  },
  {
   "cell_type": "markdown",
   "metadata": {},
   "source": [
    "#### 2021 Model"
   ]
  },
  {
   "cell_type": "code",
   "execution_count": 11,
   "metadata": {},
   "outputs": [
    {
     "name": "stdout",
     "output_type": "stream",
     "text": [
      "Epoch 1/10\n",
      "776/776 [==============================] - 1s 1ms/step - loss: 0.6546 - auc: 0.6293\n",
      "Epoch 2/10\n",
      "776/776 [==============================] - 1s 1ms/step - loss: 0.5971 - auc: 0.7328\n",
      "Epoch 3/10\n",
      "776/776 [==============================] - 1s 1ms/step - loss: 0.5737 - auc: 0.7610\n",
      "Epoch 4/10\n",
      "776/776 [==============================] - 1s 1ms/step - loss: 0.5545 - auc: 0.7815\n",
      "Epoch 5/10\n",
      "776/776 [==============================] - 1s 1ms/step - loss: 0.5445 - auc: 0.7916\n",
      "Epoch 6/10\n",
      "776/776 [==============================] - 1s 1ms/step - loss: 0.5304 - auc: 0.8051\n",
      "Epoch 7/10\n",
      "776/776 [==============================] - 1s 1ms/step - loss: 0.5235 - auc: 0.8103\n",
      "Epoch 8/10\n",
      "776/776 [==============================] - 1s 1ms/step - loss: 0.5174 - auc: 0.8169\n",
      "Epoch 9/10\n",
      "776/776 [==============================] - 1s 1ms/step - loss: 0.5098 - auc: 0.8225\n",
      "Epoch 10/10\n",
      "776/776 [==============================] - 1s 1ms/step - loss: 0.5059 - auc: 0.8267\n",
      "194/194 [==============================] - 0s 849us/step - loss: 0.4966 - auc: 0.8342\n"
     ]
    },
    {
     "data": {
      "text/plain": [
       "0.8341846466064453"
      ]
     },
     "execution_count": 11,
     "metadata": {},
     "output_type": "execute_result"
    }
   ],
   "source": [
    "# Evaluating 2021 Model on Test Set\n",
    "\n",
    "model5.fit(x_train5,y_train5,epochs=10,verbose=1)\n",
    "score = model5.evaluate(x_test5,y_test5)\n",
    "score[1]"
   ]
  },
  {
   "cell_type": "code",
   "execution_count": 12,
   "metadata": {},
   "outputs": [
    {
     "name": "stdout",
     "output_type": "stream",
     "text": [
      "776/776 [==============================] - 1s 863us/step - loss: 0.4796 - auc: 0.8476\n"
     ]
    },
    {
     "data": {
      "text/plain": [
       "0.8475856781005859"
      ]
     },
     "execution_count": 12,
     "metadata": {},
     "output_type": "execute_result"
    }
   ],
   "source": [
    "# Evaluating 2021 Model on Training Set\n",
    "\n",
    "score = model5.evaluate(x_train5,y_train5)\n",
    "score[1]"
   ]
  },
  {
   "cell_type": "markdown",
   "metadata": {},
   "source": [
    "### Visualization of Model Training and Evaluation Performance (AUC)\n",
    "The following visualization shows an overall picture of the performance of each model on each dataset. It includes the intial SVM Baseline Models, Final RF 70-30 Models, NN Perceptron Models, and also the Tuned RF Proof of Concept."
   ]
  },
  {
   "cell_type": "code",
   "execution_count": 3,
   "metadata": {},
   "outputs": [
    {
     "data": {
      "image/png": "[encoded data removed]",
      "text/plain": [
       "<Figure size 1008x324 with 1 Axes>"
      ]
     },
     "metadata": {},
     "output_type": "display_data"
    }
   ],
   "source": [
    "# Visualization of Model Training and Evaluation Performance\n",
    "\n",
    "import pandas as pd\n",
    "import seaborn as sns\n",
    "import matplotlib.pyplot as plt\n",
    "\n",
    "dfvis = pd.DataFrame({'Dataset': ['2017 Train','2017 Test','2017 Train','2017 Test','2017 Train','2017 Test','2017 Train','2017 Test','2018 Train','2018 Test','2018 Train','2018 Test','2019 Train','2019 Test','2019 Train','2019 Test','2019 Train','2019 Test','2020 Train','2020 Test','2020 Train','2020 Test','2021 Train','2021 Test','2021 Train','2021 Test','2021 Train','2021 Test'],\n",
    "                   'Model': ['SVM Baseline','SVM Baseline','RF 70-30','RF 70-30','NN Perceptron','NN Perceptron','RF Tuned','RF Tuned','RF 70-30','RF 70-30','NN Perceptron','NN Perceptron','RF 70-30','RF 70-30','NN Perceptron','NN Perceptron','SVM Baseline','SVM Baseline','RF 70-30','RF 70-30','NN Perceptron','NN Perceptron','SVM Baseline','SVM Baseline','RF 70-30','RF 70-30','NN Perceptron','NN Perceptron'],\n",
    "                   'Score': [57.0,56.7,86.1,85.2,86.2,85.4,87.6,87.2,84.3,83.4,83.3,83.0,83.9,82.5,83.3,82.7,56.9,56.8,81.7,80.4,82.0,81.1,55.4,53.8,84.8,83.5,84.8,83.4],\n",
    "                   })\n",
    "# Seaborn Style\n",
    "sns.set(style='whitegrid')\n",
    "\n",
    "# Grouped Bar Chart\n",
    "ax = sns.barplot(x='Dataset', y='Score', hue='Model', data=dfvis, palette='Pastel2', edgecolor='0.2') \n",
    "\n",
    "sns.set(rc={\"figure.figsize\":(14, 4.5)})\n",
    "\n",
    "# Add Chart Title\n",
    "plt.title('Model Training + Evaluation - AUC Performance', fontsize=16)\n",
    "\n",
    "# Axis Titles\n",
    "plt.xlabel('Dataset')\n",
    "plt.ylabel('AUC %')\n",
    "plt.ylim(0, 100)\n",
    "plt.legend(bbox_to_anchor=(1.01, 1), loc='upper left', borderaxespad=0)\n",
    "\n",
    "# Rotate Axis Labels\n",
    "plt.xticks(rotation=45)\n",
    "\n",
    "# Bar Labels\n",
    "for container in ax.containers:\n",
    "    ax.bar_label(container, fmt='%.1f%%',label_type='center',rotation=90)"
   ]
  },
  {
   "cell_type": "markdown",
   "metadata": {},
   "source": [
    "### Conclusion + Next Steps\n",
    "In conclusion, we saw that both the final Random Forest models and the final NN Perceptron models achieved AUC performance metrics above the goal threshold of 80%. As with any project, there are always things that could be improved upon for future iterations, and I've listed the approaches that I would like to take for my future iterations of this project below:\n",
    "* 1) Firstly, I would like to re-factor my code for the Random Forest models and Hyperparameter Tuning so that they are functional on Python 3.9+ without compatability errors. This would allow me to spin up powerful parallelized environments on IBM Watson Studio to execute my code.\n",
    "* 2) Secondly, once my code is compatible with Python 3.9+, I would like to incorporate the Feature Selection that I had identified above. I.e. down-selecting to include only the following features: primary artist, featured artist, primary genre, secondary genre, energy, danceability, loudness, speechiness, acousticness, liveness, valence, tempo, and duration. This would allow me to remove the noise that comes with the \"less important\" features, while maintaining SparkML's Random Forest Implementation's powerful ability to handle High-Cardinality Categorical Features. I anticipate these changes will bring further performance increases.\n",
    "* 3) Thirdly, I would like to incorporate the High-Cardinality Categorical Features into the NN Perceptron Models via clever use of Embedding Layers. Embedding would allow these High-Cardinality Categorical Features to be encoded into a relatively smaller dimensional space (compared to One-Hot Encoding). This would make it much more effective and efficient to incorporate these features, and it would further increase performance by unlocking the predictive power of these features.\n",
    "\n",
    "**Looking back, this capstone project was an incredible learning journey for me to put into practice the learnings from the IBM Advanced Data Science Specialization. I am very proud of the problems that I was able to solve along the way, and the expertise that I was able to hone during the process. Thank you so much IBM Team for such a great experience and course! - Krishan Deo**"
   ]
  }
 ],
 "metadata": {
  "kernelspec": {
   "display_name": "Python 3",
   "language": "python",
   "name": "python3"
  },
  "language_info": {
   "codemirror_mode": {
    "name": "ipython",
    "version": 3
   },
   "file_extension": ".py",
   "mimetype": "text/x-python",
   "name": "python",
   "nbconvert_exporter": "python",
   "pygments_lexer": "ipython3",
   "version": "3.7.3"
  },
  "latex_envs": {
   "LaTeX_envs_menu_present": true,
   "autoclose": false,
   "autocomplete": true,
   "bibliofile": "biblio.bib",
   "cite_by": "apalike",
   "current_citInitial": 1,
   "eqLabelWithNumbers": true,
   "eqNumInitial": 1,
   "hotkeys": {
    "equation": "Ctrl-E",
    "itemize": "Ctrl-I"
   },
   "labels_anchors": false,
   "latex_user_defs": false,
   "report_style_numbering": false,
   "user_envs_cfg": false
  }
 },
 "nbformat": 4,
 "nbformat_minor": 1
}
